{
 "cells": [
  {
   "cell_type": "code",
   "execution_count": null,
   "metadata": {},
   "outputs": [],
   "source": [
    "%pylab inline"
   ]
  },
  {
   "cell_type": "code",
   "execution_count": null,
   "metadata": {},
   "outputs": [],
   "source": [
    "np.set_printoptions(linewidth=120)\n",
    "plt.rcParams[\"figure.figsize\"] = (18,10)\n",
    "plt.rcParams[\"legend.loc\"] = \"lower right\"\n",
    "\n",
    "import os\n",
    "base_dir = '/local/scratch/toolkit/'\n",
    "os.environ['EXOT_ACCESS_DIR'] = str(base_dir + \"benchmark_platforms_access/\")\n",
    "os.chdir(base_dir + 'datapro')\n",
    "print(\"Working directory: \" + str(os.getcwd()))\n",
    "print(\"Key directory set to: \" + str(os.environ['EXOT_ACCESS_DIR']))\n",
    "\n",
    "import toml    as TOML              # TOML library to handle config files\n",
    "import pandas  as pd                # Pandas for data manipulation\n",
    "import seaborn as sb                # Statistical data visualisation\n",
    "import pathlib as PATH              # Used to convert strings to path objects for (de-)serialisation\n",
    "import types   as tp                # Library used for online method development\n",
    "\n",
    "# scikit-learn packets\n",
    "import sklearn.base                 #\n",
    "import sklearn.svm                  # LinearSVC, SVC\n",
    "import sklearn.pipeline             # make_pipeline\n",
    "import sklearn.preprocessing        # StandardScaler\n",
    "import sklearn.decomposition        # PCA\n",
    "import sklearn.naive_bayes          # GaussianNB\n",
    "import sklearn.metrics              # CM\n",
    "\n",
    "# Toolkit packets\n",
    "import exot                       # Dataprocessing\n",
    "import exot.experiment            # Experiment for execution\n",
    "import exot.util                  # General utilities\n",
    "import exot.layer                 # Data manipulation layers\n",
    "from exot.util       import *\n",
    "from exot.layer      import *\n",
    "from exot.channel    import *\n",
    "from exot.experiment import *\n",
    "\n",
    "# Plotting\n",
    "from exot.plotting.experiment_plotter import *\n",
    "from exot.plotting.run_plotter        import *"
   ]
  },
  {
   "cell_type": "code",
   "execution_count": null,
   "metadata": {},
   "outputs": [],
   "source": [
    "TEST   = False\n",
    "UPDATE = True\n",
    "RESUME = True"
   ]
  },
  {
   "cell_type": "code",
   "execution_count": null,
   "metadata": {},
   "outputs": [],
   "source": [
    "environments_to_execute = [\n",
    "#    'ARMv7',\n",
    "    'ARMv8',\n",
    "#    'Haswell',\n",
    "#    'Sandy',\n",
    "]\n",
    "\n",
    "phases_cache = {\n",
    "    'ARMv8':{'test':['trainShortARMv8','evalShortARMv8'],\n",
    "               'normal':['trainARMv8','evalARMv8']},\n",
    "    'Haswell':{'test':['trainShortHaswell','evalShortHaswell'],\n",
    "               'normal':['trainHaswell','evalHaswell']}\n",
    "}\n",
    "\n",
    "phases_power = {\n",
    "    'Sandy':{'normal':['train','eval'], 'test':['trainTest','evalTest']},\n",
    "    'Haswell':{'normal':['train','eval'], 'test':['trainTest','evalTest']},\n",
    "}\n",
    "\n",
    "phases_capacity= {\n",
    "    'ARMv7':{'normal':['sweepARMv7'], 'test':['test']},\n",
    "    'ARMv8':{'normal':['sweepARMv8'], 'test':['test']},\n",
    "    'Haswell':{'normal':['sweepHaswell'], 'test':['test']},\n",
    "    'Sandy':{'normal':['sweepSandy'], 'test':['test']},\n",
    "}\n",
    "\n",
    "phases_thermal = {\n",
    "    'Sandy':{'normal':['train','eval'], 'test':['trainTest','evalTest']},\n",
    "    'Haswell':{'normal':['train','eval'], 'test':['trainTest','evalTest']},\n",
    "    'ARMv8':{'normal':['train','eval'], 'test':['trainTest','evalTest']},\n",
    "    'ARMv7':{'normal':['train','eval'], 'test':['trainTest','evalTest']},\n",
    "}"
   ]
  },
  {
   "cell_type": "code",
   "execution_count": null,
   "metadata": {},
   "outputs": [],
   "source": [
    "raise Exception(\"Are you sure?!\")"
   ]
  },
  {
   "cell_type": "markdown",
   "metadata": {},
   "source": [
    "### Cache capacity"
   ]
  },
  {
   "cell_type": "code",
   "execution_count": null,
   "metadata": {},
   "outputs": [],
   "source": [
    "experiment = ExploratoryExperiment.read(Path(\"./data/cache-cc_capacity/_experiment.pickle\"))\n",
    "\n",
    "experiment.config[\"EXPERIMENT\"][\"PHASES\"][\"run\"] = {}\n",
    "experiment.config[\"EXPERIMENT\"][\"PHASES\"][\"run\"][\"repetitions\"] = 1\n",
    "experiment.config[\"EXPERIMENT\"][\"PHASES\"][\"run\"][\"rdpstreams\"] = [\n",
    "    pandas.DataFrame({\"timestamp\": np.arange(0, 5), \"value\": np.arange(0, 5)})\n",
    "]\n",
    "experiment.execute_in_environment(env, ['run'], resume=UPDATE and RESUME)"
   ]
  },
  {
   "cell_type": "markdown",
   "metadata": {},
   "source": [
    "### Cache performance"
   ]
  },
  {
   "cell_type": "code",
   "execution_count": null,
   "metadata": {
    "scrolled": true
   },
   "outputs": [],
   "source": [
    "for experiment_cache_path in [\n",
    "    \"data/flush+flush-cc_performance/_experiment.pickle\",\n",
    "    \"data/flush+reload-cc_performance/_experiment.pickle\",\n",
    "    \"data/flush+prefetch-cc_performance/_experiment.pickle\",\n",
    "    \"data/flush+flush-cc_interference/_experiment.pickle\",\n",
    "    \"data/flush+reload-cc_interference/_experiment.pickle\",\n",
    "    \"data/flush+prefetch-cc_interference/_experiment.pickle\"\n",
    "]:\n",
    "    try:\n",
    "        path_to_serialised_experiment = PATH.Path(experiment_cache_path)\n",
    "        experiment_cache = PerformanceExperiment.read(path_to_serialised_experiment, diff_and_replace=True)\n",
    "        try:\n",
    "            experiment_cache.logger.parent.handlers[0].setLevel(20)\n",
    "        except:\n",
    "            pass\n",
    "        if UPDATE:\n",
    "            experiment_cache.config.experiment_exists_action = \"update\"\n",
    "        experiment_cache.infer_execution_status()\n",
    "        for env in environments_to_execute:\n",
    "            experiment_cache.execute_in_environment(\n",
    "                env,\n",
    "                phases_cache[env]['test' if TEST else 'normal'],\n",
    "                resume=UPDATE and RESUME\n",
    "            )\n",
    "        experiment_cache.write()\n",
    "    except Exception as e:\n",
    "        print(\"ERROR - \", experiment_cache_path, str(e))\n",
    "        !ssh -i /local/scratch/toolkit/benchmark_platforms_access/id_ed25519 exot@Gimli \"sudo reboot\"\n",
    "        !sleep 3m"
   ]
  },
  {
   "cell_type": "markdown",
   "metadata": {},
   "source": [
    "### Thermal capacity"
   ]
  },
  {
   "cell_type": "code",
   "execution_count": null,
   "metadata": {
    "scrolled": true
   },
   "outputs": [],
   "source": [
    "for experiment_thermal_path in [\n",
    "    \"data/thermal-cc_capacity/_experiment.pickle\",\n",
    "]:\n",
    "    try:\n",
    "        path_to_serialised_experiment = PATH.Path(experiment_thermal_path)\n",
    "        experiment_thermal = FrequencySweepExperiment.read(path_to_serialised_experiment, diff_and_replace=True)\n",
    "        try:\n",
    "            experiment_thermal.logger.parent.handlers[0].setLevel(20)\n",
    "        except:\n",
    "            pass\n",
    "        if UPDATE:\n",
    "            experiment_thermal.config.experiment_exists_action = \"update\"\n",
    "        experiment_thermal.infer_execution_status()\n",
    "        for env in environments_to_execute:\n",
    "            experiment_thermal.execute_in_environment(\n",
    "                env,\n",
    "                phases_capacity[env]['test' if TEST else 'normal'],\n",
    "                resume=UPDATE and RESUME\n",
    "            )\n",
    "        experiment_thermal.write()\n",
    "    except Exception as e:\n",
    "        print(\"ERROR - \", experiment_thermal_path, str(e))"
   ]
  },
  {
   "cell_type": "markdown",
   "metadata": {},
   "source": [
    "### Thermal performance"
   ]
  },
  {
   "cell_type": "code",
   "execution_count": null,
   "metadata": {},
   "outputs": [],
   "source": [
    "for experiment_thermal_path in [ \n",
    "    \"data/thermal-cc_performance_masti/_experiment.pickle\",\n",
    "    \"data/thermal-cc_interference/_experiment.pickle\",\n",
    "    \"data/thermal-cc_performance/_experiment.pickle\",\n",
    "]:\n",
    "    try:\n",
    "        path_to_serialised_experiment = PATH.Path(experiment_thermal_path)\n",
    "        experiment_thermal = PerformanceExperiment.read(path_to_serialised_experiment, diff_and_replace=False)\n",
    "        try:\n",
    "            experiment_thermal.logger.parent.handlers[0].setLevel(20)\n",
    "        except:\n",
    "            pass\n",
    "        if UPDATE:\n",
    "            experiment_thermal.config.experiment_exists_action = \"update\"\n",
    "        experiment_thermal.infer_execution_status()\n",
    "        for env in environments_to_execute:\n",
    "            experiment_thermal.execute_in_environment(\n",
    "                env,\n",
    "                phases_thermal[env]['test' if TEST else 'normal'],\n",
    "                resume=UPDATE and RESUME\n",
    "            )\n",
    "        experiment_thermal.write()\n",
    "    except Exception as e:\n",
    "        print(\"ERROR - \", experiment_thermal_path, str(e))"
   ]
  }
 ],
 "metadata": {
  "kernelspec": {
   "display_name": "Python 3",
   "language": "python",
   "name": "python3"
  },
  "language_info": {
   "codemirror_mode": {
    "name": "ipython",
    "version": 3
   },
   "file_extension": ".py",
   "mimetype": "text/x-python",
   "name": "python",
   "nbconvert_exporter": "python",
   "pygments_lexer": "ipython3",
   "version": "3.7.2"
  }
 },
 "nbformat": 4,
 "nbformat_minor": 2
}
