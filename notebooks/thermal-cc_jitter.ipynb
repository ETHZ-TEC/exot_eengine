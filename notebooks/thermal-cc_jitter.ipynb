{
 "cells": [
  {
   "cell_type": "code",
   "execution_count": 1,
   "metadata": {},
   "outputs": [
    {
     "name": "stdout",
     "output_type": "stream",
     "text": [
      "Populating the interactive namespace from numpy and matplotlib\n"
     ]
    }
   ],
   "source": [
    "%pylab inline"
   ]
  },
  {
   "cell_type": "markdown",
   "metadata": {},
   "source": [
    "Set the notebook parameters, the path to the key file and change working-directory to the root directory of the dataprocessing framework."
   ]
  },
  {
   "cell_type": "code",
   "execution_count": 2,
   "metadata": {},
   "outputs": [
    {
     "name": "stdout",
     "output_type": "stream",
     "text": [
      "Working directory: /local/scratch/toolkit/datapro\n",
      "Key directory set to: /local/scratch/toolkit/benchmark_platforms_access/\n"
     ]
    }
   ],
   "source": [
    "import os\n",
    "base_dir = '/local/scratch/toolkit/'\n",
    "os.environ['EXOT_ACCESS_DIR'] = str(base_dir + \"benchmark_platforms_access/\")\n",
    "os.chdir(base_dir + 'datapro')\n",
    "print(\"Working directory: \" + str(os.getcwd()))\n",
    "print(\"Key directory set to: \" + str(os.environ['EXOT_ACCESS_DIR']))"
   ]
  },
  {
   "cell_type": "markdown",
   "metadata": {},
   "source": [
    "Import all necessary packages."
   ]
  },
  {
   "cell_type": "code",
   "execution_count": 3,
   "metadata": {},
   "outputs": [
    {
     "name": "stdout",
     "output_type": "stream",
     "text": [
      "Tensorflow not available - excluding packets relying on it!\n"
     ]
    }
   ],
   "source": [
    "np.set_printoptions(linewidth=120)\n",
    "plt.rcParams[\"figure.figsize\"] = (18,10)\n",
    "plt.rcParams[\"legend.loc\"] = \"lower right\"\n",
    "\n",
    "import toml    as TOML              # TOML library to handle config files\n",
    "import pandas  as pd                # Pandas for data manipulation\n",
    "import seaborn as sb                # Statistical data visualisation\n",
    "import pathlib as PATH              # Used to convert strings to path objects for (de-)serialisation\n",
    "import types   as tp                # Library used for online method development\n",
    "\n",
    "# scikit-learn packets\n",
    "import sklearn.base                 #\n",
    "import sklearn.svm                  # LinearSVC, SVC\n",
    "import sklearn.pipeline             # make_pipeline\n",
    "import sklearn.preprocessing        # StandardScaler\n",
    "import sklearn.decomposition        # PCA\n",
    "import sklearn.naive_bayes          # GaussianNB\n",
    "import sklearn.metrics              # CM\n",
    "\n",
    "# Toolkit packets\n",
    "import exot                       # Dataprocessing\n",
    "import exot.experiment            # Experiment for execution\n",
    "import exot.util                  # General utilities\n",
    "import exot.layer                 # Data manipulation layers\n",
    "from exot.util       import *\n",
    "from exot.layer      import *\n",
    "from exot.channel    import *\n",
    "from exot.experiment import *\n",
    "\n",
    "# Plotting\n",
    "from exot.plotting.experiment_plotter import *\n",
    "from exot.plotting.run_plotter        import *"
   ]
  },
  {
   "cell_type": "markdown",
   "metadata": {},
   "source": [
    "Parameters"
   ]
  },
  {
   "cell_type": "code",
   "execution_count": 4,
   "metadata": {},
   "outputs": [],
   "source": [
    "NB_EXPERIMENTS = [\n",
    "                   \"thermal-cc_jitter_pin_rt\",\n",
    "                   \"thermal-cc_jitter_pin_nort\",\n",
    "                   \"thermal-cc_jitter_nopin_rt\",\n",
    "                   \"thermal-cc_jitter_nopin_nort\",\n",
    "                 ]\n",
    "\n",
    "environments_to_execute = [\n",
    "    \"Haswell\",\n",
    "]\n",
    "\n",
    "phases = {\n",
    "    \"Haswell\": {\n",
    "        \"normal\": [\"util00\", \"util50\", \"util80\"]\n",
    "    },\n",
    "}"
   ]
  },
  {
   "cell_type": "code",
   "execution_count": 5,
   "metadata": {},
   "outputs": [
    {
     "ename": "Exception",
     "evalue": "Are you sure?",
     "output_type": "error",
     "traceback": [
      "\u001b[0;31m---------------------------------------------------------------------------\u001b[0m",
      "\u001b[0;31mException\u001b[0m                                 Traceback (most recent call last)",
      "\u001b[0;32m<ipython-input-5-3b995dcc0236>\u001b[0m in \u001b[0;36m<module>\u001b[0;34m\u001b[0m\n\u001b[0;32m----> 1\u001b[0;31m \u001b[0;32mraise\u001b[0m \u001b[0mException\u001b[0m\u001b[0;34m(\u001b[0m\u001b[0;34m\"Are you sure?\"\u001b[0m\u001b[0;34m)\u001b[0m\u001b[0;34m\u001b[0m\u001b[0;34m\u001b[0m\u001b[0m\n\u001b[0m",
      "\u001b[0;31mException\u001b[0m: Are you sure?"
     ]
    }
   ],
   "source": [
    "raise Exception(\"Are you sure?\")"
   ]
  },
  {
   "cell_type": "markdown",
   "metadata": {},
   "source": [
    "# Generate experiments"
   ]
  },
  {
   "cell_type": "code",
   "execution_count": 6,
   "metadata": {
    "scrolled": true
   },
   "outputs": [
    {
     "name": "stderr",
     "output_type": "stream",
     "text": [
      "\u001b[32m2020-04-17 20:29:30\u001b[0m :: bootstrapped layer 'src' with SourcePassthrough\n",
      "\u001b[32m2020-04-17 20:29:30\u001b[0m :: bootstrapped layer 'lne' with ManchesterLineCoding\n",
      "\u001b[32m2020-04-17 20:29:30\u001b[0m :: bootstrapped layer 'rdp' with CoreActivation\n",
      "\u001b[32m2020-04-17 20:29:30\u001b[0m :: bootstrapped layer 'io' with TimeValue\n",
      "\u001b[32m2020-04-17 20:29:30\u001b[0m :: symbol rates in phase 'util00' given as a str, will be evaluated\n",
      "\u001b[32m2020-04-17 20:29:30\u001b[0m :: symbol rates in phase 'util50' given as a str, will be evaluated\n",
      "\u001b[32m2020-04-17 20:29:30\u001b[0m :: symbol rates in phase 'util80' given as a str, will be evaluated\n",
      "\u001b[32m2020-04-17 20:29:30\u001b[0m :: Estimated duration of a single repetition of the util00 phase is 0:03:51\n",
      "\u001b[32m2020-04-17 20:29:30\u001b[0m :: Estimated duration of a single repetition of the util50 phase is 0:03:51\n",
      "\u001b[32m2020-04-17 20:29:30\u001b[0m :: Estimated duration of a single repetition of the util80 phase is 0:03:51\n",
      "\u001b[32m2020-04-17 20:29:30\u001b[0m :: This results in a total estimated duration of 0:11:33 for all repetitions.\n",
      "\u001b[32m2020-04-17 20:29:31\u001b[0m :: bootstrapped layer 'src' with SourcePassthrough\n",
      "\u001b[32m2020-04-17 20:29:31\u001b[0m :: bootstrapped layer 'lne' with ManchesterLineCoding\n",
      "\u001b[32m2020-04-17 20:29:31\u001b[0m :: bootstrapped layer 'rdp' with CoreActivation\n",
      "\u001b[32m2020-04-17 20:29:31\u001b[0m :: bootstrapped layer 'io' with TimeValue\n",
      "\u001b[32m2020-04-17 20:29:31\u001b[0m :: symbol rates in phase 'util00' given as a str, will be evaluated\n",
      "\u001b[32m2020-04-17 20:29:31\u001b[0m :: symbol rates in phase 'util50' given as a str, will be evaluated\n",
      "\u001b[32m2020-04-17 20:29:31\u001b[0m :: symbol rates in phase 'util80' given as a str, will be evaluated\n",
      "\u001b[32m2020-04-17 20:29:31\u001b[0m :: Estimated duration of a single repetition of the util00 phase is 0:03:51\n",
      "\u001b[32m2020-04-17 20:29:31\u001b[0m :: Estimated duration of a single repetition of the util50 phase is 0:03:51\n",
      "\u001b[32m2020-04-17 20:29:31\u001b[0m :: Estimated duration of a single repetition of the util80 phase is 0:03:51\n",
      "\u001b[32m2020-04-17 20:29:31\u001b[0m :: This results in a total estimated duration of 0:11:33 for all repetitions.\n",
      "\u001b[32m2020-04-17 20:29:32\u001b[0m :: bootstrapped layer 'src' with SourcePassthrough\n",
      "\u001b[32m2020-04-17 20:29:32\u001b[0m :: bootstrapped layer 'lne' with ManchesterLineCoding\n",
      "\u001b[32m2020-04-17 20:29:32\u001b[0m :: bootstrapped layer 'rdp' with CoreActivation\n",
      "\u001b[32m2020-04-17 20:29:32\u001b[0m :: bootstrapped layer 'io' with TimeValue\n",
      "\u001b[32m2020-04-17 20:29:32\u001b[0m :: symbol rates in phase 'util00' given as a str, will be evaluated\n",
      "\u001b[32m2020-04-17 20:29:32\u001b[0m :: symbol rates in phase 'util50' given as a str, will be evaluated\n",
      "\u001b[32m2020-04-17 20:29:32\u001b[0m :: symbol rates in phase 'util80' given as a str, will be evaluated\n",
      "\u001b[32m2020-04-17 20:29:32\u001b[0m :: Estimated duration of a single repetition of the util00 phase is 0:03:51\n",
      "\u001b[32m2020-04-17 20:29:32\u001b[0m :: Estimated duration of a single repetition of the util50 phase is 0:03:51\n",
      "\u001b[32m2020-04-17 20:29:32\u001b[0m :: Estimated duration of a single repetition of the util80 phase is 0:03:51\n",
      "\u001b[32m2020-04-17 20:29:32\u001b[0m :: This results in a total estimated duration of 0:11:33 for all repetitions.\n",
      "\u001b[32m2020-04-17 20:29:33\u001b[0m :: bootstrapped layer 'src' with SourcePassthrough\n",
      "\u001b[32m2020-04-17 20:29:33\u001b[0m :: bootstrapped layer 'lne' with ManchesterLineCoding\n",
      "\u001b[32m2020-04-17 20:29:33\u001b[0m :: bootstrapped layer 'rdp' with CoreActivation\n",
      "\u001b[32m2020-04-17 20:29:33\u001b[0m :: bootstrapped layer 'io' with TimeValue\n",
      "\u001b[32m2020-04-17 20:29:33\u001b[0m :: symbol rates in phase 'util00' given as a str, will be evaluated\n",
      "\u001b[32m2020-04-17 20:29:33\u001b[0m :: symbol rates in phase 'util50' given as a str, will be evaluated\n",
      "\u001b[32m2020-04-17 20:29:34\u001b[0m :: symbol rates in phase 'util80' given as a str, will be evaluated\n",
      "\u001b[32m2020-04-17 20:29:34\u001b[0m :: Estimated duration of a single repetition of the util00 phase is 0:03:51\n",
      "\u001b[32m2020-04-17 20:29:34\u001b[0m :: Estimated duration of a single repetition of the util50 phase is 0:03:51\n",
      "\u001b[32m2020-04-17 20:29:34\u001b[0m :: Estimated duration of a single repetition of the util80 phase is 0:03:51\n",
      "\u001b[32m2020-04-17 20:29:34\u001b[0m :: This results in a total estimated duration of 0:11:33 for all repetitions.\n"
     ]
    }
   ],
   "source": [
    "bitstream = np.random.randint(0, 2, 100, dtype=np.dtype(\"int\"))\n",
    "for NB_EXPERIMENT in NB_EXPERIMENTS:\n",
    "    config = TOML.load(f\"configurations/{NB_EXPERIMENT}.toml\")  \n",
    "    channel = ChannelFactory()(config[\"EXPERIMENT\"][\"channel\"])\n",
    "    experiment = ExperimentFactory()(config[\"EXPERIMENT\"][\"type\"], config=config, channel=channel)\n",
    "    \n",
    "    experiment.generate(**{'bitstream':bitstream})\n",
    "    experiment.print_duration()\n",
    "    \n",
    "    experiment.config.experiment_exists_action = \"update\"\n",
    "    experiment.write()  "
   ]
  },
  {
   "cell_type": "code",
   "execution_count": 7,
   "metadata": {},
   "outputs": [
    {
     "ename": "Exception",
     "evalue": "Are you sure?",
     "output_type": "error",
     "traceback": [
      "\u001b[0;31m---------------------------------------------------------------------------\u001b[0m",
      "\u001b[0;31mException\u001b[0m                                 Traceback (most recent call last)",
      "\u001b[0;32m<ipython-input-7-3b995dcc0236>\u001b[0m in \u001b[0;36m<module>\u001b[0;34m\u001b[0m\n\u001b[0;32m----> 1\u001b[0;31m \u001b[0;32mraise\u001b[0m \u001b[0mException\u001b[0m\u001b[0;34m(\u001b[0m\u001b[0;34m\"Are you sure?\"\u001b[0m\u001b[0;34m)\u001b[0m\u001b[0;34m\u001b[0m\u001b[0;34m\u001b[0m\u001b[0m\n\u001b[0m",
      "\u001b[0;31mException\u001b[0m: Are you sure?"
     ]
    }
   ],
   "source": [
    "raise Exception(\"Are you sure?\")"
   ]
  },
  {
   "cell_type": "markdown",
   "metadata": {},
   "source": [
    "# Execute experiments"
   ]
  },
  {
   "cell_type": "code",
   "execution_count": 8,
   "metadata": {},
   "outputs": [
    {
     "name": "stderr",
     "output_type": "stream",
     "text": [
      "\u001b[32m2020-04-17 20:29:35\u001b[0m :: unpicked an experiment instance <PerformanceExperiment at 0x7ff7826ca198 with ThermalCC channel, configured>\n",
      "\u001b[32m2020-04-17 20:29:35\u001b[0m :: \u001b[33mconfigs from pickle and directory differ at [{'path': ('save_path',), 'left': 'data', 'right': './data'}]\u001b[0m\n",
      "\u001b[32m2020-04-17 20:29:36\u001b[0m :: bootstrapped layer 'src' with SourcePassthrough\n",
      "\u001b[32m2020-04-17 20:29:36\u001b[0m :: bootstrapped layer 'lne' with ManchesterLineCoding\n",
      "\u001b[32m2020-04-17 20:29:36\u001b[0m :: bootstrapped layer 'rdp' with CoreActivation\n",
      "\u001b[32m2020-04-17 20:29:36\u001b[0m :: bootstrapped layer 'io' with TimeValue\n",
      "\u001b[32m2020-04-17 20:29:36\u001b[0m :: bootstrapped layer 'src' with SourcePassthrough\n",
      "\u001b[32m2020-04-17 20:29:36\u001b[0m :: bootstrapped layer 'lne' with ManchesterLineCoding\n",
      "\u001b[32m2020-04-17 20:29:36\u001b[0m :: bootstrapped layer 'rdp' with CoreActivation\n",
      "\u001b[32m2020-04-17 20:29:36\u001b[0m :: bootstrapped layer 'io' with TimeValue\n",
      "\u001b[32m2020-04-17 20:29:36\u001b[0m :: executing phases: ['util00', 'util50', 'util80'] in env 'Haswell'\n",
      "\u001b[32m2020-04-17 20:29:38\u001b[0m :: Haswell->host: connected: SSHUnixDriver\n",
      "\u001b[32m2020-04-17 20:29:38\u001b[0m :: Haswell->host: sending experiment\n",
      "\u001b[32m2020-04-17 20:29:39\u001b[0m :: Haswell->host: experiment sent!\n",
      "\u001b[32m2020-04-17 20:29:39\u001b[0m :: Haswell->host: configuring to {'latency': 10, 'fan': True, 'governors': 'userspace', 'frequencies': 'max', 'sampling_period': 0.001, 'delay_after_spawn': 120.0, 'delay_after_auxiliary': 1.0, 'active_wait': False, 'ARMv8': {'delay_after_spawn': 120.0, 'sampling_period': 0.005}, 'ARMv7': {'delay_after_spawn': 120.0, 'sampling_period': 0.005}, 'STANDARD': {'latency': 10, 'fan': True, 'governors': 'userspace', 'frequencies': 'max', 'sampling_period': 0.001, 'delay_after_spawn': 120.0, 'delay_after_auxiliary': 1.0, 'active_wait': False}}\n",
      "\u001b[32m2020-04-17 20:29:46\u001b[0m :: executing in env: 'Haswell', resume: False, reps: [0], run: <Run at 0x7ff77f3f92e8 (digested, config={'phase': 'util00', 'bit_count': 100, 'symbol_rate': 1, 'symbol_rate_id': 0, 'repetitions': 1})>\n",
      "\u001b[32m2020-04-17 20:29:46\u001b[0m :: executing in env: Haswell, rep: 0, estimated duration: 100.0s, run: <Run at 0x7ff77f3f92e8 (digested, config={'phase': 'util00', 'bit_count': 100, 'symbol_rate': 1, 'symbol_rate_id': 0, 'repetitions': 1})>\n",
      "\u001b[32m2020-04-17 20:34:21\u001b[0m :: Haswell->host: experiment logs fetched!\n",
      "\u001b[32m2020-04-17 20:34:22\u001b[0m :: executing phases: ['util00', 'util50', 'util80'] in env 'Haswell'\n",
      "\u001b[32m2020-04-17 20:34:22\u001b[0m :: Haswell->host: connected: SSHUnixDriver\n",
      "\u001b[32m2020-04-17 20:34:22\u001b[0m :: Haswell->host: sending experiment\n",
      "\u001b[32m2020-04-17 20:34:22\u001b[0m :: Haswell->host: experiment sent!\n",
      "\u001b[32m2020-04-17 20:34:22\u001b[0m :: executing in env: 'Haswell', resume: False, reps: [0], run: <Run at 0x7ff77f3f92b0 (digested, config={'phase': 'util50', 'bit_count': 100, 'symbol_rate': 1, 'symbol_rate_id': 0, 'repetitions': 1})>\n",
      "\u001b[32m2020-04-17 20:34:22\u001b[0m :: executing in env: Haswell, rep: 0, estimated duration: 100.0s, run: <Run at 0x7ff77f3f92b0 (digested, config={'phase': 'util50', 'bit_count': 100, 'symbol_rate': 1, 'symbol_rate_id': 0, 'repetitions': 1})>\n",
      "\u001b[32m2020-04-17 20:38:58\u001b[0m :: Haswell->host: experiment logs fetched!\n",
      "\u001b[32m2020-04-17 20:38:58\u001b[0m :: executing phases: ['util00', 'util50', 'util80'] in env 'Haswell'\n",
      "\u001b[32m2020-04-17 20:38:58\u001b[0m :: Haswell->host: connected: SSHUnixDriver\n",
      "\u001b[32m2020-04-17 20:38:58\u001b[0m :: Haswell->host: sending experiment\n",
      "\u001b[32m2020-04-17 20:38:59\u001b[0m :: Haswell->host: experiment sent!\n",
      "\u001b[32m2020-04-17 20:38:59\u001b[0m :: executing in env: 'Haswell', resume: False, reps: [0], run: <Run at 0x7ff77f4047f0 (digested, config={'phase': 'util80', 'bit_count': 100, 'symbol_rate': 1, 'symbol_rate_id': 0, 'repetitions': 1})>\n",
      "\u001b[32m2020-04-17 20:38:59\u001b[0m :: executing in env: Haswell, rep: 0, estimated duration: 100.0s, run: <Run at 0x7ff77f4047f0 (digested, config={'phase': 'util80', 'bit_count': 100, 'symbol_rate': 1, 'symbol_rate_id': 0, 'repetitions': 1})>\n",
      "\u001b[32m2020-04-17 20:43:35\u001b[0m :: Haswell->host: experiment logs fetched!\n",
      "\u001b[32m2020-04-17 20:43:35\u001b[0m :: Haswell->host: cleaning up\n",
      "\u001b[32m2020-04-17 20:43:44\u001b[0m :: Haswell->host: successfully deleted remote data directory\n",
      "\u001b[32m2020-04-17 20:43:44\u001b[0m :: Haswell->host: disconnected\n",
      "\u001b[32m2020-04-17 20:43:44\u001b[0m :: unpicked an experiment instance <PerformanceExperiment at 0x7ff77f3ca128 with ThermalCC channel, configured>\n",
      "\u001b[32m2020-04-17 20:43:45\u001b[0m :: \u001b[33mconfigs from pickle and directory differ at [{'path': ('save_path',), 'left': 'data', 'right': './data'}]\u001b[0m\n",
      "\u001b[32m2020-04-17 20:43:45\u001b[0m :: bootstrapped layer 'src' with SourcePassthrough\n",
      "\u001b[32m2020-04-17 20:43:45\u001b[0m :: bootstrapped layer 'lne' with ManchesterLineCoding\n",
      "\u001b[32m2020-04-17 20:43:45\u001b[0m :: bootstrapped layer 'rdp' with CoreActivation\n",
      "\u001b[32m2020-04-17 20:43:45\u001b[0m :: bootstrapped layer 'io' with TimeValue\n",
      "\u001b[32m2020-04-17 20:43:45\u001b[0m :: bootstrapped layer 'src' with SourcePassthrough\n",
      "\u001b[32m2020-04-17 20:43:45\u001b[0m :: bootstrapped layer 'lne' with ManchesterLineCoding\n",
      "\u001b[32m2020-04-17 20:43:45\u001b[0m :: bootstrapped layer 'rdp' with CoreActivation\n",
      "\u001b[32m2020-04-17 20:43:45\u001b[0m :: bootstrapped layer 'io' with TimeValue\n",
      "\u001b[32m2020-04-17 20:43:45\u001b[0m :: executing phases: ['util00', 'util50', 'util80'] in env 'Haswell'\n",
      "\u001b[32m2020-04-17 20:43:47\u001b[0m :: Haswell->host: connected: SSHUnixDriver\n",
      "\u001b[32m2020-04-17 20:43:47\u001b[0m :: Haswell->host: sending experiment\n",
      "\u001b[32m2020-04-17 20:43:48\u001b[0m :: Haswell->host: experiment sent!\n",
      "\u001b[32m2020-04-17 20:43:48\u001b[0m :: Haswell->host: configuring to {'latency': 10, 'fan': True, 'governors': 'userspace', 'frequencies': 'max', 'sampling_period': 0.001, 'delay_after_spawn': 120.0, 'delay_after_auxiliary': 1.0, 'active_wait': False, 'ARMv8': {'delay_after_spawn': 120.0, 'sampling_period': 0.005}, 'ARMv7': {'delay_after_spawn': 120.0, 'sampling_period': 0.005}, 'STANDARD': {'latency': 10, 'fan': True, 'governors': 'userspace', 'frequencies': 'max', 'sampling_period': 0.001, 'delay_after_spawn': 120.0, 'delay_after_auxiliary': 1.0, 'active_wait': False}}\n",
      "\u001b[32m2020-04-17 20:43:56\u001b[0m :: executing in env: 'Haswell', resume: False, reps: [0], run: <Run at 0x7ff77cb0cf60 (digested, config={'phase': 'util00', 'bit_count': 100, 'symbol_rate': 1, 'symbol_rate_id': 0, 'repetitions': 1})>\n",
      "\u001b[32m2020-04-17 20:43:56\u001b[0m :: executing in env: Haswell, rep: 0, estimated duration: 100.0s, run: <Run at 0x7ff77cb0cf60 (digested, config={'phase': 'util00', 'bit_count': 100, 'symbol_rate': 1, 'symbol_rate_id': 0, 'repetitions': 1})>\n",
      "\u001b[32m2020-04-17 20:48:31\u001b[0m :: Haswell->host: experiment logs fetched!\n",
      "\u001b[32m2020-04-17 20:48:31\u001b[0m :: executing phases: ['util00', 'util50', 'util80'] in env 'Haswell'\n",
      "\u001b[32m2020-04-17 20:48:31\u001b[0m :: Haswell->host: connected: SSHUnixDriver\n",
      "\u001b[32m2020-04-17 20:48:31\u001b[0m :: Haswell->host: sending experiment\n",
      "\u001b[32m2020-04-17 20:48:32\u001b[0m :: Haswell->host: experiment sent!\n",
      "\u001b[32m2020-04-17 20:48:32\u001b[0m :: executing in env: 'Haswell', resume: False, reps: [0], run: <Run at 0x7ff77f36f940 (digested, config={'phase': 'util50', 'bit_count': 100, 'symbol_rate': 1, 'symbol_rate_id': 0, 'repetitions': 1})>\n",
      "\u001b[32m2020-04-17 20:48:32\u001b[0m :: executing in env: Haswell, rep: 0, estimated duration: 100.0s, run: <Run at 0x7ff77f36f940 (digested, config={'phase': 'util50', 'bit_count': 100, 'symbol_rate': 1, 'symbol_rate_id': 0, 'repetitions': 1})>\n",
      "\u001b[32m2020-04-17 20:53:08\u001b[0m :: Haswell->host: experiment logs fetched!\n",
      "\u001b[32m2020-04-17 20:53:08\u001b[0m :: executing phases: ['util00', 'util50', 'util80'] in env 'Haswell'\n",
      "\u001b[32m2020-04-17 20:53:08\u001b[0m :: Haswell->host: connected: SSHUnixDriver\n",
      "\u001b[32m2020-04-17 20:53:08\u001b[0m :: Haswell->host: sending experiment\n",
      "\u001b[32m2020-04-17 20:53:08\u001b[0m :: Haswell->host: experiment sent!\n",
      "\u001b[32m2020-04-17 20:53:09\u001b[0m :: executing in env: 'Haswell', resume: False, reps: [0], run: <Run at 0x7ff77cadbeb8 (digested, config={'phase': 'util80', 'bit_count': 100, 'symbol_rate': 1, 'symbol_rate_id': 0, 'repetitions': 1})>\n",
      "\u001b[32m2020-04-17 20:53:09\u001b[0m :: executing in env: Haswell, rep: 0, estimated duration: 100.0s, run: <Run at 0x7ff77cadbeb8 (digested, config={'phase': 'util80', 'bit_count': 100, 'symbol_rate': 1, 'symbol_rate_id': 0, 'repetitions': 1})>\n",
      "\u001b[32m2020-04-17 20:57:45\u001b[0m :: Haswell->host: experiment logs fetched!\n"
     ]
    },
    {
     "name": "stderr",
     "output_type": "stream",
     "text": [
      "\u001b[32m2020-04-17 20:57:45\u001b[0m :: Haswell->host: cleaning up\n",
      "\u001b[32m2020-04-17 20:57:54\u001b[0m :: Haswell->host: successfully deleted remote data directory\n",
      "\u001b[32m2020-04-17 20:57:54\u001b[0m :: Haswell->host: disconnected\n",
      "\u001b[32m2020-04-17 20:57:54\u001b[0m :: unpicked an experiment instance <PerformanceExperiment at 0x7ff77db3ceb8 with ThermalCC channel, configured>\n",
      "\u001b[32m2020-04-17 20:57:55\u001b[0m :: \u001b[33mconfigs from pickle and directory differ at [{'path': ('save_path',), 'left': 'data', 'right': './data'}]\u001b[0m\n",
      "\u001b[32m2020-04-17 20:57:55\u001b[0m :: bootstrapped layer 'src' with SourcePassthrough\n",
      "\u001b[32m2020-04-17 20:57:55\u001b[0m :: bootstrapped layer 'lne' with ManchesterLineCoding\n",
      "\u001b[32m2020-04-17 20:57:55\u001b[0m :: bootstrapped layer 'rdp' with CoreActivation\n",
      "\u001b[32m2020-04-17 20:57:55\u001b[0m :: bootstrapped layer 'io' with TimeValue\n",
      "\u001b[32m2020-04-17 20:57:55\u001b[0m :: bootstrapped layer 'src' with SourcePassthrough\n",
      "\u001b[32m2020-04-17 20:57:55\u001b[0m :: bootstrapped layer 'lne' with ManchesterLineCoding\n",
      "\u001b[32m2020-04-17 20:57:55\u001b[0m :: bootstrapped layer 'rdp' with CoreActivation\n",
      "\u001b[32m2020-04-17 20:57:55\u001b[0m :: bootstrapped layer 'io' with TimeValue\n",
      "\u001b[32m2020-04-17 20:57:55\u001b[0m :: executing phases: ['util00', 'util50', 'util80'] in env 'Haswell'\n",
      "\u001b[32m2020-04-17 20:57:58\u001b[0m :: Haswell->host: connected: SSHUnixDriver\n",
      "\u001b[32m2020-04-17 20:57:58\u001b[0m :: Haswell->host: sending experiment\n",
      "\u001b[32m2020-04-17 20:57:59\u001b[0m :: Haswell->host: experiment sent!\n",
      "\u001b[32m2020-04-17 20:57:59\u001b[0m :: Haswell->host: configuring to {'latency': 10, 'fan': True, 'governors': 'userspace', 'frequencies': 'max', 'sampling_period': 0.001, 'delay_after_spawn': 120.0, 'delay_after_auxiliary': 1.0, 'active_wait': False, 'ARMv8': {'delay_after_spawn': 120.0, 'sampling_period': 0.005}, 'ARMv7': {'delay_after_spawn': 120.0, 'sampling_period': 0.005}, 'STANDARD': {'latency': 10, 'fan': True, 'governors': 'userspace', 'frequencies': 'max', 'sampling_period': 0.001, 'delay_after_spawn': 120.0, 'delay_after_auxiliary': 1.0, 'active_wait': False}}\n",
      "\u001b[32m2020-04-17 20:58:07\u001b[0m :: executing in env: 'Haswell', resume: False, reps: [0], run: <Run at 0x7ff77da84278 (digested, config={'phase': 'util00', 'bit_count': 100, 'symbol_rate': 1, 'symbol_rate_id': 0, 'repetitions': 1})>\n",
      "\u001b[32m2020-04-17 20:58:07\u001b[0m :: executing in env: Haswell, rep: 0, estimated duration: 100.0s, run: <Run at 0x7ff77da84278 (digested, config={'phase': 'util00', 'bit_count': 100, 'symbol_rate': 1, 'symbol_rate_id': 0, 'repetitions': 1})>\n",
      "\u001b[32m2020-04-17 21:02:42\u001b[0m :: Haswell->host: experiment logs fetched!\n",
      "\u001b[32m2020-04-17 21:02:42\u001b[0m :: executing phases: ['util00', 'util50', 'util80'] in env 'Haswell'\n",
      "\u001b[32m2020-04-17 21:02:42\u001b[0m :: Haswell->host: connected: SSHUnixDriver\n",
      "\u001b[32m2020-04-17 21:02:42\u001b[0m :: Haswell->host: sending experiment\n",
      "\u001b[32m2020-04-17 21:02:43\u001b[0m :: Haswell->host: experiment sent!\n",
      "\u001b[32m2020-04-17 21:02:43\u001b[0m :: executing in env: 'Haswell', resume: False, reps: [0], run: <Run at 0x7ff77daafba8 (digested, config={'phase': 'util50', 'bit_count': 100, 'symbol_rate': 1, 'symbol_rate_id': 0, 'repetitions': 1})>\n",
      "\u001b[32m2020-04-17 21:02:43\u001b[0m :: executing in env: Haswell, rep: 0, estimated duration: 100.0s, run: <Run at 0x7ff77daafba8 (digested, config={'phase': 'util50', 'bit_count': 100, 'symbol_rate': 1, 'symbol_rate_id': 0, 'repetitions': 1})>\n",
      "\u001b[32m2020-04-17 21:07:19\u001b[0m :: Haswell->host: experiment logs fetched!\n",
      "\u001b[32m2020-04-17 21:07:19\u001b[0m :: executing phases: ['util00', 'util50', 'util80'] in env 'Haswell'\n",
      "\u001b[32m2020-04-17 21:07:19\u001b[0m :: Haswell->host: connected: SSHUnixDriver\n",
      "\u001b[32m2020-04-17 21:07:19\u001b[0m :: Haswell->host: sending experiment\n",
      "\u001b[32m2020-04-17 21:07:19\u001b[0m :: Haswell->host: experiment sent!\n",
      "\u001b[32m2020-04-17 21:07:19\u001b[0m :: executing in env: 'Haswell', resume: False, reps: [0], run: <Run at 0x7ff77da70c18 (digested, config={'phase': 'util80', 'bit_count': 100, 'symbol_rate': 1, 'symbol_rate_id': 0, 'repetitions': 1})>\n",
      "\u001b[32m2020-04-17 21:07:19\u001b[0m :: executing in env: Haswell, rep: 0, estimated duration: 100.0s, run: <Run at 0x7ff77da70c18 (digested, config={'phase': 'util80', 'bit_count': 100, 'symbol_rate': 1, 'symbol_rate_id': 0, 'repetitions': 1})>\n",
      "\u001b[32m2020-04-17 21:11:55\u001b[0m :: Haswell->host: experiment logs fetched!\n",
      "\u001b[32m2020-04-17 21:11:55\u001b[0m :: Haswell->host: cleaning up\n",
      "\u001b[32m2020-04-17 21:12:04\u001b[0m :: Haswell->host: successfully deleted remote data directory\n",
      "\u001b[32m2020-04-17 21:12:04\u001b[0m :: Haswell->host: disconnected\n",
      "\u001b[32m2020-04-17 21:12:05\u001b[0m :: unpicked an experiment instance <PerformanceExperiment at 0x7ff77cacf358 with ThermalCC channel, configured>\n",
      "\u001b[32m2020-04-17 21:12:05\u001b[0m :: \u001b[33mconfigs from pickle and directory differ at [{'path': ('save_path',), 'left': 'data', 'right': './data'}]\u001b[0m\n",
      "\u001b[32m2020-04-17 21:12:05\u001b[0m :: bootstrapped layer 'src' with SourcePassthrough\n",
      "\u001b[32m2020-04-17 21:12:05\u001b[0m :: bootstrapped layer 'lne' with ManchesterLineCoding\n",
      "\u001b[32m2020-04-17 21:12:05\u001b[0m :: bootstrapped layer 'rdp' with CoreActivation\n",
      "\u001b[32m2020-04-17 21:12:05\u001b[0m :: bootstrapped layer 'io' with TimeValue\n",
      "\u001b[32m2020-04-17 21:12:05\u001b[0m :: bootstrapped layer 'src' with SourcePassthrough\n",
      "\u001b[32m2020-04-17 21:12:05\u001b[0m :: bootstrapped layer 'lne' with ManchesterLineCoding\n",
      "\u001b[32m2020-04-17 21:12:05\u001b[0m :: bootstrapped layer 'rdp' with CoreActivation\n",
      "\u001b[32m2020-04-17 21:12:05\u001b[0m :: bootstrapped layer 'io' with TimeValue\n",
      "\u001b[32m2020-04-17 21:12:05\u001b[0m :: executing phases: ['util00', 'util50', 'util80'] in env 'Haswell'\n",
      "\u001b[32m2020-04-17 21:12:08\u001b[0m :: Haswell->host: connected: SSHUnixDriver\n",
      "\u001b[32m2020-04-17 21:12:08\u001b[0m :: Haswell->host: sending experiment\n",
      "\u001b[32m2020-04-17 21:12:08\u001b[0m :: Haswell->host: experiment sent!\n",
      "\u001b[32m2020-04-17 21:12:09\u001b[0m :: Haswell->host: configuring to {'latency': 10, 'fan': True, 'governors': 'userspace', 'frequencies': 'max', 'sampling_period': 0.001, 'delay_after_spawn': 120.0, 'delay_after_auxiliary': 1.0, 'active_wait': False, 'ARMv8': {'delay_after_spawn': 120.0, 'sampling_period': 0.005}, 'ARMv7': {'delay_after_spawn': 120.0, 'sampling_period': 0.005}, 'STANDARD': {'latency': 10, 'fan': True, 'governors': 'userspace', 'frequencies': 'max', 'sampling_period': 0.001, 'delay_after_spawn': 120.0, 'delay_after_auxiliary': 1.0, 'active_wait': False}}\n",
      "\u001b[32m2020-04-17 21:12:17\u001b[0m :: executing in env: 'Haswell', resume: False, reps: [0], run: <Run at 0x7ff77d1ef320 (digested, config={'phase': 'util00', 'bit_count': 100, 'symbol_rate': 1, 'symbol_rate_id': 0, 'repetitions': 1})>\n",
      "\u001b[32m2020-04-17 21:12:17\u001b[0m :: executing in env: Haswell, rep: 0, estimated duration: 100.0s, run: <Run at 0x7ff77d1ef320 (digested, config={'phase': 'util00', 'bit_count': 100, 'symbol_rate': 1, 'symbol_rate_id': 0, 'repetitions': 1})>\n",
      "\u001b[32m2020-04-17 21:16:52\u001b[0m :: Haswell->host: experiment logs fetched!\n",
      "\u001b[32m2020-04-17 21:16:52\u001b[0m :: executing phases: ['util00', 'util50', 'util80'] in env 'Haswell'\n",
      "\u001b[32m2020-04-17 21:16:52\u001b[0m :: Haswell->host: connected: SSHUnixDriver\n",
      "\u001b[32m2020-04-17 21:16:52\u001b[0m :: Haswell->host: sending experiment\n",
      "\u001b[32m2020-04-17 21:16:53\u001b[0m :: Haswell->host: experiment sent!\n",
      "\u001b[32m2020-04-17 21:16:53\u001b[0m :: executing in env: 'Haswell', resume: False, reps: [0], run: <Run at 0x7ff77d1efd30 (digested, config={'phase': 'util50', 'bit_count': 100, 'symbol_rate': 1, 'symbol_rate_id': 0, 'repetitions': 1})>\n",
      "\u001b[32m2020-04-17 21:16:53\u001b[0m :: executing in env: Haswell, rep: 0, estimated duration: 100.0s, run: <Run at 0x7ff77d1efd30 (digested, config={'phase': 'util50', 'bit_count': 100, 'symbol_rate': 1, 'symbol_rate_id': 0, 'repetitions': 1})>\n",
      "\u001b[32m2020-04-17 21:21:29\u001b[0m :: Haswell->host: experiment logs fetched!\n",
      "\u001b[32m2020-04-17 21:21:29\u001b[0m :: executing phases: ['util00', 'util50', 'util80'] in env 'Haswell'\n",
      "\u001b[32m2020-04-17 21:21:29\u001b[0m :: Haswell->host: connected: SSHUnixDriver\n",
      "\u001b[32m2020-04-17 21:21:29\u001b[0m :: Haswell->host: sending experiment\n",
      "\u001b[32m2020-04-17 21:21:29\u001b[0m :: Haswell->host: experiment sent!\n",
      "\u001b[32m2020-04-17 21:21:29\u001b[0m :: executing in env: 'Haswell', resume: False, reps: [0], run: <Run at 0x7ff77d1ef278 (digested, config={'phase': 'util80', 'bit_count': 100, 'symbol_rate': 1, 'symbol_rate_id': 0, 'repetitions': 1})>\n",
      "\u001b[32m2020-04-17 21:21:29\u001b[0m :: executing in env: Haswell, rep: 0, estimated duration: 100.0s, run: <Run at 0x7ff77d1ef278 (digested, config={'phase': 'util80', 'bit_count': 100, 'symbol_rate': 1, 'symbol_rate_id': 0, 'repetitions': 1})>\n"
     ]
    },
    {
     "name": "stderr",
     "output_type": "stream",
     "text": [
      "\u001b[32m2020-04-17 21:26:05\u001b[0m :: Haswell->host: experiment logs fetched!\n",
      "\u001b[32m2020-04-17 21:26:05\u001b[0m :: Haswell->host: cleaning up\n",
      "\u001b[32m2020-04-17 21:26:14\u001b[0m :: Haswell->host: successfully deleted remote data directory\n",
      "\u001b[32m2020-04-17 21:26:14\u001b[0m :: Haswell->host: disconnected\n"
     ]
    }
   ],
   "source": [
    "for NB_EXPERIMENT in NB_EXPERIMENTS:\n",
    "    path_to_serialised_experiment = PATH.Path(f\"data/{NB_EXPERIMENT}/_experiment.pickle\")\n",
    "    experiment = PerformanceExperiment.read(path_to_serialised_experiment, diff_and_replace=True)\n",
    "    experiment.bootstrap()\n",
    "    for env in environments_to_execute:\n",
    "        for phase in phases[env].values():\n",
    "             experiment.execute_in_environment(env, phase, resume=False)\n",
    "    experiment.write()"
   ]
  },
  {
   "cell_type": "markdown",
   "metadata": {},
   "source": [
    "# Analyse"
   ]
  },
  {
   "cell_type": "code",
   "execution_count": 9,
   "metadata": {},
   "outputs": [],
   "source": [
    "from scipy import interpolate\n",
    "\n",
    "def resample_srclog(o_rdpstream, x_new):\n",
    "    data = np.vstack(\n",
    "        [np.hstack([0, o_rdpstream[\"timestamp\"].values]), \n",
    "         np.hstack([o_rdpstream.iloc[0,1], o_rdpstream.iloc[:,1]])]\n",
    "    ).transpose()\n",
    "    interpolation = interpolate.interp1d(\n",
    "        data[:, 0], data[:, 1], kind=\"next\"\n",
    "    )\n",
    "\n",
    "    try:\n",
    "        data_new = interpolation(x_new)\n",
    "    except ValueError:\n",
    "        x_new = x_new[x_new < data[-1, 0]]\n",
    "        data_new = interpolation(x_new)\n",
    "    symbol_mark = data_new\n",
    "\n",
    "    return pd.DataFrame({\"timestamp\": x_new, \"data\": data_new})\n",
    "\n",
    "def resample_o_rdpstream(o_rdpstream, x_new):\n",
    "    data = np.vstack(\n",
    "        [np.hstack([0, o_rdpstream[\"timestamp\"].values.cumsum()]), \n",
    "         np.hstack([o_rdpstream.iloc[0,1], o_rdpstream.iloc[:,1]])]\n",
    "    ).transpose()\n",
    "    interpolation = interpolate.interp1d(\n",
    "        data[:, 0], data[:, 1], kind=\"next\"\n",
    "    )\n",
    "\n",
    "    try:\n",
    "        data_new = interpolation(x_new)\n",
    "    except ValueError:\n",
    "        x_new = x_new[x_new < data[-1, 0]]\n",
    "        data_new = interpolation(x_new)\n",
    "    symbol_mark = data_new\n",
    "\n",
    "    return pd.DataFrame({\"timestamp\": x_new, \"data\": data_new})\n",
    "\n",
    "ingest_args = dict(\n",
    "    lne={\n",
    "        \"decision_device\": sklearn.pipeline.make_pipeline(\n",
    "            sklearn.preprocessing.StandardScaler(), sklearn.svm.LinearSVC()\n",
    "        )\n",
    "    },\n",
    "    io = {\n",
    "            \"env\": \"Haswell\",\n",
    "            \"rep\": 0,\n",
    "            \"matcher\": [(exot.util.wrangle.Matcher(\"thermal\", \"msr\", [\"core\"], [4]), None)]\n",
    "    },\n",
    ")"
   ]
  },
  {
   "cell_type": "code",
   "execution_count": 10,
   "metadata": {
    "scrolled": false
   },
   "outputs": [
    {
     "name": "stderr",
     "output_type": "stream",
     "text": [
      "\u001b[32m2020-04-17 21:26:15\u001b[0m :: unpicked an experiment instance <PerformanceExperiment at 0x7ff7c462ffd0 with ThermalCC channel, configured>\n",
      "\u001b[32m2020-04-17 21:26:15\u001b[0m :: \u001b[33mconfigs from pickle and directory differ at [{'path': ('save_path',), 'left': 'data', 'right': './data'}]\u001b[0m\n",
      "\u001b[32m2020-04-17 21:26:15\u001b[0m :: bootstrapped layer 'src' with SourcePassthrough\n",
      "\u001b[32m2020-04-17 21:26:15\u001b[0m :: bootstrapped layer 'lne' with ManchesterLineCoding\n",
      "\u001b[32m2020-04-17 21:26:15\u001b[0m :: bootstrapped layer 'rdp' with CoreActivation\n",
      "\u001b[32m2020-04-17 21:26:15\u001b[0m :: bootstrapped layer 'io' with TimeValue\n",
      "\u001b[32m2020-04-17 21:26:15\u001b[0m :: bootstrapped layer 'src' with SourcePassthrough\n",
      "\u001b[32m2020-04-17 21:26:15\u001b[0m :: bootstrapped layer 'lne' with ManchesterLineCoding\n",
      "\u001b[32m2020-04-17 21:26:15\u001b[0m :: bootstrapped layer 'rdp' with CoreActivation\n",
      "\u001b[32m2020-04-17 21:26:15\u001b[0m :: bootstrapped layer 'io' with TimeValue\n",
      "\u001b[32m2020-04-17 21:26:18\u001b[0m :: unpicked an experiment instance <PerformanceExperiment at 0x7ff77e322ba8 with ThermalCC channel, configured>\n",
      "\u001b[32m2020-04-17 21:26:18\u001b[0m :: \u001b[33mconfigs from pickle and directory differ at [{'path': ('save_path',), 'left': 'data', 'right': './data'}]\u001b[0m\n",
      "\u001b[32m2020-04-17 21:26:18\u001b[0m :: bootstrapped layer 'src' with SourcePassthrough\n",
      "\u001b[32m2020-04-17 21:26:18\u001b[0m :: bootstrapped layer 'lne' with ManchesterLineCoding\n",
      "\u001b[32m2020-04-17 21:26:18\u001b[0m :: bootstrapped layer 'rdp' with CoreActivation\n",
      "\u001b[32m2020-04-17 21:26:18\u001b[0m :: bootstrapped layer 'io' with TimeValue\n",
      "\u001b[32m2020-04-17 21:26:19\u001b[0m :: bootstrapped layer 'src' with SourcePassthrough\n",
      "\u001b[32m2020-04-17 21:26:19\u001b[0m :: bootstrapped layer 'lne' with ManchesterLineCoding\n",
      "\u001b[32m2020-04-17 21:26:19\u001b[0m :: bootstrapped layer 'rdp' with CoreActivation\n",
      "\u001b[32m2020-04-17 21:26:19\u001b[0m :: bootstrapped layer 'io' with TimeValue\n",
      "\u001b[32m2020-04-17 21:26:21\u001b[0m :: unpicked an experiment instance <PerformanceExperiment at 0x7ff77dab7d68 with ThermalCC channel, configured>\n",
      "\u001b[32m2020-04-17 21:26:21\u001b[0m :: \u001b[33mconfigs from pickle and directory differ at [{'path': ('save_path',), 'left': 'data', 'right': './data'}]\u001b[0m\n",
      "\u001b[32m2020-04-17 21:26:21\u001b[0m :: bootstrapped layer 'src' with SourcePassthrough\n",
      "\u001b[32m2020-04-17 21:26:21\u001b[0m :: bootstrapped layer 'lne' with ManchesterLineCoding\n",
      "\u001b[32m2020-04-17 21:26:21\u001b[0m :: bootstrapped layer 'rdp' with CoreActivation\n",
      "\u001b[32m2020-04-17 21:26:21\u001b[0m :: bootstrapped layer 'io' with TimeValue\n",
      "\u001b[32m2020-04-17 21:26:21\u001b[0m :: bootstrapped layer 'src' with SourcePassthrough\n",
      "\u001b[32m2020-04-17 21:26:21\u001b[0m :: bootstrapped layer 'lne' with ManchesterLineCoding\n",
      "\u001b[32m2020-04-17 21:26:21\u001b[0m :: bootstrapped layer 'rdp' with CoreActivation\n",
      "\u001b[32m2020-04-17 21:26:22\u001b[0m :: bootstrapped layer 'io' with TimeValue\n",
      "\u001b[32m2020-04-17 21:26:23\u001b[0m :: unpicked an experiment instance <PerformanceExperiment at 0x7ff77daaf5c0 with ThermalCC channel, configured>\n",
      "\u001b[32m2020-04-17 21:26:23\u001b[0m :: \u001b[33mconfigs from pickle and directory differ at [{'path': ('save_path',), 'left': 'data', 'right': './data'}]\u001b[0m\n",
      "\u001b[32m2020-04-17 21:26:24\u001b[0m :: bootstrapped layer 'src' with SourcePassthrough\n",
      "\u001b[32m2020-04-17 21:26:24\u001b[0m :: bootstrapped layer 'lne' with ManchesterLineCoding\n",
      "\u001b[32m2020-04-17 21:26:24\u001b[0m :: bootstrapped layer 'rdp' with CoreActivation\n",
      "\u001b[32m2020-04-17 21:26:24\u001b[0m :: bootstrapped layer 'io' with TimeValue\n",
      "\u001b[32m2020-04-17 21:26:24\u001b[0m :: bootstrapped layer 'src' with SourcePassthrough\n",
      "\u001b[32m2020-04-17 21:26:24\u001b[0m :: bootstrapped layer 'lne' with ManchesterLineCoding\n",
      "\u001b[32m2020-04-17 21:26:24\u001b[0m :: bootstrapped layer 'rdp' with CoreActivation\n",
      "\u001b[32m2020-04-17 21:26:24\u001b[0m :: bootstrapped layer 'io' with TimeValue\n"
     ]
    }
   ],
   "source": [
    "for NB_EXPERIMENT in NB_EXPERIMENTS:\n",
    "    path_to_serialised_experiment = PATH.Path(f\"data/{NB_EXPERIMENT}/_experiment.pickle\")\n",
    "    experiment = PerformanceExperiment.read(path_to_serialised_experiment, diff_and_replace=True)\n",
    "    experiment.bootstrap()\n",
    "    experiment.write()\n",
    "    \n",
    "    sampling_rate = experiment.config.EXPERIMENT.GENERAL.sampling_period\n",
    "    sampling_rate = 10**-6 # 1us\n",
    "    bins = np.arange(0,0.013,sampling_rate)\n",
    "    data = pd.DataFrame({'bins':bins})\n",
    "    for phase in experiment.phases.keys():\n",
    "        demo_run = experiment.phases[phase][0]\n",
    "        demo_run.ingest(**ingest_args)\n",
    "\n",
    "        counts, bin_edges = np.histogram(np.abs(demo_run.intermediates['io']['src_log']['generator:offset::s']), bins=bins, normed=False)\n",
    "        data[phase] = np.hstack([0, numpy.cumsum(counts) / numpy.sum(counts)])\n",
    "        \n",
    "    data.to_csv(\n",
    "        experiment.path.joinpath(\"{}.dat\".format(experiment.name)), \n",
    "        sep=\",\",\n",
    "        encoding=\"utf-8\",\n",
    "        index=False,)"
   ]
  }
 ],
 "metadata": {
  "kernelspec": {
   "display_name": "Python 3",
   "language": "python",
   "name": "python3"
  },
  "language_info": {
   "codemirror_mode": {
    "name": "ipython",
    "version": 3
   },
   "file_extension": ".py",
   "mimetype": "text/x-python",
   "name": "python",
   "nbconvert_exporter": "python",
   "pygments_lexer": "ipython3",
   "version": "3.7.2"
  }
 },
 "nbformat": 4,
 "nbformat_minor": 2
}
