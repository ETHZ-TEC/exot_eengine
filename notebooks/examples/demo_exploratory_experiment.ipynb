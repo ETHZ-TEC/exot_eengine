{
 "cells": [
  {
   "cell_type": "markdown",
   "metadata": {},
   "source": [
    " Copyright (c) 2015-2020, Swiss Federal Institute of Technology (ETH Zurich)\n\n", 
    " All rights reserved.\n", 
    " \n", 
    " Redistribution and use in source and binary forms, with or without\n", 
    " modification, are permitted provided that the following conditions are met:\n", 
    " \n", 
    " * Redistributions of source code must retain the above copyright notice, this\n", 
    "   list of conditions and the following disclaimer.\n", 
    " \n", 
    " * Redistributions in binary form must reproduce the above copyright notice,\n", 
    "   this list of conditions and the following disclaimer in the documentation\n", 
    "   and/or other materials provided with the distribution.\n", 
    " \n", 
    " * Neither the name of the copyright holder nor the names of its\n", 
    "   contributors may be used to endorse or promote products derived from\n", 
    "   this software without specific prior written permission.\n", 
    " \n", 
    " THIS SOFTWARE IS PROVIDED BY THE COPYRIGHT HOLDERS AND CONTRIBUTORS \"AS IS\"\n", 
    " AND ANY EXPRESS OR IMPLIED WARRANTIES, INCLUDING, BUT NOT LIMITED TO, THE\n", 
    " IMPLIED WARRANTIES OF MERCHANTABILITY AND FITNESS FOR A PARTICULAR PURPOSE ARE\n", 
    " DISCLAIMED. IN NO EVENT SHALL THE COPYRIGHT HOLDER OR CONTRIBUTORS BE LIABLE\n", 
    " FOR ANY DIRECT, INDIRECT, INCIDENTAL, SPECIAL, EXEMPLARY, OR CONSEQUENTIAL\n", 
    " DAMAGES (INCLUDING, BUT NOT LIMITED TO, PROCUREMENT OF SUBSTITUTE GOODS OR\n", 
    " SERVICES; LOSS OF USE, DATA, OR PROFITS; OR BUSINESS INTERRUPTION) HOWEVER\n", 
    " CAUSED AND ON ANY THEORY OF LIABILITY, WHETHER IN CONTRACT, STRICT LIABILITY,\n", 
    " OR TORT (INCLUDING NEGLIGENCE OR OTHERWISE) ARISING IN ANY WAY OUT OF THE USE\n", 
    " OF THIS SOFTWARE, EVEN IF ADVISED OF THE POSSIBILITY OF SUCH DAMAGE.\n", 
    " "
 ]
},
  {
   "cell_type": "code",
   "execution_count": 1,
   "metadata": {},
   "outputs": [
    {
     "name": "stdout",
     "output_type": "stream",
     "text": [
      "Populating the interactive namespace from numpy and matplotlib\n"
     ]
    }
   ],
   "source": [
    "%pylab inline\n",
    "np.set_printoptions(linewidth=120)\n",
    "plt.rcParams[\"figure.figsize\"] = (18,10)\n",
    "plt.rcParams[\"legend.loc\"] = \"lower right\""
   ]
  },
  {
   "cell_type": "markdown",
   "metadata": {},
   "source": [
    "Set the path to the key file and change working-directory to the root directory of the dataprocessing framework"
   ]
  },
  {
   "cell_type": "code",
   "execution_count": 2,
   "metadata": {},
   "outputs": [
    {
     "name": "stdout",
     "output_type": "stream",
     "text": [
      "Working directory: /local/scratch/toolkit/datapro\n",
      "Key directory set to: /local/scratch/toolkit/benchmark_platforms_access/\n"
     ]
    }
   ],
   "source": [
    "import os\n",
    "base_dir = '/local/scratch/toolkit/'\n",
    "os.environ['EXOT_ACCESS_DIR'] = str(base_dir + \"benchmark_platforms_access/\")\n",
    "os.chdir(base_dir + 'datapro')\n",
    "print(\"Working directory: \" + str(os.getcwd()))\n",
    "print(\"Key directory set to: \" + str(os.environ['EXOT_ACCESS_DIR']))"
   ]
  },
  {
   "cell_type": "markdown",
   "metadata": {},
   "source": [
    "# Imports"
   ]
  },
  {
   "cell_type": "code",
   "execution_count": 3,
   "metadata": {},
   "outputs": [
    {
     "name": "stdout",
     "output_type": "stream",
     "text": [
      "Tensorflow not available - excluding packets using it!\n"
     ]
    }
   ],
   "source": [
    "import toml    as TOML              # TOML library to handle config files\n",
    "import pandas  as pd                # Pandas for data manipulation\n",
    "import seaborn as sb                # Statistical data visualisation\n",
    "import pathlib as PATH              # Used to convert strings to path objects for (de-)serialisation\n",
    "import types   as tp                # Library used for online method development\n",
    "\n",
    "#from copy   import copy, deepcopy   # TODO\n",
    "#from pprint import pprint           # TODO\n",
    "\n",
    "# scikit-learn packets\n",
    "import sklearn.base                 #\n",
    "import sklearn.svm                  # LinearSVC, SVC\n",
    "import sklearn.pipeline             # make_pipeline\n",
    "import sklearn.preprocessing        # StandardScaler\n",
    "import sklearn.decomposition        # PCA\n",
    "import sklearn.naive_bayes          # GaussianNB\n",
    "import sklearn.metrics              # CM\n",
    "\n",
    "# ExOT packets\n",
    "import exot                       # Dataprocessing\n",
    "import exot.experiment            # Experiment for execution\n",
    "import exot.util                  # General utilities\n",
    "import exot.layer                 # Data manipulation layers\n",
    "from exot.util       import *\n",
    "from exot.layer      import *\n",
    "from exot.channel    import *\n",
    "from exot.experiment import *\n",
    "\n",
    "from exot.util.attributedict import AttributeDict"
   ]
  },
  {
   "cell_type": "markdown",
   "metadata": {},
   "source": [
    "# Generate Experiment\n",
    "#### 1. Load config"
   ]
  },
  {
   "cell_type": "code",
   "execution_count": 4,
   "metadata": {},
   "outputs": [
    {
     "name": "stdout",
     "output_type": "stream",
     "text": [
      "name = \"demo_exploratory_experiment\"\n",
      "save_path = \"./data\"\n",
      "backup_path = \"./data/_backup\"\n",
      "experiment_exists_action = \"update\"\n",
      "\n",
      "[EXPERIMENT]\n",
      "type = \"ExploratoryExperiment\"\n",
      "channel = \"ThermalCC\"\n",
      "\n",
      "[EXPERIMENT.PHASES]\n",
      "\n",
      "[EXPERIMENT.GENERAL]\n",
      "latency = 10\n",
      "fan = true\n",
      "governors = \"userspace\"\n",
      "frequencies = \"max\"\n",
      "sampling_period = 0.001\n",
      "delay_after_spawn = 150.0\n",
      "delay_after_auxiliary = 1.0\n",
      "active_wait = false\n",
      "\n",
      "[EXPERIMENT.LAYERS.io]\n",
      "name = \"TimeValue\"\n",
      "\n",
      "[EXPERIMENT.GENERAL.ARMv8]\n",
      "delay_after_spawn = 120.0\n",
      "sampling_period = 0.005\n",
      "\n",
      "[EXPERIMENT.GENERAL.ARMv7]\n",
      "delay_after_spawn = 120.0\n",
      "sampling_period = 0.005\n",
      "\n",
      "[EXPERIMENT.LAYERS.io.params]\n",
      "timebase = \"ns\"\n",
      "\n",
      "[ENVIRONMENTS.Haswell.APPS.snk]\n",
      "executable = \"meter_thermal_msr\"\n",
      "zone = \"host\"\n",
      "\n",
      "[ENVIRONMENTS.Haswell.APPS.src]\n",
      "executable = \"generator_utilisation_mt\"\n",
      "zone = \"host\"\n",
      "\n",
      "[ENVIRONMENTS.Haswell.src.generator]\n",
      "host_pinning = 0\n",
      "should_pin_host = true\n",
      "cores = [ 5,]\n",
      "host_policy = \"round_robin\"\n",
      "host_priority = 99\n",
      "worker_priority = 98\n",
      "worker_policy = \"round_robin\"\n",
      "should_pin_workers = true\n",
      "start_check_period = 25\n",
      "\n",
      "[ENVIRONMENTS.Haswell.src.logging]\n",
      "debug_log_filename = \"\"\n",
      "app_log_filename = \"\"\n",
      "log_level = \"info\"\n",
      "\n",
      "[ENVIRONMENTS.Haswell.src.schedule_reader]\n",
      "input_file = \"\"\n",
      "reading_from_file = true\n",
      "\n",
      "[ENVIRONMENTS.Haswell.snk.logging]\n",
      "debug_log_filename = \"\"\n",
      "app_log_filename = \"\"\n",
      "log_level = \"info\"\n",
      "\n",
      "[ENVIRONMENTS.Haswell.snk.thermal_msr]\n",
      "cores = [ 0, 2, 4, 6,]\n",
      "package = false\n",
      "\n",
      "[ENVIRONMENTS.Haswell.snk.meter]\n",
      "period = 0.001\n",
      "host_policy = \"round_robin\"\n",
      "host_pinning = 0\n",
      "should_pin_host = true\n",
      "host_priority = 90\n",
      "log_header = true\n",
      "start_immediately = false\n",
      "start_check_period = 25\n",
      "\n",
      "[ENVIRONMENTS.Sandy.APPS.snk]\n",
      "executable = \"meter_thermal_msr\"\n",
      "zone = \"host\"\n",
      "\n",
      "[ENVIRONMENTS.Sandy.APPS.src]\n",
      "executable = \"generator_utilisation_mt\"\n",
      "zone = \"host\"\n",
      "\n",
      "[ENVIRONMENTS.Sandy.src.generator]\n",
      "host_pinning = 0\n",
      "should_pin_host = true\n",
      "cores = [ 2,]\n",
      "host_policy = \"round_robin\"\n",
      "host_priority = 99\n",
      "worker_priority = 98\n",
      "worker_policy = \"round_robin\"\n",
      "should_pin_workers = true\n",
      "start_check_period = 25\n",
      "\n",
      "[ENVIRONMENTS.Sandy.src.logging]\n",
      "debug_log_filename = \"\"\n",
      "app_log_filename = \"\"\n",
      "log_level = \"info\"\n",
      "\n",
      "[ENVIRONMENTS.Sandy.src.schedule_reader]\n",
      "input_file = \"\"\n",
      "reading_from_file = true\n",
      "\n",
      "[ENVIRONMENTS.Sandy.snk.logging]\n",
      "debug_log_filename = \"\"\n",
      "app_log_filename = \"\"\n",
      "log_level = \"info\"\n",
      "\n",
      "[ENVIRONMENTS.Sandy.snk.thermal_msr]\n",
      "cores = [ 0, 1, 2, 3, 4, 5, 6, 7, 8, 9, 10, 11, 12, 13, 14, 15,]\n",
      "package = false\n",
      "\n",
      "[ENVIRONMENTS.Sandy.snk.meter]\n",
      "period = 0.001\n",
      "host_policy = \"round_robin\"\n",
      "host_pinning = 0\n",
      "should_pin_host = true\n",
      "host_priority = 90\n",
      "log_header = true\n",
      "start_immediately = false\n",
      "start_check_period = 25\n",
      "\n",
      "[ENVIRONMENTS.ARMv7.APPS.snk]\n",
      "executable = \"meter_thermal_sysfs\"\n",
      "zone = \"bigLITTLE\"\n",
      "\n",
      "[ENVIRONMENTS.ARMv7.APPS.src]\n",
      "executable = \"generator_utilisation_mt\"\n",
      "zone = \"bigLITTLE\"\n",
      "\n",
      "[ENVIRONMENTS.ARMv7.src.generator]\n",
      "host_pinning = 0\n",
      "should_pin_host = true\n",
      "cores = [ 6,]\n",
      "host_policy = \"round_robin\"\n",
      "host_priority = 99\n",
      "worker_priority = 98\n",
      "worker_policy = \"round_robin\"\n",
      "should_pin_workers = true\n",
      "start_check_period = 25\n",
      "\n",
      "[ENVIRONMENTS.ARMv7.src.logging]\n",
      "debug_log_filename = \"\"\n",
      "app_log_filename = \"\"\n",
      "log_level = \"info\"\n",
      "\n",
      "[ENVIRONMENTS.ARMv7.src.schedule_reader]\n",
      "input_file = \"\"\n",
      "reading_from_file = true\n",
      "\n",
      "[ENVIRONMENTS.ARMv7.snk.logging]\n",
      "debug_log_filename = \"\"\n",
      "app_log_filename = \"\"\n",
      "log_level = \"info\"\n",
      "\n",
      "[ENVIRONMENTS.ARMv7.snk.thermal_sysfs]\n",
      "zones = [ 0, 1, 2, 3, 4,]\n",
      "\n",
      "[ENVIRONMENTS.ARMv7.snk.meter]\n",
      "period = 0.001\n",
      "host_policy = \"round_robin\"\n",
      "host_pinning = 1\n",
      "should_pin_host = true\n",
      "host_priority = 90\n",
      "log_header = true\n",
      "start_immediately = false\n",
      "start_check_period = 25\n",
      "\n",
      "[ENVIRONMENTS.ARMv8.APPS.snk]\n",
      "executable = \"meter_thermal_sysfs\"\n",
      "zone = \"combined\"\n",
      "\n",
      "[ENVIRONMENTS.ARMv8.APPS.src]\n",
      "executable = \"generator_utilisation_mt\"\n",
      "zone = \"combined\"\n",
      "\n",
      "[ENVIRONMENTS.ARMv8.src.generator]\n",
      "host_pinning = 1\n",
      "should_pin_host = true\n",
      "cores = [ 4,]\n",
      "host_policy = \"round_robin\"\n",
      "host_priority = 99\n",
      "worker_priority = 98\n",
      "worker_policy = \"round_robin\"\n",
      "should_pin_workers = true\n",
      "start_check_period = 25\n",
      "\n",
      "[ENVIRONMENTS.ARMv8.src.logging]\n",
      "debug_log_filename = \"\"\n",
      "app_log_filename = \"\"\n",
      "log_level = \"info\"\n",
      "\n",
      "[ENVIRONMENTS.ARMv8.src.schedule_reader]\n",
      "input_file = \"\"\n",
      "reading_from_file = true\n",
      "\n",
      "[ENVIRONMENTS.ARMv8.snk.logging]\n",
      "debug_log_filename = \"\"\n",
      "app_log_filename = \"\"\n",
      "log_level = \"info\"\n",
      "\n",
      "[ENVIRONMENTS.ARMv8.snk.thermal_sysfs]\n",
      "zones = [ 0, 1, 2, 3, 4, 5,]\n",
      "\n",
      "[ENVIRONMENTS.ARMv8.snk.meter]\n",
      "period = 0.001\n",
      "host_policy = \"round_robin\"\n",
      "host_pinning = 2\n",
      "should_pin_host = true\n",
      "host_priority = 90\n",
      "log_header = true\n",
      "start_immediately = false\n",
      "start_check_period = 25\n",
      "\n"
     ]
    }
   ],
   "source": [
    "config = TOML.load(\"./configurations/examples/demo_exploratory_experiment.toml\")\n",
    "print(TOML.dumps(config))"
   ]
  },
  {
   "cell_type": "markdown",
   "metadata": {},
   "source": [
    "#### 2a Instantiate an experiment\n",
    "\n",
    "Experiment factory will take the type and channel from the config."
   ]
  },
  {
   "cell_type": "code",
   "execution_count": 5,
   "metadata": {},
   "outputs": [
    {
     "name": "stderr",
     "output_type": "stream",
     "text": [
      "\u001b[32m2020-05-22 12:50:56\u001b[0m :: bootstrapped layer 'io' with TimeValue\n"
     ]
    }
   ],
   "source": [
    "channel    = ChannelFactory()(config[\"EXPERIMENT\"][\"channel\"])\n",
    "experiment = ExperimentFactory()(config[\"EXPERIMENT\"][\"type\"], config=config, channel=channel)"
   ]
  },
  {
   "cell_type": "markdown",
   "metadata": {},
   "source": [
    "#### 2b Define the phase traces (rdpstreams)\n",
    "For the exploratory experiments, the user can freely design his own traces, in the form of rdpstreams. Those streams are added to the experiment config and used to instantiate the runs.\n",
    "The rdpstreams will be deleted from the config during the generation process, to make sure that the serialised experiment does not get too big."
   ]
  },
  {
   "cell_type": "code",
   "execution_count": 6,
   "metadata": {},
   "outputs": [],
   "source": [
    "rdp_signals = [\n",
    "                  pd.DataFrame(\n",
    "                      # 10 periods of a rectangular waveform with 1Hz\n",
    "                      data=np.hstack([np.full([20,1], 0.50), np.resize([1,0],[20,1])]), \n",
    "                      columns=['timestamp', 't440p']\n",
    "                  ),\n",
    "                  pd.DataFrame(\n",
    "                      # 10 periods of a rectangular waveform with 2Hz\n",
    "                      data=np.hstack([np.full([20,1], 0.25), np.resize([1,0],[20,1])]), \n",
    "                      columns=['timestamp', 't440p']\n",
    "                  )\n",
    "              ]\n",
    "experiment.config.EXPERIMENT.PHASES = AttributeDict.from_dict(\n",
    "    {'test':{'rdpstreams':rdp_signals,'repetitions':2}}\n",
    ")"
   ]
  },
  {
   "cell_type": "markdown",
   "metadata": {},
   "source": [
    "#### 2a Generate the experiment"
   ]
  },
  {
   "cell_type": "code",
   "execution_count": 7,
   "metadata": {},
   "outputs": [
    {
     "name": "stderr",
     "output_type": "stream",
     "text": [
      "\u001b[32m2020-05-22 12:50:57\u001b[0m :: Estimated duration of a single repetition of the test phase is 0:05:17\n",
      "\u001b[32m2020-05-22 12:50:57\u001b[0m :: This results in a total estimated duration of 0:10:34 for all repetitions.\n"
     ]
    }
   ],
   "source": [
    "experiment.generate()\n",
    "experiment.print_duration()"
   ]
  },
  {
   "cell_type": "markdown",
   "metadata": {},
   "source": [
    "#### 3a. Eyeballing\n",
    "\n",
    "You can access the streams via specific properties."
   ]
  },
  {
   "cell_type": "code",
   "execution_count": 8,
   "metadata": {},
   "outputs": [
    {
     "data": {
      "text/plain": [
       "{'rdpstream':     timestamp  t440p\n",
       " 0         0.5    1.0\n",
       " 1         0.5    0.0\n",
       " 2         0.5    1.0\n",
       " 3         0.5    0.0\n",
       " 4         0.5    1.0\n",
       " 5         0.5    0.0\n",
       " 6         0.5    1.0\n",
       " 7         0.5    0.0\n",
       " 8         0.5    1.0\n",
       " 9         0.5    0.0\n",
       " 10        0.5    1.0\n",
       " 11        0.5    0.0\n",
       " 12        0.5    1.0\n",
       " 13        0.5    0.0\n",
       " 14        0.5    1.0\n",
       " 15        0.5    0.0\n",
       " 16        0.5    1.0\n",
       " 17        0.5    0.0\n",
       " 18        0.5    1.0\n",
       " 19        0.5    0.0, 'rawstream':     timestamp  t440p\n",
       " 0   500000000    1.0\n",
       " 1   500000000    0.0\n",
       " 2   500000000    1.0\n",
       " 3   500000000    0.0\n",
       " 4   500000000    1.0\n",
       " 5   500000000    0.0\n",
       " 6   500000000    1.0\n",
       " 7   500000000    0.0\n",
       " 8   500000000    1.0\n",
       " 9   500000000    0.0\n",
       " 10  500000000    1.0\n",
       " 11  500000000    0.0\n",
       " 12  500000000    1.0\n",
       " 13  500000000    0.0\n",
       " 14  500000000    1.0\n",
       " 15  500000000    0.0\n",
       " 16  500000000    1.0\n",
       " 17  500000000    0.0\n",
       " 18  500000000    1.0\n",
       " 19  500000000    0.0}"
      ]
     },
     "execution_count": 8,
     "metadata": {},
     "output_type": "execute_result"
    }
   ],
   "source": [
    "phase = \"test\"\n",
    "rdpstream_id = 0\n",
    "run = experiment.phases[phase][rdpstream_id]\n",
    "\n",
    "# Access output streams\n",
    "run.o_streams #-> mapping"
   ]
  },
  {
   "cell_type": "markdown",
   "metadata": {},
   "source": [
    "#### 4. Write\n",
    "\n",
    "Writes to disk, serialises the experiment, runs, and all streams."
   ]
  },
  {
   "cell_type": "code",
   "execution_count": 9,
   "metadata": {},
   "outputs": [],
   "source": [
    "experiment.write()"
   ]
  },
  {
   "cell_type": "markdown",
   "metadata": {},
   "source": [
    "## Execute\n",
    "\n",
    "Running `execute` will execute in all environments present in the configuration."
   ]
  },
  {
   "cell_type": "code",
   "execution_count": 10,
   "metadata": {},
   "outputs": [
    {
     "name": "stderr",
     "output_type": "stream",
     "text": [
      "\u001b[32m2020-05-22 12:50:58\u001b[0m :: executing phases: ['test'] in env 'Haswell'\n"
     ]
    },
    {
     "name": "stdout",
     "output_type": "stream",
     "text": [
      "Available environments are: ['Haswell', 'Sandy', 'ARMv7', 'ARMv8']\n"
     ]
    },
    {
     "name": "stderr",
     "output_type": "stream",
     "text": [
      "\u001b[32m2020-05-22 12:51:00\u001b[0m :: Haswell->host: connected: SSHUnixDriver\n",
      "\u001b[32m2020-05-22 12:51:00\u001b[0m :: Haswell->host: sending experiment\n",
      "\u001b[32m2020-05-22 12:51:00\u001b[0m :: Haswell->host: experiment sent!\n",
      "\u001b[32m2020-05-22 12:51:00\u001b[0m :: Haswell->host: configuring to {'latency': 10, 'fan': True, 'governors': 'userspace', 'frequencies': 'max', 'sampling_period': 0.001, 'delay_after_spawn': 150.0, 'delay_after_auxiliary': 1.0, 'active_wait': False, 'ARMv8': {'delay_after_spawn': 120.0, 'sampling_period': 0.005}, 'ARMv7': {'delay_after_spawn': 120.0, 'sampling_period': 0.005}, 'STANDARD': {'latency': 10, 'fan': True, 'governors': 'userspace', 'frequencies': 'max', 'sampling_period': 0.001, 'delay_after_spawn': 150.0, 'delay_after_auxiliary': 1.0, 'active_wait': False}}\n",
      "\u001b[32m2020-05-22 12:51:08\u001b[0m :: executing in env: 'Haswell', resume: False, reps: [0, 1], run: <Run at 0x7fd532d0fb38 (digested, config={'phase': 'test', 'rdpstream_id': 0, 'repetitions': 2})>\n",
      "\u001b[32m2020-05-22 12:51:08\u001b[0m :: executing in env: Haswell, rep: 0, estimated duration: 10.0s, run: <Run at 0x7fd532d0fb38 (digested, config={'phase': 'test', 'rdpstream_id': 0, 'repetitions': 2})>\n",
      "\u001b[32m2020-05-22 12:53:57\u001b[0m :: executing in env: Haswell, rep: 1, estimated duration: 10.0s, run: <Run at 0x7fd532d0fb38 (digested, config={'phase': 'test', 'rdpstream_id': 0, 'repetitions': 2})>\n",
      "\u001b[32m2020-05-22 12:56:47\u001b[0m :: Haswell->host: experiment logs fetched!\n",
      "\u001b[32m2020-05-22 12:56:47\u001b[0m :: executing phases: ['test'] in env 'Haswell'\n",
      "\u001b[32m2020-05-22 12:56:47\u001b[0m :: Haswell->host: connected: SSHUnixDriver\n",
      "\u001b[32m2020-05-22 12:56:47\u001b[0m :: Haswell->host: sending experiment\n",
      "\u001b[32m2020-05-22 12:56:48\u001b[0m :: Haswell->host: experiment sent!\n",
      "\u001b[32m2020-05-22 12:56:48\u001b[0m :: executing in env: 'Haswell', resume: False, reps: [0, 1], run: <Run at 0x7fd532a9c240 (digested, config={'phase': 'test', 'rdpstream_id': 1, 'repetitions': 2})>\n",
      "\u001b[32m2020-05-22 12:56:48\u001b[0m :: executing in env: Haswell, rep: 0, estimated duration: 5.0s, run: <Run at 0x7fd532a9c240 (digested, config={'phase': 'test', 'rdpstream_id': 1, 'repetitions': 2})>\n",
      "\u001b[32m2020-05-22 12:59:29\u001b[0m :: executing in env: Haswell, rep: 1, estimated duration: 5.0s, run: <Run at 0x7fd532a9c240 (digested, config={'phase': 'test', 'rdpstream_id': 1, 'repetitions': 2})>\n",
      "\u001b[32m2020-05-22 13:02:11\u001b[0m :: Haswell->host: experiment logs fetched!\n",
      "\u001b[32m2020-05-22 13:02:11\u001b[0m :: Haswell->host: cleaning up\n",
      "\u001b[32m2020-05-22 13:02:20\u001b[0m :: Haswell->host: successfully deleted remote data directory\n",
      "\u001b[32m2020-05-22 13:02:20\u001b[0m :: Haswell->host: disconnected\n"
     ]
    }
   ],
   "source": [
    "print(\"Available environments are: \" + str(experiment.available_environments))\n",
    "experiment.execute_in_environment(\"Haswell\", phases=['test'])"
   ]
  },
  {
   "cell_type": "markdown",
   "metadata": {},
   "source": [
    "## Analyse"
   ]
  },
  {
   "cell_type": "markdown",
   "metadata": {},
   "source": [
    "#### 1. Eyeballing single runs to check if experiment went well\n",
    "##### 1a. Choose a run"
   ]
  },
  {
   "cell_type": "code",
   "execution_count": 11,
   "metadata": {},
   "outputs": [
    {
     "data": {
      "text/plain": [
       "<Run at 0x7fd532d0fb38 (digested, config={'phase': 'test', 'rdpstream_id': 0, 'repetitions': 2})>"
      ]
     },
     "execution_count": 11,
     "metadata": {},
     "output_type": "execute_result"
    }
   ],
   "source": [
    "phase = \"test\"\n",
    "rdpstream_id = 0\n",
    "run = experiment.phases[phase][rdpstream_id]; run"
   ]
  },
  {
   "cell_type": "markdown",
   "metadata": {},
   "source": [
    "##### 1a. Get available environments"
   ]
  },
  {
   "cell_type": "code",
   "execution_count": 12,
   "metadata": {},
   "outputs": [
    {
     "data": {
      "text/plain": [
       "['Haswell']"
      ]
     },
     "execution_count": 12,
     "metadata": {},
     "output_type": "execute_result"
    }
   ],
   "source": [
    "run.parent.layers.io.get_available_environments()"
   ]
  },
  {
   "cell_type": "markdown",
   "metadata": {},
   "source": [
    "##### 1b. Get raw measurements\n",
    "\n",
    "- The `get_measurements` function requires the I/O layer to have at least the environment, and the repetition number configured.\n",
    "- `describe_measurements` will tell you what columns are available, with more detail."
   ]
  },
  {
   "cell_type": "code",
   "execution_count": 14,
   "metadata": {},
   "outputs": [
    {
     "name": "stdout",
     "output_type": "stream",
     "text": [
      "[{'module': 'meter', 'value': 'timestamp', 'dimension': '', 'unit': 'ns', 'quantity': '', 'method': ''}, {'module': 'thermal_msr', 'value': 'core', 'dimension': '0', 'unit': '°C', 'quantity': 'thermal', 'method': 'msr'}, {'module': 'thermal_msr', 'value': 'core', 'dimension': '2', 'unit': '°C', 'quantity': 'thermal', 'method': 'msr'}, {'module': 'thermal_msr', 'value': 'core', 'dimension': '4', 'unit': '°C', 'quantity': 'thermal', 'method': 'msr'}, {'module': 'thermal_msr', 'value': 'core', 'dimension': '6', 'unit': '°C', 'quantity': 'thermal', 'method': 'msr'}]\n"
     ]
    }
   ],
   "source": [
    "run.parent.layers.io.config.update(env=\"Haswell\", rep=0)\n",
    "measurements = run.parent.layers.io.get_measurements()\n",
    "print(run.parent.layers.io.describe_measurements(measurements))"
   ]
  },
  {
   "cell_type": "markdown",
   "metadata": {},
   "source": [
    "The raw measurements are packed into a pandas DataFrame and can be used for eyeballing the data."
   ]
  },
  {
   "cell_type": "markdown",
   "metadata": {},
   "source": [
    "##### 1.c Ingest the run\n",
    "\n",
    "To ingest the run, and pipe the measurements through the layers, you need to provide the necessary runtime configuration. Most of it is passed by default, with the notable exception of the *Matcher*.\n",
    "\n",
    "The *Matcher* defines which columns will be taken from the raw measurements, how they will be combined and passed on to the layers. For the thermal channel, you could use:\n",
    "\n",
    "```python\n",
    "env = \"Haswell\"\n",
    "rep = 0\n",
    "core = 4\n",
    "matcher = [(wrangle.Matcher(\"thermal\", \"msr\", [\"core\"], [core]), \"sum\")]\n",
    "ingest_args = dict(io={\"env\": env, \"rep\": rep, \"matcher\": matcher})\n",
    "```\n",
    "Alternatives for the combination of multiple columns are `None` for no combination, \"max\", \"min\" and \"avg\".\n",
    "You can also provide other parameters, e.g. the *decision device*. For eval runs, you'd have to get it from a train run, via `run.parent.layers.lne.decision_device` property."
   ]
  },
  {
   "cell_type": "code",
   "execution_count": 15,
   "metadata": {},
   "outputs": [],
   "source": [
    "ingest_args = dict(\n",
    "  io={\n",
    "      \"env\": 'Haswell', \n",
    "      \"rep\": 0, \n",
    "      \"matcher\": [(exot.util.wrangle.Matcher(\"thermal\", \"msr\", [\"core\"], [2]), None)]\n",
    "  }\n",
    ")\n",
    "run.ingest(**ingest_args)"
   ]
  },
  {
   "cell_type": "markdown",
   "metadata": {},
   "source": [
    "After running ingest, the run's input streams will be populated, and can be accessed via:\n",
    "\n",
    "- `run.i_lnestream`\n",
    "- `run.i_rdpstream`\n",
    "- `run.i_rawstream`"
   ]
  },
  {
   "cell_type": "markdown",
   "metadata": {},
   "source": [
    "##### 1d. Plot rdp measurements"
   ]
  },
  {
   "cell_type": "code",
   "execution_count": 22,
   "metadata": {},
   "outputs": [
    {
     "data": {
      "image/png": "[encoded data removed]",
      "text/plain": [
       "<Figure size 864x144 with 1 Axes>"
      ]
     },
     "metadata": {
      "needs_background": "light"
     },
     "output_type": "display_data"
    }
   ],
   "source": [
    "from exot.plotting.run_plotter import *\n",
    "\n",
    "with RunPlotter(run, save_pdf=False) as plotter:\n",
    "    plotter.plot_rdpstream(start=0,end=10)"
   ]
  }
 ],
 "metadata": {
  "kernelspec": {
   "display_name": "toolkit",
   "language": "python",
   "name": "toolkit"
  },
  "language_info": {
   "codemirror_mode": {
    "name": "ipython",
    "version": 3
   },
   "file_extension": ".py",
   "mimetype": "text/x-python",
   "name": "python",
   "nbconvert_exporter": "python",
   "pygments_lexer": "ipython3",
   "version": "3.7.2"
  }
 },
 "nbformat": 4,
 "nbformat_minor": 2
}
