{
 "cells": [
  {
   "cell_type": "markdown",
   "metadata": {},
   "source": [
    "# Remote backend example\n",
    "\n",
    "Enter connection a valid configuration to demo the remote backend."
   ]
  },
  {
   "cell_type": "code",
   "execution_count": 5,
   "metadata": {},
   "outputs": [],
   "source": [
    "config = {\n",
    "    \"ip\": \"82.130.102.xxx\",\n",
    "    \"user\": \"karajan\",\n",
    "    \"port\": 22,\n",
    "    \"key\": \"$KARAJAN_ACCESS_DIR/id_ed25519\",\n",
    "}"
   ]
  },
  {
   "cell_type": "markdown",
   "metadata": {},
   "source": [
    "First, import the Remote backend."
   ]
  },
  {
   "cell_type": "code",
   "execution_count": 6,
   "metadata": {},
   "outputs": [],
   "source": [
    "import os, sys, time\n",
    "sys.path.append(\"..\")\n",
    "\n",
    "import datapro.driver.ssh"
   ]
  },
  {
   "cell_type": "markdown",
   "metadata": {},
   "source": [
    "## Instantiating and connecting\n",
    "\n",
    "Instantiate the SSH backend. The `__repr__` method is provided to display meaningful information about the state of the connection."
   ]
  },
  {
   "cell_type": "code",
   "execution_count": 7,
   "metadata": {},
   "outputs": [
    {
     "name": "stdout",
     "output_type": "stream",
     "text": [
      "<datapro.driver.ssh.SSH at 0x12166f400 (configured, inactive)>\n"
     ]
    }
   ],
   "source": [
    "R = datapro.driver.ssh.SSH(backend=config)\n",
    "print(repr(R))"
   ]
  },
  {
   "cell_type": "code",
   "execution_count": 8,
   "metadata": {},
   "outputs": [
    {
     "name": "stdout",
     "output_type": "stream",
     "text": [
      "<datapro.driver.ssh.SSH at 0x12166f400 (configured, active)>\n"
     ]
    }
   ],
   "source": [
    "R.connect()\n",
    "print(repr(R))"
   ]
  },
  {
   "cell_type": "code",
   "execution_count": 9,
   "metadata": {},
   "outputs": [],
   "source": [
    "from datapro.driver._backend import result_to_print_ready_dict\n",
    "\n",
    "def print_result(result):\n",
    "    _ = None\n",
    "    \n",
    "    if hasattr(result, \"persistent\"):\n",
    "        _ = result.persistent\n",
    "        delattr(result, \"persistent\")\n",
    "    \n",
    "    for k, v in result_to_print_ready_dict(result).items():\n",
    "        print(f\"# {k} {str(''):->{78-len(k)-1}}\\n{v}\")\n",
    "\n",
    "    if _:\n",
    "        k = \"persistent\"\n",
    "        print(f\"# {k} {str(''):->{78-len(k)-1}}\")\n",
    "        for k, v in _.items():\n",
    "            print(f\"{k+':':<10}{v!r}\")\n",
    "                \n",
    "        result.persistent = _"
   ]
  },
  {
   "cell_type": "markdown",
   "metadata": {},
   "source": [
    "## Running commands\n",
    "\n",
    "Running commands is very simple, and can be performed via `run` or `sudo` methods, the latter having root privileges."
   ]
  },
  {
   "cell_type": "code",
   "execution_count": 10,
   "metadata": {},
   "outputs": [],
   "source": [
    "env = R.run(\"echo user=$HOSTNAME:$USER shell=$SHELL tty=$TTY ssh_tty=$SSH_TTY sty=$STY pwd=$PWD\")"
   ]
  },
  {
   "cell_type": "markdown",
   "metadata": {},
   "source": [
    "Results are instances of `invoke.runners.Result`, which wrap the following attributes:\n",
    "    \n",
    "- `command`: the command,\n",
    "- `exited`: return code of the command,\n",
    "- `stdout`: the standard output of the command,\n",
    "- `stderr`: the standard error of the command."
   ]
  },
  {
   "cell_type": "code",
   "execution_count": 11,
   "metadata": {
    "scrolled": false
   },
   "outputs": [
    {
     "name": "stdout",
     "output_type": "stream",
     "text": [
      "# command ----------------------------------------------------------------------\n",
      "echo user=$HOSTNAME:$USER shell=$SHELL tty=$TTY ssh_tty=$SSH_TTY sty=$STY pwd=$PWD\n",
      "# encoding ---------------------------------------------------------------------\n",
      "UTF-8\n",
      "# exited -----------------------------------------------------------------------\n",
      "0\n",
      "# stdout -----------------------------------------------------------------------\n",
      "user=pc-10666:dle shell=/bin/bash tty= ssh_tty= sty= pwd=/home/dle\n",
      "# stderr -----------------------------------------------------------------------\n",
      "\n"
     ]
    }
   ],
   "source": [
    "print_result(env)"
   ]
  },
  {
   "cell_type": "code",
   "execution_count": 12,
   "metadata": {
    "scrolled": true
   },
   "outputs": [
    {
     "name": "stdout",
     "output_type": "stream",
     "text": [
      "# command ----------------------------------------------------------------------\n",
      "ps ax | grep dle && >&2 echo 'Done'\n",
      "# encoding ---------------------------------------------------------------------\n",
      "UTF-8\n",
      "# exited -----------------------------------------------------------------------\n",
      "0\n",
      "# stdout -----------------------------------------------------------------------\n",
      "25919 ?        Ss     0:00 sshd: dle [priv]\n",
      "25995 ?        S      0:00 sshd: dle@notty\n",
      "26000 ?        Ss     0:00 bash -c ps ax | grep dle && >&2 echo 'Done'\n",
      "26002 ?        S      0:00 grep dle\n",
      "# stderr -----------------------------------------------------------------------\n",
      "Done\n"
     ]
    }
   ],
   "source": [
    "ps_pipe = R.run(\"ps ax | grep dle && >&2 echo 'Done'\")\n",
    "print_result(ps_pipe)"
   ]
  },
  {
   "cell_type": "markdown",
   "metadata": {},
   "source": [
    "## Disconnecting"
   ]
  },
  {
   "cell_type": "code",
   "execution_count": 13,
   "metadata": {},
   "outputs": [],
   "source": [
    "R.disconnect()"
   ]
  }
 ],
 "metadata": {
  "kernelspec": {
   "display_name": "Python 3",
   "language": "python",
   "name": "python3"
  },
  "language_info": {
   "codemirror_mode": {
    "name": "ipython",
    "version": 3
   },
   "file_extension": ".py",
   "mimetype": "text/x-python",
   "name": "python",
   "nbconvert_exporter": "python",
   "pygments_lexer": "ipython3",
   "version": "3.7.3"
  }
 },
 "nbformat": 4,
 "nbformat_minor": 2
}
