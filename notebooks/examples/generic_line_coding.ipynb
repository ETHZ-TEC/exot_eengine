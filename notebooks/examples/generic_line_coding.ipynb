{
 "cells": [
  {
   "cell_type": "markdown",
   "metadata": {},
   "source": [
    "# Generic line coding\n",
    "\n",
    "The _GenericLineCoding_ layer performs the following:\n",
    "\n",
    "-   [__Encoding__] With a signal mapping provided in the constructor, applies the mapping to\n",
    "    an input symbol stream using keys from the mapping, and produces either:\n",
    "\n",
    "    -   a flattened 1-d stream of subsymbols,\n",
    "    -   a 2-d array with shape: (symbol stream length, subsymbols * samples/subsymbol)\n",
    "\n",
    "    The type of output is controlled with a 'flattened' parameter. An unflattened\n",
    "    version can always be produced with the `_encode_as_subsymbols` method. Since\n",
    "    it's more meaningful for this layer to return 1-d streams, the condition that\n",
    "    `decode(encode(x)) == x` is not valid by default. The `_encode_as_subsymbols` can\n",
    "    be used for dummy input or testing.\n",
    "\n",
    "-   [__Decoding__] Takes a 2-d array of samples, where each row should contain a number of\n",
    "    samples meant to represent a single symbol, i.e. should contain all subsymbols. A\n",
    "    mask is used with phase-offseted 'carrier' symbols.\n",
    "\n",
    "Constructor arguments:\n",
    "- \"signal\" (required) the signal definition, with integer symbols and a 'carrier' key,\n",
    "- \"samples_per_subsymbol\" (optional, default: 2),\n",
    "- \"flattened\" (optional, default: True).\n",
    "\n",
    "Preconditions:\n",
    "- Encode input is a NumPy array,\n",
    "- Encode input is a 1-d stream,\n",
    "- Encode input has only values defined in the signal mapping (signal sans carrier),\n",
    "- Decode input is a 2-d array of valid width.\n",
    "\n",
    "Postconditions:\n",
    "- Encode output is a 1-d stream or a 2-d array of valid width,\n",
    "- Decode output is a 1-d stream,\n",
    "- Decode output has only values defined in the signal mapping."
   ]
  },
  {
   "cell_type": "code",
   "execution_count": 1,
   "metadata": {},
   "outputs": [
    {
     "name": "stdout",
     "output_type": "stream",
     "text": [
      "Populating the interactive namespace from numpy and matplotlib\n"
     ]
    }
   ],
   "source": [
    "import sys\n",
    "sys.path.append('..')\n",
    "%pylab inline\n",
    "%precision 3\n",
    "numpy.set_printoptions(linewidth=100)\n",
    "from ipywidgets import interact, interactive, fixed, interact_manual\n",
    "import ipywidgets as widgets"
   ]
  },
  {
   "cell_type": "code",
   "execution_count": 2,
   "metadata": {},
   "outputs": [],
   "source": [
    "import datapro\n",
    "from datapro.layer import *\n",
    "from datapro.util.scinum import *"
   ]
  },
  {
   "cell_type": "markdown",
   "metadata": {},
   "source": [
    "## Basics\n",
    "\n",
    "### Signals & masks\n",
    "\n",
    "Decoding uses phase-offsetted masks generated from a _carrier_ supplied with the signal."
   ]
  },
  {
   "cell_type": "code",
   "execution_count": 3,
   "metadata": {},
   "outputs": [],
   "source": [
    "signal = {0: [1, 0], 1: [0, 1], \"carrier\": [1, 0]}\n",
    "coder = lne.GenericLineCoding(signal=signal)"
   ]
  },
  {
   "cell_type": "markdown",
   "metadata": {},
   "source": [
    "Once a signal is provided, the following properties are available in the coder:\n",
    "1. _signal_\n",
    "2. _mapping_\n",
    "3. _carrier_"
   ]
  },
  {
   "cell_type": "code",
   "execution_count": 4,
   "metadata": {},
   "outputs": [
    {
     "name": "stdout",
     "output_type": "stream",
     "text": [
      "signal:  {0: [1, 0], 1: [0, 1], 'carrier': [1, 0]}\n",
      "mapping: {0: [1, 0], 1: [0, 1]}\n",
      "carrier: [1, 0]\n"
     ]
    }
   ],
   "source": [
    "print(\"signal: \", coder.signal)\n",
    "print(\"mapping:\", coder.mapping)\n",
    "print(\"carrier:\", coder.carrier)"
   ]
  },
  {
   "cell_type": "markdown",
   "metadata": {},
   "source": [
    "Masks are created using phase-offseted copies of the carrier. The number of phases is:\n",
    "$phases = 2 \\times (symcount - 1)$. The carrier is offseted using the `np.roll` function. Uneven sizes are permitted, and produced using interpolation, set to _nearest_ by default."
   ]
  },
  {
   "cell_type": "code",
   "execution_count": 5,
   "metadata": {},
   "outputs": [
    {
     "data": {
      "text/plain": [
       "array([[1., 1., 0., 0.],\n",
       "       [0., 1., 1., 0.]])"
      ]
     },
     "execution_count": 5,
     "metadata": {},
     "output_type": "execute_result"
    }
   ],
   "source": [
    "coder.create_mask()"
   ]
  },
  {
   "cell_type": "code",
   "execution_count": 6,
   "metadata": {},
   "outputs": [
    {
     "data": {
      "text/plain": [
       "array([[1., 1., 1., 1., 1., 1., 0., 0., 0., 0., 0., 0.],\n",
       "       [0., 0., 0., 1., 1., 1., 1., 1., 1., 0., 0., 0.]])"
      ]
     },
     "execution_count": 6,
     "metadata": {},
     "output_type": "execute_result"
    }
   ],
   "source": [
    "coder.create_mask(samples=6)"
   ]
  },
  {
   "cell_type": "markdown",
   "metadata": {},
   "source": [
    "Below is an example of a carrier that is of different length than the symbols. Only symbol → subsymbols mappings need to have same length."
   ]
  },
  {
   "cell_type": "code",
   "execution_count": 7,
   "metadata": {},
   "outputs": [],
   "source": [
    "coder.signal.update(carrier=[0.7, 1, 0.1, 0])\n",
    "coder.signal = coder.signal # properties are updated in the property setter"
   ]
  },
  {
   "cell_type": "code",
   "execution_count": 8,
   "metadata": {},
   "outputs": [
    {
     "data": {
      "text/plain": [
       "array([[0.7, 1. , 0.1, 0. ],\n",
       "       [0. , 0.7, 1. , 0.1]])"
      ]
     },
     "execution_count": 8,
     "metadata": {},
     "output_type": "execute_result"
    }
   ],
   "source": [
    "coder.create_mask()"
   ]
  },
  {
   "cell_type": "code",
   "execution_count": 9,
   "metadata": {},
   "outputs": [
    {
     "data": {
      "text/plain": [
       "array([[0.7  , 0.8  , 0.9  , 1.   , 0.7  , 0.4  , 0.1  , 0.067, 0.033, 0.   ],\n",
       "       [0.033, 0.   , 0.7  , 0.8  , 0.9  , 1.   , 0.7  , 0.4  , 0.1  , 0.067]])"
      ]
     },
     "execution_count": 9,
     "metadata": {},
     "output_type": "execute_result"
    }
   ],
   "source": [
    "coder.create_mask(samples=5, kind=\"linear\")"
   ]
  },
  {
   "cell_type": "markdown",
   "metadata": {},
   "source": [
    "## Demo: _Manchester-like coding_\n",
    "\n",
    "There is an alias for Manchester coding, `datapro.layer.lne.ManchesterLineCoding`, which defines the signal internally, such that it does not need to be provided manually.\n",
    "\n",
    "### Encoding\n",
    "\n",
    "Create random array with integer symbols in the range $[0, 2)$."
   ]
  },
  {
   "cell_type": "code",
   "execution_count": 10,
   "metadata": {},
   "outputs": [
    {
     "name": "stdout",
     "output_type": "stream",
     "text": [
      "[1 1 0 0 1 0 1 1 0 1]\n"
     ]
    }
   ],
   "source": [
    "coder = lne.ManchesterLineCoding()\n",
    "msg = np.random.randint(0, 2, 10, dtype=int)\n",
    "/print msg"
   ]
  },
  {
   "cell_type": "markdown",
   "metadata": {},
   "source": [
    "Since the coder produces flattened output by default, we need to use `_encode_as_subsymbols` to get `decode`-compatible output. The argument `samples` controls how many samples are used per subsymbol."
   ]
  },
  {
   "cell_type": "code",
   "execution_count": 11,
   "metadata": {
    "scrolled": false
   },
   "outputs": [
    {
     "name": "stdout",
     "output_type": "stream",
     "text": [
      "[0 1 0 1 1 0 1 0 0 1 1 0 0 1 0 1 1 0 0 1]\n",
      "\n",
      "[[0 0 0 0 1 1 1 1]\n",
      " [0 0 0 0 1 1 1 1]\n",
      " [1 1 1 1 0 0 0 0]\n",
      " [1 1 1 1 0 0 0 0]\n",
      " [0 0 0 0 1 1 1 1]\n",
      " [1 1 1 1 0 0 0 0]\n",
      " [0 0 0 0 1 1 1 1]\n",
      " [0 0 0 0 1 1 1 1]\n",
      " [1 1 1 1 0 0 0 0]\n",
      " [0 0 0 0 1 1 1 1]]\n"
     ]
    }
   ],
   "source": [
    "encoded_stream = coder.encode(msg)\n",
    "encoded = coder._encode_as_subsymbols(msg, samples=4)\n",
    "/print encoded_stream\n",
    "/print\n",
    "/print encoded"
   ]
  },
  {
   "cell_type": "markdown",
   "metadata": {},
   "source": [
    "### Decoding\n",
    "\n",
    "For decoding, we need to provide at least the ideal symbol stream (in this case, the `msg`). If the _phase_ is equal to _train_, each subsequent call to `decode` will perform a partial fit of the internal naïve Bayes model. The runtime config is controlled via the property `config`. At minimum, the decoding requires the ideal symstream to be provided, via a `symstream` key (*the name was chosen such that a Run's o_streams dict can be given like: config = {**run.o_streams}*)."
   ]
  },
  {
   "cell_type": "code",
   "execution_count": 12,
   "metadata": {},
   "outputs": [
    {
     "name": "stdout",
     "output_type": "stream",
     "text": [
      "{'symstream': array([1, 1, 0, 0, 1, 0, 1, 1, 0, 1]), 'phase': 'train'}\n"
     ]
    }
   ],
   "source": [
    "coder.config = dict(symstream=msg, phase=\"train\")\n",
    "/print coder.config"
   ]
  },
  {
   "cell_type": "markdown",
   "metadata": {},
   "source": [
    "For decoding we will add some gaussian noise to the signal using `datapro.util.scinum.add_awgn_noise`, with parameters $\\sigma$ (_std. dev._) and $\\mu$ (_mean_)."
   ]
  },
  {
   "cell_type": "code",
   "execution_count": 13,
   "metadata": {},
   "outputs": [
    {
     "data": {
      "application/vnd.jupyter.widget-view+json": {
       "model_id": "23e8adabae1c4c9ea854764821c13757",
       "version_major": 2,
       "version_minor": 0
      },
      "text/plain": [
       "interactive(children=(FloatSlider(value=0.0, description='σ', max=2.0, step=0.05), FloatSlider(value=0.0, desc…"
      ]
     },
     "metadata": {},
     "output_type": "display_data"
    }
   ],
   "source": [
    "@interact(σ=(0.0, 2.0, 0.05), μ=(0.0, 10.0))\n",
    "def decode(σ=0.0, μ=0.0):\n",
    "    decoded = coder.decode(add_awgn_noise(encoded, σ, μ))\n",
    "    print(\"decoded: \", decoded)\n",
    "    print(\"original:\", msg)\n",
    "    print(\"errors:  \", count_errors(decoded, msg))"
   ]
  },
  {
   "cell_type": "code",
   "execution_count": 14,
   "metadata": {},
   "outputs": [
    {
     "data": {
      "application/vnd.jupyter.widget-view+json": {
       "model_id": "fb68b8038afb4dc092467c31434d5798",
       "version_major": 2,
       "version_minor": 0
      },
      "text/plain": [
       "interactive(children=(FloatSlider(value=1.0, description='σ', max=2.0, step=0.05), FloatSlider(value=0.0, desc…"
      ]
     },
     "metadata": {},
     "output_type": "display_data"
    }
   ],
   "source": [
    "@interact_manual(σ=(0.0, 2.0, 0.05), μ=(0.0, 10.0), r=(0, 500, 20))\n",
    "def evaluate(σ=1.0, μ=0.0, r=40):\n",
    "    x = 0\n",
    "    for i in range(r):\n",
    "        x += count_errors(coder.decode(add_awgn_noise(encoded, σ, μ)), msg)\n",
    "\n",
    "    print(\"σ: {}, μ: {}\".format(σ, μ))\n",
    "    print(\"reps:  \", r)\n",
    "    print(\"errors: {}/{} ({:.2f}%)\".format(x, len(msg) * r, 100 * x/r/len(msg)))"
   ]
  },
  {
   "cell_type": "markdown",
   "metadata": {},
   "source": [
    "### Evaluation\n",
    "\n",
    "The previous coder was configured in a _train_ phase. We can take its decision device and use it to evaluate another coder."
   ]
  },
  {
   "cell_type": "code",
   "execution_count": 15,
   "metadata": {},
   "outputs": [],
   "source": [
    "evalcoder = type(coder)()"
   ]
  },
  {
   "cell_type": "markdown",
   "metadata": {},
   "source": [
    "The decision device can be either provided as runtime config (via the `config` property), or via a specific `decision_device` parameter."
   ]
  },
  {
   "cell_type": "code",
   "execution_count": 16,
   "metadata": {},
   "outputs": [],
   "source": [
    "evalcoder.config = dict(symstream=msg,\n",
    "                        phase=\"eval\",\n",
    "                        decision_device=coder.decision_device)\n",
    "# evalcoder.decision_device = coder.decision_device"
   ]
  },
  {
   "cell_type": "code",
   "execution_count": 17,
   "metadata": {
    "scrolled": true
   },
   "outputs": [
    {
     "data": {
      "application/vnd.jupyter.widget-view+json": {
       "model_id": "2eabac0de3824349b97c79b7a18a2e51",
       "version_major": 2,
       "version_minor": 0
      },
      "text/plain": [
       "interactive(children=(FloatSlider(value=0.5, description='σ', max=2.0, step=0.05), FloatSlider(value=0.0, desc…"
      ]
     },
     "metadata": {},
     "output_type": "display_data"
    }
   ],
   "source": [
    "@interact(σ=(0.0, 2.0, 0.05), μ=(0.0, 10.0))\n",
    "def decode(σ=0.5, μ=0.0):\n",
    "    decoded = evalcoder.decode(add_awgn_noise(encoded, σ, μ))\n",
    "    errors = count_errors(decoded, msg)\n",
    "    print(\"decoded: \", decoded)\n",
    "    print(\"original:\", msg)\n",
    "    print(\"errors: {}/{} ({:.1f}%)\".format(errors, len(msg), 100*errors/len(msg)))"
   ]
  },
  {
   "cell_type": "markdown",
   "metadata": {},
   "source": [
    "## Demo: _Alternative signals_\n",
    "\n",
    "With the GenericLineCoder we are not limited to simple signals."
   ]
  },
  {
   "cell_type": "code",
   "execution_count": 18,
   "metadata": {},
   "outputs": [
    {
     "name": "stdout",
     "output_type": "stream",
     "text": [
      "Subsymbol count: 3\n",
      "Phase count: 4\n"
     ]
    }
   ],
   "source": [
    "altsignal = {\n",
    "    0: [1, 0, 0],\n",
    "    1: [0, 1, 0],\n",
    "    2: [0, 0, 1],\n",
    "    \"carrier\": [1, 1, 0, 0, 0, 0]\n",
    "}\n",
    "altcoder = lne.GenericLineCoding(signal=altsignal)\n",
    "print(\"Subsymbol count:\", altcoder.subsymbol_count)\n",
    "print(\"Phase count:\", altcoder.phase_count)"
   ]
  },
  {
   "cell_type": "markdown",
   "metadata": {},
   "source": [
    "Since the coder has a subsymbol count of 3, there are 4 phase-offseted carriers in the mask."
   ]
  },
  {
   "cell_type": "code",
   "execution_count": 19,
   "metadata": {},
   "outputs": [
    {
     "data": {
      "text/plain": [
       "array([[1., 1., 0., 0., 0., 0.],\n",
       "       [0., 1., 1., 0., 0., 0.],\n",
       "       [0., 0., 1., 1., 0., 0.],\n",
       "       [0., 0., 0., 1., 1., 0.]])"
      ]
     },
     "execution_count": 19,
     "metadata": {},
     "output_type": "execute_result"
    }
   ],
   "source": [
    "altcoder.create_mask()"
   ]
  },
  {
   "cell_type": "markdown",
   "metadata": {},
   "source": [
    "Random message with symbols from range [0, 2]."
   ]
  },
  {
   "cell_type": "code",
   "execution_count": 20,
   "metadata": {},
   "outputs": [
    {
     "name": "stdout",
     "output_type": "stream",
     "text": [
      "[1 0 0 1 1 2 0 0 0 1 1 2 2 0 2]\n"
     ]
    }
   ],
   "source": [
    "altmsg = np.random.randint(0, altcoder.subsymbol_count, 15, dtype=int)\n",
    "/print altmsg"
   ]
  },
  {
   "cell_type": "markdown",
   "metadata": {},
   "source": [
    "Encoded message with 2 samples per subsymbol."
   ]
  },
  {
   "cell_type": "code",
   "execution_count": 21,
   "metadata": {},
   "outputs": [
    {
     "name": "stdout",
     "output_type": "stream",
     "text": [
      "[[0 0 1 1 0 0]\n",
      " [1 1 0 0 0 0]\n",
      " [1 1 0 0 0 0]\n",
      " [0 0 1 1 0 0]\n",
      " [0 0 1 1 0 0]\n",
      " [0 0 0 0 1 1]\n",
      " [1 1 0 0 0 0]\n",
      " [1 1 0 0 0 0]\n",
      " [1 1 0 0 0 0]\n",
      " [0 0 1 1 0 0]\n",
      " [0 0 1 1 0 0]\n",
      " [0 0 0 0 1 1]\n",
      " [0 0 0 0 1 1]\n",
      " [1 1 0 0 0 0]\n",
      " [0 0 0 0 1 1]]\n"
     ]
    }
   ],
   "source": [
    "altencoded = altcoder._encode_as_subsymbols(altmsg, samples=2)\n",
    "/print altencoded"
   ]
  },
  {
   "cell_type": "markdown",
   "metadata": {},
   "source": [
    "The symbol space has the length of the message and width equal to number of phases."
   ]
  },
  {
   "cell_type": "code",
   "execution_count": 22,
   "metadata": {
    "scrolled": true
   },
   "outputs": [
    {
     "name": "stdout",
     "output_type": "stream",
     "text": [
      "[[-0.667  0.333  1.333  0.333]\n",
      " [ 1.333  0.333 -0.667 -0.667]\n",
      " [ 1.333  0.333 -0.667 -0.667]\n",
      " [-0.667  0.333  1.333  0.333]\n",
      " [-0.667  0.333  1.333  0.333]\n",
      " [-0.667 -0.667 -0.667  0.333]\n",
      " [ 1.333  0.333 -0.667 -0.667]\n",
      " [ 1.333  0.333 -0.667 -0.667]\n",
      " [ 1.333  0.333 -0.667 -0.667]\n",
      " [-0.667  0.333  1.333  0.333]\n",
      " [-0.667  0.333  1.333  0.333]\n",
      " [-0.667 -0.667 -0.667  0.333]\n",
      " [-0.667 -0.667 -0.667  0.333]\n",
      " [ 1.333  0.333 -0.667 -0.667]\n",
      " [-0.667 -0.667 -0.667  0.333]]\n"
     ]
    }
   ],
   "source": [
    "/print altcoder.create_symbol_space(altencoded)"
   ]
  },
  {
   "cell_type": "code",
   "execution_count": 23,
   "metadata": {
    "scrolled": true
   },
   "outputs": [
    {
     "data": {
      "application/vnd.jupyter.widget-view+json": {
       "model_id": "34503a366a9d4d46bfadda268624325d",
       "version_major": 2,
       "version_minor": 0
      },
      "text/plain": [
       "interactive(children=(FloatSlider(value=0.5, description='σ', max=2.0, step=0.05), FloatSlider(value=0.0, desc…"
      ]
     },
     "metadata": {},
     "output_type": "display_data"
    }
   ],
   "source": [
    "@interact(σ=(0.0, 2.0, 0.05), μ=(0.0, 10.0))\n",
    "def altdecode(σ=0.5, μ=0.0):\n",
    "    altcoder.config = dict(symstream=altmsg, phase=\"run\")\n",
    "    altdecoded = altcoder.decode(add_awgn_noise(altencoded, σ, μ))\n",
    "    errors = count_errors(altdecoded, altmsg)\n",
    "    print(\"decoded: \", altdecoded)\n",
    "    print(\"original:\", altmsg)\n",
    "    print(\"errors: {}/{} ({:.1f}%)\".format(errors, len(altmsg), 100*errors/len(altmsg)))"
   ]
  },
  {
   "cell_type": "markdown",
   "metadata": {},
   "source": [
    "## Demo: _Saturation and symbol replacement_\n",
    "\n",
    "Since in some cases exact values are only known in subsequent layers, the GenericLineCoding layer allows replacing certain output subsymbols with another. The _saturated_ property is False by default. The replacement policy is controlled by an `__init__` keyword argument *saturate_mapping* or a property `saturate_mapping` at runtime."
   ]
  },
  {
   "cell_type": "code",
   "execution_count": 24,
   "metadata": {
    "scrolled": true
   },
   "outputs": [
    {
     "name": "stdout",
     "output_type": "stream",
     "text": [
      "saturated: False\n",
      "saturate_mapping: {1: -1}\n"
     ]
    }
   ],
   "source": [
    "satcoder = lne.ManchesterLineCoding()\n",
    "satmsg = np.random.randint(0, 2, 10, dtype=int)\n",
    "\n",
    "print(\"saturated:\", satcoder.saturated)\n",
    "print(\"saturate_mapping:\", satcoder.saturate_mapping)"
   ]
  },
  {
   "cell_type": "markdown",
   "metadata": {},
   "source": [
    "Normally, no replacement is performed."
   ]
  },
  {
   "cell_type": "code",
   "execution_count": 25,
   "metadata": {},
   "outputs": [
    {
     "name": "stdout",
     "output_type": "stream",
     "text": [
      "[1 0 1 0 0 1 0 1 0 1 1 0 1 0 1 0 1 0 0 1]\n"
     ]
    }
   ],
   "source": [
    "print(satcoder.encode(satmsg))"
   ]
  },
  {
   "cell_type": "markdown",
   "metadata": {},
   "source": [
    "Once we set _saturated_ to true, the replacement will be performed."
   ]
  },
  {
   "cell_type": "code",
   "execution_count": 26,
   "metadata": {},
   "outputs": [
    {
     "name": "stdout",
     "output_type": "stream",
     "text": [
      "[-1  0 -1  0  0 -1  0 -1  0 -1 -1  0 -1  0 -1  0 -1  0  0 -1]\n"
     ]
    }
   ],
   "source": [
    "satcoder.saturated = True\n",
    "print(satcoder.encode(satmsg))"
   ]
  },
  {
   "cell_type": "markdown",
   "metadata": {},
   "source": [
    "The mapping can be changed at runtime too. For compatibility with serialised configs, string keys are transformed with the `int` function."
   ]
  },
  {
   "cell_type": "code",
   "execution_count": 27,
   "metadata": {},
   "outputs": [
    {
     "name": "stdout",
     "output_type": "stream",
     "text": [
      "saturate_mapping: {0: -1, 1: 8} \n",
      "\n",
      "[ 8 -1  8 -1 -1  8 -1  8 -1  8  8 -1  8 -1  8 -1  8 -1 -1  8]\n"
     ]
    }
   ],
   "source": [
    "satcoder.saturate_mapping = {'0': -1, 1: 8}\n",
    "print(\"saturate_mapping:\", satcoder.saturate_mapping, \"\\n\")\n",
    "print(satcoder.encode(satmsg))"
   ]
  },
  {
   "cell_type": "markdown",
   "metadata": {},
   "source": [
    "The saturation works also at the subsymbol level when the layer produces 2-d values."
   ]
  },
  {
   "cell_type": "code",
   "execution_count": 28,
   "metadata": {},
   "outputs": [
    {
     "name": "stdout",
     "output_type": "stream",
     "text": [
      "[[ 8  8 -1 -1]\n",
      " [ 8  8 -1 -1]\n",
      " [-1 -1  8  8]\n",
      " [-1 -1  8  8]\n",
      " [-1 -1  8  8]\n",
      " [ 8  8 -1 -1]\n",
      " [ 8  8 -1 -1]\n",
      " [ 8  8 -1 -1]\n",
      " [ 8  8 -1 -1]\n",
      " [-1 -1  8  8]]\n"
     ]
    }
   ],
   "source": [
    "satcoder.flattened = False\n",
    "print(satcoder.encode(satmsg))"
   ]
  }
 ],
 "metadata": {
  "kernelspec": {
   "display_name": "Python 3",
   "language": "python",
   "name": "python3"
  },
  "language_info": {
   "codemirror_mode": {
    "name": "ipython",
    "version": 3
   },
   "file_extension": ".py",
   "mimetype": "text/x-python",
   "name": "python",
   "nbconvert_exporter": "python",
   "pygments_lexer": "ipython3",
   "version": "3.7.1"
  }
 },
 "nbformat": 4,
 "nbformat_minor": 2
}
