{
 "cells": [
  {
   "cell_type": "markdown",
   "metadata": {},
   "source": [
    "# Remote driver example\n",
    "\n",
    "## Connection\n",
    "\n",
    "Enter connection a valid configuration to demo the remote driver."
   ]
  },
  {
   "cell_type": "code",
   "execution_count": 1,
   "metadata": {},
   "outputs": [],
   "source": [
    "%load_ext autoreload\n",
    "%autoreload 2"
   ]
  },
  {
   "cell_type": "code",
   "execution_count": 2,
   "metadata": {},
   "outputs": [],
   "source": [
    "config = {\n",
    "    \"ip\": \"82.130.102.xxx\",\n",
    "    \"user\": \"karajan\",\n",
    "    \"port\": 22,\n",
    "    \"key\": \"$KARAJAN_ACCESS_DIR/id_ed25519\",\n",
    "}"
   ]
  },
  {
   "cell_type": "markdown",
   "metadata": {},
   "source": [
    "First, import the RemoteUnixDriver."
   ]
  },
  {
   "cell_type": "code",
   "execution_count": 3,
   "metadata": {},
   "outputs": [],
   "source": [
    "import os, sys, time, pathlib, pprint\n",
    "sys.path.append(\"..\")\n",
    "\n",
    "from datapro.exceptions import *\n",
    "from datapro.util.file import delete\n",
    "from datapro.driver.unix import SSHUnixDriver as RemoteUnixDriver"
   ]
  },
  {
   "cell_type": "markdown",
   "metadata": {},
   "source": [
    "Instantiate the driver."
   ]
  },
  {
   "cell_type": "code",
   "execution_count": 4,
   "metadata": {},
   "outputs": [],
   "source": [
    "driver = RemoteUnixDriver(backend=config)"
   ]
  },
  {
   "cell_type": "markdown",
   "metadata": {},
   "source": [
    "The `connect` function calls the backend's `connect` function and gets original state."
   ]
  },
  {
   "cell_type": "code",
   "execution_count": 5,
   "metadata": {},
   "outputs": [
    {
     "name": "stderr",
     "output_type": "stream",
     "text": [
      "2019-07-02 13:18:04,322 :: WARNING  :: MainThread :: datapro              ::    unix.py:539 (fan) :: setting fan failed due to no fan path found\n"
     ]
    }
   ],
   "source": [
    "driver.connect()"
   ]
  },
  {
   "cell_type": "code",
   "execution_count": 6,
   "metadata": {},
   "outputs": [
    {
     "name": "stdout",
     "output_type": "stream",
     "text": [
      "{'fan': None,\n",
      " 'frequencies': [3902005,\n",
      "                 3850214,\n",
      "                 3964806,\n",
      "                 3735776,\n",
      "                 3851504,\n",
      "                 3801054,\n",
      "                 3956995,\n",
      "                 3972924],\n",
      " 'governors': ['performance',\n",
      "               'performance',\n",
      "               'performance',\n",
      "               'performance',\n",
      "               'performance',\n",
      "               'performance',\n",
      "               'performance',\n",
      "               'performance'],\n",
      " 'latency': 100}\n"
     ]
    }
   ],
   "source": [
    "pprint.pprint(driver.original_state)"
   ]
  },
  {
   "cell_type": "markdown",
   "metadata": {},
   "source": [
    "## Properties\n",
    "\n",
    "Access to system configurables such as fan, governor, scaling frequencies, and DMA latency, are implemented as properties. Current values can be obtained as if they were regular attributes."
   ]
  },
  {
   "cell_type": "code",
   "execution_count": 7,
   "metadata": {},
   "outputs": [
    {
     "name": "stdout",
     "output_type": "stream",
     "text": [
      "[3822531, 3896206, 3927319, 3838743, 3993035, 3921833, 3932225, 3929728]\n"
     ]
    }
   ],
   "source": [
    "print(driver.frequencies)"
   ]
  },
  {
   "cell_type": "markdown",
   "metadata": {},
   "source": [
    "All settings can be obtained and changed via `setstate` and `getstate`. They both accept/produce a dictionary. `getstate` can accept an \"incomplete\" dictionary, only the present keys will be used for updating the state."
   ]
  },
  {
   "cell_type": "code",
   "execution_count": 8,
   "metadata": {},
   "outputs": [
    {
     "name": "stderr",
     "output_type": "stream",
     "text": [
      "2019-07-02 13:18:05,157 :: WARNING  :: MainThread :: datapro              ::    unix.py:539 (fan) :: setting fan failed due to no fan path found\n"
     ]
    },
    {
     "name": "stdout",
     "output_type": "stream",
     "text": [
      "dict_keys(['governors', 'frequencies', 'latency', 'fan'])\n"
     ]
    }
   ],
   "source": [
    "print(driver.getstate().keys())"
   ]
  },
  {
   "cell_type": "markdown",
   "metadata": {},
   "source": [
    "The setters are implemented quite defensively and will only allow to set meaningful values, may throw exceptions and produce warnings."
   ]
  },
  {
   "cell_type": "code",
   "execution_count": 9,
   "metadata": {
    "scrolled": true
   },
   "outputs": [
    {
     "name": "stdout",
     "output_type": "stream",
     "text": [
      "would raise: Driver->ValueError \n",
      "with args: 'non-existent-governor' is not a valid governor (['performance', 'powersave'])\n"
     ]
    }
   ],
   "source": [
    "try:\n",
    "    driver.governors = \"non-existent-governor\"\n",
    "except DriverValueError as e:\n",
    "    print(\"would raise:\", type(e).__name__, \"\\nwith args:\", e)"
   ]
  },
  {
   "cell_type": "code",
   "execution_count": 10,
   "metadata": {},
   "outputs": [
    {
     "name": "stdout",
     "output_type": "stream",
     "text": [
      "would raise: AssertionError \n",
      "with args: governor list and cpu list must match\n"
     ]
    }
   ],
   "source": [
    "try:\n",
    "    driver.governors = [\"powersave\", \"powersave\"]\n",
    "except AssertionError as e:\n",
    "    print(\"would raise:\", type(e).__name__, \"\\nwith args:\", e)"
   ]
  },
  {
   "cell_type": "code",
   "execution_count": 11,
   "metadata": {},
   "outputs": [],
   "source": [
    "if \"userspace\" in driver.original_state[\"governors\"][0]:\n",
    "    driver.governors = \"userspace\"\n",
    "    driver.frequencies = 1900000\n",
    "    time.sleep(0.1); print(set(driver.governors), driver.frequencies, sep=\"\\n\")"
   ]
  },
  {
   "cell_type": "markdown",
   "metadata": {},
   "source": [
    "The original state can be restored by calling `cleanup` or setting the state to `original_state` manually."
   ]
  },
  {
   "cell_type": "code",
   "execution_count": 12,
   "metadata": {},
   "outputs": [
    {
     "name": "stderr",
     "output_type": "stream",
     "text": [
      "2019-07-02 13:18:07,423 :: WARNING  :: MainThread :: datapro              ::    unix.py:559 (fan) :: setting fan failed due to no fan path found\n",
      "2019-07-02 13:18:08,358 :: WARNING  :: MainThread :: datapro              ::    unix.py:539 (fan) :: setting fan failed due to no fan path found\n"
     ]
    },
    {
     "name": "stdout",
     "output_type": "stream",
     "text": [
      "{'fan': None,\n",
      " 'frequencies': [3732026,\n",
      "                 3802532,\n",
      "                 3809315,\n",
      "                 3964198,\n",
      "                 3706133,\n",
      "                 3856088,\n",
      "                 3846491,\n",
      "                 3955482],\n",
      " 'governors': ['performance',\n",
      "               'performance',\n",
      "               'performance',\n",
      "               'performance',\n",
      "               'performance',\n",
      "               'performance',\n",
      "               'performance',\n",
      "               'performance'],\n",
      " 'latency': 100}\n"
     ]
    }
   ],
   "source": [
    "time.sleep(0.1); driver.cleanup()\n",
    "time.sleep(0.1); pprint.pprint(driver.getstate())"
   ]
  },
  {
   "cell_type": "markdown",
   "metadata": {},
   "source": [
    "### CPU DMA latency handling\n",
    "\n",
    "CPU DMA latency handler is implemented properly by opening a file descriptor to the QOS file in devfs, writing a desired value to it (properly formatted as a 32-bit integer in bytes), and keeping the file descriptor opened as long as required.\n",
    "\n",
    "The handler can be \"turned off\" by writing a `None` to `driver.latency`.\n",
    "\n",
    "Latencies set by the machine's power subsystem can be accessed via a property `cpuidle`."
   ]
  },
  {
   "cell_type": "code",
   "execution_count": 13,
   "metadata": {},
   "outputs": [
    {
     "name": "stdout",
     "output_type": "stream",
     "text": [
      "{'POLL': 0, 'C1': 2, 'C1E': 10, 'C3': 70, 'C6': 85, 'C7s': 124, 'C8': 200}\n"
     ]
    }
   ],
   "source": [
    "print(driver.cpuidle)"
   ]
  },
  {
   "cell_type": "markdown",
   "metadata": {},
   "source": [
    "The group id of the latency handler process is saved."
   ]
  },
  {
   "cell_type": "code",
   "execution_count": 14,
   "metadata": {
    "scrolled": true
   },
   "outputs": [
    {
     "name": "stdout",
     "output_type": "stream",
     "text": [
      "Setter pgid: 4184\n",
      "Current DMA latency: 100\n"
     ]
    }
   ],
   "source": [
    "driver.latency = 100\n",
    "print(\"Setter pgid:\", getattr(driver, \"_latency_setter_pgid\", None))\n",
    "print(\"Current DMA latency:\", driver.latency)"
   ]
  },
  {
   "cell_type": "markdown",
   "metadata": {},
   "source": [
    "The handler process is deleted with all of its children, and the `_latency_setter_pgid` attribute is removed."
   ]
  },
  {
   "cell_type": "code",
   "execution_count": 15,
   "metadata": {},
   "outputs": [
    {
     "name": "stdout",
     "output_type": "stream",
     "text": [
      "Setter pgid: None\n",
      "Current DMA latency: 100\n"
     ]
    }
   ],
   "source": [
    "driver.latency = None\n",
    "print(\"Setter pgid:\", getattr(driver, \"_latency_setter_pgid\", None))\n",
    "print(\"Current DMA latency:\", driver.latency)"
   ]
  },
  {
   "cell_type": "markdown",
   "metadata": {},
   "source": [
    "## Transfer and file operations\n",
    "\n",
    "The driver supports a rudimentary array of file operations:\n",
    "1. stat, find\n",
    "2. copy, move, delete, mkdir\n",
    "3. exists, is_file, is_dir\n",
    "4. send, fetch"
   ]
  },
  {
   "cell_type": "code",
   "execution_count": 16,
   "metadata": {},
   "outputs": [],
   "source": [
    "send_command = driver.send(path_from=pathlib.Path(\"./driver.ipynb\"), path_to=\"\")"
   ]
  },
  {
   "cell_type": "code",
   "execution_count": 17,
   "metadata": {},
   "outputs": [
    {
     "name": "stdout",
     "output_type": "stream",
     "text": [
      "File exists after being sent? True\n"
     ]
    }
   ],
   "source": [
    "print(\"File exists after being sent?\", driver.exists(\"./driver.ipynb\"))"
   ]
  },
  {
   "cell_type": "code",
   "execution_count": 18,
   "metadata": {
    "scrolled": true
   },
   "outputs": [
    {
     "name": "stdout",
     "output_type": "stream",
     "text": [
      "File exists after removal? False\n"
     ]
    }
   ],
   "source": [
    "driver.delete(\"./driver.ipynb\")\n",
    "print(\"File exists after removal?\", driver.exists(\"./driver.ipynb\"))"
   ]
  },
  {
   "cell_type": "code",
   "execution_count": 19,
   "metadata": {},
   "outputs": [
    {
     "name": "stdout",
     "output_type": "stream",
     "text": [
      "Found: None\n"
     ]
    }
   ],
   "source": [
    "to = pathlib.Path(\"from_remote\")\n",
    "if to.exists():\n",
    "    delete(to)\n",
    "to.mkdir(parents=True)\n",
    "found = driver.find(\".\", query=\"-type d -name '.ssh'\")\n",
    "print(\"Found:\", found)"
   ]
  },
  {
   "cell_type": "code",
   "execution_count": 20,
   "metadata": {},
   "outputs": [
    {
     "name": "stdout",
     "output_type": "stream",
     "text": [
      "Exists: False\n",
      "Is dir: False\n",
      "Contents: [PosixPath('from_remote/authorized_keys')]\n"
     ]
    }
   ],
   "source": [
    "driver.fetch(path_from=\".ssh\", path_to=to)\n",
    "# Verify that files were fetched\n",
    "print(\"Exists:\", (to / \".ssh\").exists())\n",
    "print(\"Is dir:\", (to / \".ssh\").is_dir())\n",
    "print(\"Contents:\", list(to.rglob(\"**/*\")))\n",
    "delete(to)"
   ]
  },
  {
   "cell_type": "markdown",
   "metadata": {},
   "source": [
    "## Persistent commands\n",
    "\n",
    "In addition to the simple command execution, support for running persistent applications was added. This is achieved by running the commands in a bash shell executed with a combination of `nohup` and `disown`. The command outputs and return code are written to unique temporary files, and can be read back from them.\n",
    "\n",
    "This functionality is used to allow running applications and scripts persistently without resorting to terminal multiplexers."
   ]
  },
  {
   "cell_type": "code",
   "execution_count": 21,
   "metadata": {},
   "outputs": [],
   "source": [
    "from datapro.driver._backend import result_to_print_ready_dict\n",
    "\n",
    "def print_result(result):\n",
    "    _ = None\n",
    "    \n",
    "    if hasattr(result, \"persistent\"):\n",
    "        _ = result.persistent\n",
    "        delattr(result, \"persistent\")\n",
    "    \n",
    "    for k, v in result_to_print_ready_dict(result).items():\n",
    "        print(f\"# {k} {str(''):->{78-len(k)-1}}\\n{v}\")\n",
    "\n",
    "    if _:\n",
    "        k = \"persistent\"\n",
    "        print(f\"# {k} {str(''):->{78-len(k)-1}}\")\n",
    "        for k, v in _.items():\n",
    "            print(f\"{k+':':<10}{v!r}\")\n",
    "                \n",
    "        result.persistent = _"
   ]
  },
  {
   "cell_type": "code",
   "execution_count": 22,
   "metadata": {},
   "outputs": [],
   "source": [
    "sleep_amount=3\n",
    "pers = driver.persistent(\"dur={}; sleep $dur && echo \\\"slept for $dur seconds\\\"\".format(sleep_amount))"
   ]
  },
  {
   "cell_type": "markdown",
   "metadata": {},
   "source": [
    "If the command has not completed, the value of the `exited` attribute will be `None`. A method `update` is added to\n",
    "the result which allows updating the aforementioned standard attributes. The following loop shows how one could check for the completion of the command.\n",
    "\n",
    "The result has the following new helpful attributes:\n",
    "\n",
    "- `pid` which contains the pid of the `nohup`'ed and `disown`'ed process,\n",
    "- `persistent` which is a dictionary containing filenames where outputs are stored and the complete command (at key `command`),\n",
    "- `update` which is a method that can be called to update the values for `exited`, `stdout`, and `stderr`."
   ]
  },
  {
   "cell_type": "code",
   "execution_count": 23,
   "metadata": {},
   "outputs": [
    {
     "name": "stdout",
     "output_type": "stream",
     "text": [
      "Waiting for completion.......... Completed!\n",
      "\n",
      "# command ----------------------------------------------------------------------\n",
      "dur=3; sleep $dur && echo \"slept for $dur seconds\"\n",
      "# encoding ---------------------------------------------------------------------\n",
      "UTF-8\n",
      "# exited -----------------------------------------------------------------------\n",
      "0\n",
      "# stdout -----------------------------------------------------------------------\n",
      "slept for 3 seconds\n",
      "# stderr -----------------------------------------------------------------------\n",
      "\n",
      "# pid --------------------------------------------------------------------------\n",
      "4399\n",
      "# persistent -------------------------------------------------------------------\n",
      "pre:      '/usr/bin/env bash -c'\n",
      "id:       '2019-07-02_13-18-10_eWHca'\n",
      "out:      '.nohup-2019-07-02_13-18-10_eWHca-out'\n",
      "err:      '.nohup-2019-07-02_13-18-10_eWHca-err'\n",
      "ret:      '.nohup-2019-07-02_13-18-10_eWHca-ret'\n",
      "rch:      '.nohup-2019-07-02_13-18-10_eWHca-rch'\n",
      "files:    ['.nohup-2019-07-02_13-18-10_eWHca-out', '.nohup-2019-07-02_13-18-10_eWHca-err', '.nohup-2019-07-02_13-18-10_eWHca-ret', '.nohup-2019-07-02_13-18-10_eWHca-rch']\n",
      "wrap:     '\\'dur=3; sleep $dur && echo \"slept for $dur seconds\"; echo $? > .nohup-2019-07-02_13-18-10_eWHca-ret\\''\n",
      "pid:      4399\n",
      "pgid:     4398\n",
      "children: [4400]\n",
      "runner:   <bound method Driver.command of <datapro.driver.unix.SSHUnixDriver at 0x103dfe358 (configured, active)>>\n",
      "command:  'nohup /usr/bin/env bash -c \\'dur=3; sleep $dur && echo \"slept for $dur seconds\"; echo $? > .nohup-2019-07-02_13-18-10_eWHca-ret\\' 1>.nohup-2019-07-02_13-18-10_eWHca-out 2>.nohup-2019-07-02_13-18-10_eWHca-err & disown && echo $!'\n",
      "chain:    None\n",
      "chain_exited:None\n",
      "read:     <function NohupPersistenceMixin.persistent.<locals>._read at 0x118c421e0>\n",
      "cleanup:  <function NohupPersistenceMixin.persistent.<locals>._cleanup at 0x118c42378>\n"
     ]
    }
   ],
   "source": [
    "print(\"Waiting for completion...\", end=\"\")\n",
    "\n",
    "while pers.exited is None:\n",
    "    pers.update()\n",
    "    print(\".\", end=\"\", flush=True)\n",
    "    time.sleep(0.5)\n",
    "print(\" Completed!\\n\")\n",
    "assert pers.stdout == \"slept for {} seconds\".format(sleep_amount)\n",
    "print_result(pers)"
   ]
  },
  {
   "cell_type": "markdown",
   "metadata": {},
   "source": [
    "### Chaining\n",
    "\n",
    "In some cases it might be beneficial to run another command once a persistent command finishes (for example, killing applications). This can be accomplished with a `chain` keyword argument to the `persistent` method. The example below also demonstrates the `children` entry in the `persistent` attribute of the return value."
   ]
  },
  {
   "cell_type": "code",
   "execution_count": 24,
   "metadata": {},
   "outputs": [
    {
     "name": "stdout",
     "output_type": "stream",
     "text": [
      "child processes: [4560, 4561, 4562]\n"
     ]
    }
   ],
   "source": [
    "with_chain = driver.persistent(\"sleep 1 & sleep 2 & sleep 3\", chain=\"echo 'Hello, World!' > some_temp_file.txt\")\n",
    "print(\"child processes:\", with_chain.children)"
   ]
  },
  {
   "cell_type": "code",
   "execution_count": 25,
   "metadata": {},
   "outputs": [
    {
     "name": "stdout",
     "output_type": "stream",
     "text": [
      "result of chained command: Hello, World!\n"
     ]
    }
   ],
   "source": [
    "driver.command(\"while [[ -e /proc/{} ]]; do sleep 0.5; done\".format(with_chain.pid))\n",
    "_ = driver.command(\"cat some_temp_file.txt && rm some_temp_file.txt\")\n",
    "print(\"result of chained command:\", _.stdout)\n",
    "with_chain.update()"
   ]
  },
  {
   "cell_type": "markdown",
   "metadata": {},
   "source": [
    "## Disconnect"
   ]
  },
  {
   "cell_type": "code",
   "execution_count": 26,
   "metadata": {},
   "outputs": [
    {
     "name": "stderr",
     "output_type": "stream",
     "text": [
      "2019-07-02 13:18:19,278 :: WARNING  :: MainThread :: datapro              ::    unix.py:559 (fan) :: setting fan failed due to no fan path found\n"
     ]
    }
   ],
   "source": [
    "driver.cleanup()"
   ]
  },
  {
   "cell_type": "code",
   "execution_count": 27,
   "metadata": {},
   "outputs": [],
   "source": [
    "driver.disconnect()"
   ]
  }
 ],
 "metadata": {
  "kernelspec": {
   "display_name": "Python 3",
   "language": "python",
   "name": "python3"
  },
  "language_info": {
   "codemirror_mode": {
    "name": "ipython",
    "version": 3
   },
   "file_extension": ".py",
   "mimetype": "text/x-python",
   "name": "python",
   "nbconvert_exporter": "python",
   "pygments_lexer": "ipython3",
   "version": "3.7.3"
  }
 },
 "nbformat": 4,
 "nbformat_minor": 2
}
