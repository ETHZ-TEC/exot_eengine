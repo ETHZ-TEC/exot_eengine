{
 "cells": [
  {
   "cell_type": "markdown",
   "metadata": {},
   "source": [
    "Notebook settings"
   ]
  },
  {
   "cell_type": "code",
   "execution_count": 1,
   "metadata": {},
   "outputs": [
    {
     "name": "stdout",
     "output_type": "stream",
     "text": [
      "Populating the interactive namespace from numpy and matplotlib\n"
     ]
    }
   ],
   "source": [
    "%pylab inline\n",
    "np.set_printoptions(linewidth=120)\n",
    "plt.rcParams[\"figure.figsize\"] = (18,10)\n",
    "plt.rcParams[\"legend.loc\"] = \"lower right\""
   ]
  },
  {
   "cell_type": "markdown",
   "metadata": {},
   "source": [
    "Set the path to the key file and change working-directory to the root directory of the dataprocessing framework"
   ]
  },
  {
   "cell_type": "code",
   "execution_count": 2,
   "metadata": {},
   "outputs": [
    {
     "data": {
      "text/plain": [
       "'/local/scratch/toolkit/datapro'"
      ]
     },
     "execution_count": 2,
     "metadata": {},
     "output_type": "execute_result"
    }
   ],
   "source": [
    "import os       \n",
    "os.environ['EXOT_ACCESS_DIR'] = \"/local/scratch/toolkit/benchmark_platforms_access/\"\n",
    "os.chdir('/local/scratch/toolkit/datapro/')\n",
    "os.getcwd()"
   ]
  },
  {
   "cell_type": "markdown",
   "metadata": {},
   "source": [
    "# Imports"
   ]
  },
  {
   "cell_type": "code",
   "execution_count": 3,
   "metadata": {},
   "outputs": [],
   "source": [
    "import toml    as TOML              # TOML library to handle config files\n",
    "import pandas  as pd                # Pandas for data manipulation\n",
    "import seaborn as sb                # Statistical data visualisation\n",
    "import pathlib as PATH              # Used to convert strings to path objects for (de-)serialisation\n",
    "import types   as tp                # Library used for online method development\n",
    "\n",
    "#from copy   import copy, deepcopy   # TODO\n",
    "#from pprint import pprint           # TODO\n",
    "\n",
    "# scikit-learn packets\n",
    "import sklearn.base                 #\n",
    "import sklearn.svm                  # LinearSVC, SVC\n",
    "import sklearn.pipeline             # make_pipeline\n",
    "import sklearn.preprocessing        # StandardScaler\n",
    "import sklearn.decomposition        # PCA\n",
    "import sklearn.naive_bayes          # GaussianNB\n",
    "import sklearn.metrics              # CM\n",
    "\n",
    "# DLE-Suite packets\n",
    "import exot                       # Dataprocessing\n",
    "import exot.experiment            # Experiment for execution\n",
    "import exot.util                  # General utilities\n",
    "import exot.layer                 # Data manipulation layers\n",
    "from exot.util       import *\n",
    "from exot.layer      import *\n",
    "from exot.channel    import *\n",
    "from exot.experiment import *"
   ]
  },
  {
   "cell_type": "markdown",
   "metadata": {},
   "source": [
    "# Generate Experiment\n",
    "#### 1. Load config"
   ]
  },
  {
   "cell_type": "code",
   "execution_count": 4,
   "metadata": {},
   "outputs": [
    {
     "name": "stdout",
     "output_type": "stream",
     "text": [
      "name = \"Test_Thermal\"\n",
      "save_path = \"./data\"\n",
      "backup_path = \"./data/_backup\"\n",
      "experiment_exists_action = \"move\"\n",
      "\n",
      "[EXPERIMENT]\n",
      "type = \"PerformanceExperiment\"\n",
      "channel = \"Thermal\"\n",
      "\n",
      "[EXPERIMENT.GENERAL]\n",
      "latency = 10\n",
      "fan = true\n",
      "governors = \"userspace\"\n",
      "frequencies = \"max\"\n",
      "sampling_period = 0.001\n",
      "\n",
      "[EXPERIMENT.PHASES.train]\n",
      "bit_count = 60\n",
      "symbol_rates = [ 1,]\n",
      "repetitions = 1\n",
      "\n",
      "[EXPERIMENT.LAYERS.src]\n",
      "name = \"SourcePassthrough\"\n",
      "\n",
      "[EXPERIMENT.LAYERS.lne]\n",
      "name = \"ManchesterLineCoding\"\n",
      "\n",
      "[EXPERIMENT.LAYERS.rdp]\n",
      "name = \"CoreActivation\"\n",
      "\n",
      "[EXPERIMENT.LAYERS.io]\n",
      "name = \"TimeValue\"\n",
      "\n",
      "[EXPERIMENT.LAYERS.src.params]\n",
      "\n",
      "[EXPERIMENT.LAYERS.lne.params]\n",
      "\n",
      "[EXPERIMENT.LAYERS.rdp.params]\n",
      "saturating = true\n",
      "\n",
      "[EXPERIMENT.LAYERS.io.params]\n",
      "output_timing_multiplier = 1000000000.0\n",
      "input_timing_multiplier = 1000000000.0\n",
      "\n",
      "[ENVIRONMENTS.Radagast.APPS.snk]\n",
      "executable = \"meter_thermal_msr\"\n",
      "zone = \"host\"\n",
      "\n",
      "[ENVIRONMENTS.Radagast.APPS.src]\n",
      "executable = \"generator_utilisation_mt\"\n",
      "zone = \"host\"\n",
      "\n",
      "[ENVIRONMENTS.Radagast.src.generator]\n",
      "cores = [ 3,]\n",
      "policy = \"round_robin\"\n",
      "priority = 99\n",
      "worker_priority = 98\n",
      "\n",
      "[ENVIRONMENTS.Radagast.src.logging]\n",
      "debug_log_filename = \"\"\n",
      "app_log_filename = \"\"\n",
      "log_level = \"info\"\n",
      "\n",
      "[ENVIRONMENTS.Radagast.src.schedule_reader]\n",
      "input_file = \"\"\n",
      "reading_from_file = true\n",
      "\n",
      "[ENVIRONMENTS.Radagast.snk.logging]\n",
      "debug_log_filename = \"\"\n",
      "app_log_filename = \"\"\n",
      "log_level = \"info\"\n",
      "\n",
      "[ENVIRONMENTS.Radagast.snk.thermal_msr]\n",
      "cores = [ 0, 2, 4, 6,]\n",
      "package = false\n",
      "\n",
      "[ENVIRONMENTS.Radagast.snk.host]\n",
      "period = 0.001\n",
      "policy = \"round_robin\"\n",
      "pinning = 0\n",
      "priority = 90\n",
      "log_header = true\n",
      "start_immediately = false\n",
      "\n",
      "[EXPERIMENT.LAYERS.rdp.params.saturate_mapping]\n",
      "1 = -1\n",
      "\n"
     ]
    }
   ],
   "source": [
    "config = TOML.load(\"./configurations/examples/thermal-cc_performance.toml\")\n",
    "print(TOML.dumps(config))"
   ]
  },
  {
   "cell_type": "markdown",
   "metadata": {},
   "source": [
    "#### 2. Instantiate an experiment\n",
    "\n",
    "Experiment factory will take the type and channel from the config."
   ]
  },
  {
   "cell_type": "code",
   "execution_count": 5,
   "metadata": {
    "scrolled": false
   },
   "outputs": [
    {
     "name": "stderr",
     "output_type": "stream",
     "text": [
      "\u001b[32m2019-11-18 10:53:30\u001b[0m :: bootstrapped layer 'src' with SourcePassthrough\n",
      "\u001b[32m2019-11-18 10:53:30\u001b[0m :: bootstrapped layer 'lne' with ManchesterLineCoding\n",
      "\u001b[32m2019-11-18 10:53:30\u001b[0m :: bootstrapped layer 'rdp' with CoreActivation\n",
      "\u001b[32m2019-11-18 10:53:30\u001b[0m :: bootstrapped layer 'io' with TimeValue\n"
     ]
    }
   ],
   "source": [
    "channel    = ChannelFactory()(config[\"EXPERIMENT\"][\"channel\"])\n",
    "experiment = ExperimentFactory()(config[\"EXPERIMENT\"][\"type\"], config=config, channel=channel)"
   ]
  },
  {
   "cell_type": "code",
   "execution_count": 6,
   "metadata": {},
   "outputs": [],
   "source": [
    "experiment.generate()\n",
    "#experiment.print_duration()"
   ]
  },
  {
   "cell_type": "markdown",
   "metadata": {},
   "source": [
    "#### 3a. Eyeballing\n",
    "\n",
    "You can access the streams via specific properties."
   ]
  },
  {
   "cell_type": "code",
   "execution_count": 7,
   "metadata": {},
   "outputs": [
    {
     "data": {
      "text/plain": [
       "{'bitstream': array([1, 0, 0, 1, 1, 0, 0, 1, 1, 1, 0, 1, 0, 0, 1, 0, 1, 1, 0, 1, 0, 0, 1, 1, 1, 0, 0, 1, 0, 0, 1, 0, 1, 0, 1, 0, 1,\n",
       "        0, 1, 0, 0, 0, 1, 0, 0, 1, 0, 1, 1, 1, 1, 1, 0, 1, 0, 0, 0, 1, 0, 1]),\n",
       " 'symstream': array([1, 0, 0, 1, 1, 0, 0, 1, 1, 1, 0, 1, 0, 0, 1, 0, 1, 1, 0, 1, 0, 0, 1, 1, 1, 0, 0, 1, 0, 0, 1, 0, 1, 0, 1, 0, 1,\n",
       "        0, 1, 0, 0, 0, 1, 0, 0, 1, 0, 1, 1, 1, 1, 1, 0, 1, 0, 0, 0, 1, 0, 1]),\n",
       " 'lnestream': array([ 0, -1, -1,  0, -1,  0,  0, -1,  0, -1, -1,  0, -1,  0,  0, -1,  0, -1,  0, -1, -1,  0,  0, -1, -1,  0, -1,  0,\n",
       "         0, -1, -1,  0,  0, -1,  0, -1, -1,  0,  0, -1, -1,  0, -1,  0,  0, -1,  0, -1,  0, -1, -1,  0, -1,  0,  0, -1,\n",
       "        -1,  0, -1,  0,  0, -1, -1,  0,  0, -1, -1,  0,  0, -1, -1,  0,  0, -1, -1,  0,  0, -1, -1,  0, -1,  0, -1,  0,\n",
       "         0, -1, -1,  0, -1,  0,  0, -1, -1,  0,  0, -1,  0, -1,  0, -1,  0, -1,  0, -1, -1,  0,  0, -1, -1,  0, -1,  0,\n",
       "        -1,  0,  0, -1, -1,  0,  0, -1]),\n",
       " 'rdpstream':      timestamp  t440p\n",
       " 0          0.5      0\n",
       " 1          0.5      1\n",
       " 2          0.5      1\n",
       " 3          0.5      0\n",
       " 4          0.5      1\n",
       " 5          0.5      0\n",
       " 6          0.5      0\n",
       " 7          0.5      1\n",
       " 8          0.5      0\n",
       " 9          0.5      1\n",
       " 10         0.5      1\n",
       " 11         0.5      0\n",
       " 12         0.5      1\n",
       " 13         0.5      0\n",
       " 14         0.5      0\n",
       " 15         0.5      1\n",
       " 16         0.5      0\n",
       " 17         0.5      1\n",
       " 18         0.5      0\n",
       " 19         0.5      1\n",
       " 20         0.5      1\n",
       " 21         0.5      0\n",
       " 22         0.5      0\n",
       " 23         0.5      1\n",
       " 24         0.5      1\n",
       " 25         0.5      0\n",
       " 26         0.5      1\n",
       " 27         0.5      0\n",
       " 28         0.5      0\n",
       " 29         0.5      1\n",
       " ..         ...    ...\n",
       " 90         0.5      0\n",
       " 91         0.5      1\n",
       " 92         0.5      1\n",
       " 93         0.5      0\n",
       " 94         0.5      0\n",
       " 95         0.5      1\n",
       " 96         0.5      0\n",
       " 97         0.5      1\n",
       " 98         0.5      0\n",
       " 99         0.5      1\n",
       " 100        0.5      0\n",
       " 101        0.5      1\n",
       " 102        0.5      0\n",
       " 103        0.5      1\n",
       " 104        0.5      1\n",
       " 105        0.5      0\n",
       " 106        0.5      0\n",
       " 107        0.5      1\n",
       " 108        0.5      1\n",
       " 109        0.5      0\n",
       " 110        0.5      1\n",
       " 111        0.5      0\n",
       " 112        0.5      1\n",
       " 113        0.5      0\n",
       " 114        0.5      0\n",
       " 115        0.5      1\n",
       " 116        0.5      1\n",
       " 117        0.5      0\n",
       " 118        0.5      0\n",
       " 119        0.5      1\n",
       " \n",
       " [120 rows x 2 columns],\n",
       " 'rawstream':      timestamp  t440p\n",
       " 0    500000000      0\n",
       " 1    500000000      1\n",
       " 2    500000000      1\n",
       " 3    500000000      0\n",
       " 4    500000000      1\n",
       " 5    500000000      0\n",
       " 6    500000000      0\n",
       " 7    500000000      1\n",
       " 8    500000000      0\n",
       " 9    500000000      1\n",
       " 10   500000000      1\n",
       " 11   500000000      0\n",
       " 12   500000000      1\n",
       " 13   500000000      0\n",
       " 14   500000000      0\n",
       " 15   500000000      1\n",
       " 16   500000000      0\n",
       " 17   500000000      1\n",
       " 18   500000000      0\n",
       " 19   500000000      1\n",
       " 20   500000000      1\n",
       " 21   500000000      0\n",
       " 22   500000000      0\n",
       " 23   500000000      1\n",
       " 24   500000000      1\n",
       " 25   500000000      0\n",
       " 26   500000000      1\n",
       " 27   500000000      0\n",
       " 28   500000000      0\n",
       " 29   500000000      1\n",
       " ..         ...    ...\n",
       " 90   500000000      0\n",
       " 91   500000000      1\n",
       " 92   500000000      1\n",
       " 93   500000000      0\n",
       " 94   500000000      0\n",
       " 95   500000000      1\n",
       " 96   500000000      0\n",
       " 97   500000000      1\n",
       " 98   500000000      0\n",
       " 99   500000000      1\n",
       " 100  500000000      0\n",
       " 101  500000000      1\n",
       " 102  500000000      0\n",
       " 103  500000000      1\n",
       " 104  500000000      1\n",
       " 105  500000000      0\n",
       " 106  500000000      0\n",
       " 107  500000000      1\n",
       " 108  500000000      1\n",
       " 109  500000000      0\n",
       " 110  500000000      1\n",
       " 111  500000000      0\n",
       " 112  500000000      1\n",
       " 113  500000000      0\n",
       " 114  500000000      0\n",
       " 115  500000000      1\n",
       " 116  500000000      1\n",
       " 117  500000000      0\n",
       " 118  500000000      0\n",
       " 119  500000000      1\n",
       " \n",
       " [120 rows x 2 columns]}"
      ]
     },
     "execution_count": 7,
     "metadata": {},
     "output_type": "execute_result"
    }
   ],
   "source": [
    "phase = \"train\"\n",
    "run_id = 0\n",
    "run = experiment.phases[phase][run_id]\n",
    "\n",
    "# Access output streams\n",
    "run.o_streams #-> mapping\n",
    "#run.o_{bit,sym,lne,rdp,raw}stream\n",
    "#print(\"-------------------------------- Bitstream -------------------------------------------------------\")\n",
    "#print(run.o_bitstream)\n",
    "#print(\"-------------------------------- Symstream -------------------------------------------------------\")\n",
    "#print(run.o_symstream)\n",
    "#print(\"-------------------------------- LNEstream -------------------------------------------------------\")\n",
    "#print(run.o_lnestream)\n",
    "#print(\"-------------------------------- RDPstream -------------------------------------------------------\")\n",
    "#print(run.o_rdpstream)\n",
    "#print(\"-------------------------------- Rawstream -------------------------------------------------------\")\n",
    "#print(run.o_rawstream)"
   ]
  },
  {
   "cell_type": "markdown",
   "metadata": {},
   "source": [
    "#### 4. Write\n",
    "\n",
    "Writes to disk, serialises the experiment, runs, and all streams."
   ]
  },
  {
   "cell_type": "code",
   "execution_count": 8,
   "metadata": {},
   "outputs": [],
   "source": [
    "experiment.write()"
   ]
  },
  {
   "cell_type": "code",
   "execution_count": 9,
   "metadata": {},
   "outputs": [
    {
     "name": "stderr",
     "output_type": "stream",
     "text": [
      "\u001b[32m2019-11-18 10:53:30\u001b[0m :: Estimated duration of a single repetition of the train phase is 0:01:12\n",
      "\u001b[32m2019-11-18 10:53:30\u001b[0m :: This results in a total estimated duration of 0:01:12 for all repetitions.\n"
     ]
    }
   ],
   "source": [
    "experiment.print_duration()"
   ]
  },
  {
   "cell_type": "markdown",
   "metadata": {},
   "source": [
    "## Execute\n",
    "\n",
    "Running `execute` will execute in all environments present in the configuration."
   ]
  },
  {
   "cell_type": "code",
   "execution_count": 10,
   "metadata": {
    "scrolled": false
   },
   "outputs": [
    {
     "name": "stderr",
     "output_type": "stream",
     "text": [
      "\u001b[32m2019-11-18 10:53:30\u001b[0m :: executing phases: ['train'] in env 'Radagast'\n",
      "\u001b[32m2019-11-18 10:53:32\u001b[0m :: Radagast->host: connected: SSHUnixDriver\n",
      "\u001b[32m2019-11-18 10:53:32\u001b[0m :: Radagast->host: sending experiment\n",
      "\u001b[32m2019-11-18 10:53:33\u001b[0m :: Radagast->host: experiment sent!\n",
      "\u001b[32m2019-11-18 10:53:33\u001b[0m :: Radagast->host: configuring to {'latency': 10, 'fan': True, 'governors': 'userspace', 'frequencies': 'max', 'sampling_period': 0.001}\n",
      "\u001b[32m2019-11-18 10:53:40\u001b[0m :: executing in env: 'Radagast', resume: False, reps: [0], run: <Run at 0x7f9fc820d940 (digested, config={'phase': 'train', 'bit_count': 60, 'symbol_rate': 1, 'symbol_rate_id': 0, 'repetitions': 1})>\n",
      "\u001b[32m2019-11-18 10:53:40\u001b[0m :: executing in env: Radagast, rep: 0, estimated duration: 60.0s, run: <Run at 0x7f9fc820d940 (digested, config={'phase': 'train', 'bit_count': 60, 'symbol_rate': 1, 'symbol_rate_id': 0, 'repetitions': 1})>\n",
      "\u001b[32m2019-11-18 10:54:52\u001b[0m :: Radagast->host: experiment logs fetched!\n",
      "\u001b[32m2019-11-18 10:54:52\u001b[0m :: Radagast->host: cleaning up\n",
      "\u001b[32m2019-11-18 10:54:59\u001b[0m :: Radagast->host: successfully deleted remote data directory\n",
      "\u001b[32m2019-11-18 10:54:59\u001b[0m :: Radagast->host: disconnected\n"
     ]
    }
   ],
   "source": [
    "#print(\"Available environments are: \" + str(experiment.available_environments))\n",
    "#experiment.execute_in_environment(\"Gandalf\", [\"train\"])\n",
    "experiment.execute_in_environment(\"Radagast\", [\"train\"])"
   ]
  },
  {
   "cell_type": "markdown",
   "metadata": {},
   "source": [
    "## Analyse\n",
    "\n",
    "TODO: In the *analysis.local.ipynb* file in my workspace you can find a more complex example of an analysis.\n",
    "\n",
    "#### 0. (Optional) Load from serialised experiment\n",
    "\n",
    "Useful when you restarted the kernel, etc. Be aware that if you have the \"move\" option set up as the *experiment_exists_action* in the config, the older one will be timestamped and moved. To read it back, you can provide `replace=False` which handles the case where there are inconsistencies between the serialised experiment and the config files (primarily the experiment name, due to the timestamping). We discussed that quite a while ago, the result of the discussion was that the experiment should update itself with the config already present."
   ]
  },
  {
   "cell_type": "code",
   "execution_count": 11,
   "metadata": {},
   "outputs": [
    {
     "ename": "Exception",
     "evalue": "",
     "output_type": "error",
     "traceback": [
      "\u001b[0;31m---------------------------------------------------------------------------\u001b[0m",
      "\u001b[0;31mException\u001b[0m                                 Traceback (most recent call last)",
      "\u001b[0;32m<ipython-input-11-32c500991385>\u001b[0m in \u001b[0;36m<module>\u001b[0;34m\u001b[0m\n\u001b[0;32m----> 1\u001b[0;31m \u001b[0;32mraise\u001b[0m \u001b[0mException\u001b[0m\u001b[0;34m(\u001b[0m\u001b[0;34m)\u001b[0m\u001b[0;34m\u001b[0m\u001b[0;34m\u001b[0m\u001b[0m\n\u001b[0m",
      "\u001b[0;31mException\u001b[0m: "
     ]
    }
   ],
   "source": [
    "raise Exception()"
   ]
  },
  {
   "cell_type": "code",
   "execution_count": null,
   "metadata": {},
   "outputs": [],
   "source": [
    "# path_to_serialised_experiment = PATH.Path(\"data/XXX/_experiment.pickle\")\n",
    "#path_to_serialised_experiment = \"/local/scratch/dle/datapro/data/Haswell_Thermal_2019-05-24_16-23-01/_experiment.pickle\"\n",
    "#path_to_serialised_experiment = \"/local/scratch/dle/datapro/data/Haswell_Thermal/_experiment.pickle\"\n",
    "#path_to_serialised_experiment = PATH.Path(\"data/Haswell_Thermal/_experiment.pickle\")\n",
    "path_to_serialised_experiment = PATH.Path(\"data/Test_Thermal/_experiment.pickle\")\n",
    "experiment = PerformanceExperiment.read(path_to_serialised_experiment, replace=False)"
   ]
  },
  {
   "cell_type": "markdown",
   "metadata": {},
   "source": [
    "#### 1. Eyeballing single runs to check if experiment went well\n",
    "##### 1a. Choose a run"
   ]
  },
  {
   "cell_type": "code",
   "execution_count": null,
   "metadata": {},
   "outputs": [],
   "source": [
    "phase = \"train\"\n",
    "symbol_rate = 1\n",
    "run = experiment.phases[phase][symbol_rate]; run"
   ]
  },
  {
   "cell_type": "markdown",
   "metadata": {},
   "source": [
    "##### 1a. Get available environments"
   ]
  },
  {
   "cell_type": "code",
   "execution_count": null,
   "metadata": {},
   "outputs": [],
   "source": [
    "run.parent.layers.io.get_available_environments()"
   ]
  },
  {
   "cell_type": "markdown",
   "metadata": {},
   "source": [
    "##### 1b. Get raw measurements\n",
    "\n",
    "- The `get_measurements` function requires the I/O layer to have at least the environment, and the repetition number configured.\n",
    "- `describe_measurements` will tell you what columns are available, with more detail."
   ]
  },
  {
   "cell_type": "code",
   "execution_count": null,
   "metadata": {},
   "outputs": [],
   "source": [
    "run.parent.layers.io.config.update(env=\"Radagast\", rep=0)\n",
    "measurements = run.parent.layers.io.get_measurements()\n",
    "print(run.parent.layers.io.describe_measurements(measurements))"
   ]
  },
  {
   "cell_type": "markdown",
   "metadata": {},
   "source": [
    "The raw measurements are packed into a pandas DataFrame and can be used for eyeballing the data."
   ]
  },
  {
   "cell_type": "markdown",
   "metadata": {},
   "source": [
    "##### 1.c Ingest the run\n",
    "\n",
    "To ingest the run, and pipe the measurements through the layers, you need to provide the necessary runtime configuration. Most of it is passed by default, with the notable exception of the *Matcher*.\n",
    "\n",
    "The *Matcher* defines which columns will be taken from the raw measurements and passed on to the layers. For the thermal channel, you'd use:\n",
    "\n",
    "```python\n",
    "env = \"Gandalf\"\n",
    "rep = 0\n",
    "core = 4\n",
    "matcher = wrangle.Matcher(\"thermal\", \"msr\", [\"core\"], [core])\n",
    "ingest_args = dict(io={\"env\": env, \"rep\": rep, \"matcher\": matcher})\n",
    "```\n",
    "\n",
    "You can also provide other parameters, e.g. the *decision device*. For eval runs, you'd have to get it from a train run, via `run.parent.layers.lne.decision_device` property."
   ]
  },
  {
   "cell_type": "code",
   "execution_count": null,
   "metadata": {},
   "outputs": [],
   "source": [
    "ingest_args = dict(\n",
    "  lne={\"decision_device\": sklearn.pipeline.make_pipeline(sklearn.preprocessing.StandardScaler(), \n",
    "                                                         sklearn.svm.LinearSVC())},\n",
    "  io={\"env\": 'Radagast', \"rep\": 0, \"matcher\": datapro.util.wrangle.Matcher(\"thermal\", \"msr\", [\"core\"], [2])}\n",
    "#  io={\"env\": 'Radagast', \"rep\": 0, \"matcher\": datapro.util.wrangle.Matcher(\"thermal\", \"msr\", [\"core\"], list(range(0,1)))}\n",
    ")\n",
    "run.ingest(**ingest_args)"
   ]
  },
  {
   "cell_type": "markdown",
   "metadata": {},
   "source": [
    "After running ingest, the run's input streams will be populated, and can be accessed via:\n",
    "\n",
    "- `run.i_bitstream`\n",
    "- `run.i_symstream`\n",
    "- `run.i_lnestream`\n",
    "- `run.i_rdpstream`\n",
    "- `run.i_rawstream`"
   ]
  },
  {
   "cell_type": "markdown",
   "metadata": {},
   "source": [
    "##### 1d. Plot raw measurements"
   ]
  },
  {
   "cell_type": "code",
   "execution_count": null,
   "metadata": {},
   "outputs": [],
   "source": [
    "run.plot_rawstream()"
   ]
  },
  {
   "cell_type": "markdown",
   "metadata": {},
   "source": [
    "##### 1f. Plot sliced trace"
   ]
  },
  {
   "cell_type": "code",
   "execution_count": null,
   "metadata": {},
   "outputs": [],
   "source": [
    "run.plot_slicing()"
   ]
  },
  {
   "cell_type": "markdown",
   "metadata": {},
   "source": [
    "#### 2. Analyse the whole experiment and get the final results."
   ]
  },
  {
   "cell_type": "markdown",
   "metadata": {},
   "source": [
    "#### 3. Develop new functionality or modify functionality online\n",
    "\n",
    "In order to allow more interactive development of the data analysis flow, methods can be changed online before they are pushed to the code-base. In the example below, the plot_rawstream method is updated, specifying different colours.\n",
    "\n",
    "Be aware that in this example, the plot_slicing method is only updated for this one particular run object. However, as the layers are owned by the experiment, changing an encode or decode method using this flow, affects all runs."
   ]
  },
  {
   "cell_type": "code",
   "execution_count": null,
   "metadata": {},
   "outputs": [],
   "source": [
    "from matplotlib import cm\n",
    "\n",
    "def plot_rawstream(self):\n",
    "    self.i_rawstream.plot(\n",
    "                           0, \n",
    "                           range(1,self.i_rawstream.shape[1]), \n",
    "                           subplots=True, \n",
    "                           cmap=cm.get_cmap('Spectral'), \n",
    "                           title=\"New rawstream plot\"\n",
    "                         )\n",
    "\n",
    "#-------------------------------------------------------------------------------------------------------------------\n",
    "#-------------------------------------------------------------------------------------------------------------------\n",
    "run.plot_rawstream()\n",
    "run.plot_rawstream = tp.MethodType(plot_rawstream, run)\n",
    "run.plot_rawstream()"
   ]
  }
 ],
 "metadata": {
  "kernelspec": {
   "display_name": "toolkit",
   "language": "python",
   "name": "toolkit"
  },
  "language_info": {
   "codemirror_mode": {
    "name": "ipython",
    "version": 3
   },
   "file_extension": ".py",
   "mimetype": "text/x-python",
   "name": "python",
   "nbconvert_exporter": "python",
   "pygments_lexer": "ipython3",
   "version": "3.7.2"
  }
 },
 "nbformat": 4,
 "nbformat_minor": 2
}
