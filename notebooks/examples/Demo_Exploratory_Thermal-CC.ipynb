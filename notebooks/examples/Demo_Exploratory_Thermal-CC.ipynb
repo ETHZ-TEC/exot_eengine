{
 "cells": [
  {
   "cell_type": "code",
   "execution_count": 1,
   "metadata": {},
   "outputs": [
    {
     "name": "stdout",
     "output_type": "stream",
     "text": [
      "Populating the interactive namespace from numpy and matplotlib\n"
     ]
    }
   ],
   "source": [
    "%pylab inline\n",
    "np.set_printoptions(linewidth=120)\n",
    "plt.rcParams[\"figure.figsize\"] = (18,10)\n",
    "plt.rcParams[\"legend.loc\"] = \"lower right\""
   ]
  },
  {
   "cell_type": "markdown",
   "metadata": {},
   "source": [
    "Set the path to the key file and change working-directory to the root directory of the dataprocessing framework"
   ]
  },
  {
   "cell_type": "code",
   "execution_count": 2,
   "metadata": {},
   "outputs": [
    {
     "data": {
      "text/plain": [
       "'/local/scratch/toolkit/datapro'"
      ]
     },
     "execution_count": 2,
     "metadata": {},
     "output_type": "execute_result"
    }
   ],
   "source": [
    "import os       \n",
    "os.environ['DATAPRO_KEY'] = \"/local/scratch/toolkit/benchmark_platforms_access/datapro_id_ed25519\"\n",
    "os.chdir('/local/scratch/toolkit/datapro/')\n",
    "os.getcwd()"
   ]
  },
  {
   "cell_type": "markdown",
   "metadata": {},
   "source": [
    "# Imports"
   ]
  },
  {
   "cell_type": "code",
   "execution_count": 3,
   "metadata": {},
   "outputs": [],
   "source": [
    "import toml    as TOML              # TOML library to handle config files\n",
    "import pandas  as pd                # Pandas for data manipulation\n",
    "import seaborn as sb                # Statistical data visualisation\n",
    "import pathlib as PATH              # Used to convert strings to path objects for (de-)serialisation\n",
    "import types   as tp                # Library used for online method development\n",
    "\n",
    "#from copy   import copy, deepcopy   # TODO\n",
    "#from pprint import pprint           # TODO\n",
    "\n",
    "# scikit-learn packets\n",
    "import sklearn.base                 #\n",
    "import sklearn.svm                  # LinearSVC, SVC\n",
    "import sklearn.pipeline             # make_pipeline\n",
    "import sklearn.preprocessing        # StandardScaler\n",
    "import sklearn.decomposition        # PCA\n",
    "import sklearn.naive_bayes          # GaussianNB\n",
    "import sklearn.metrics              # CM\n",
    "\n",
    "# DLE-Suite packets\n",
    "import datapro                       # Dataprocessing\n",
    "import datapro.experiment            # Experiment for execution\n",
    "import datapro.util                  # General utilities\n",
    "import datapro.layer                 # Data manipulation layers\n",
    "from datapro.util       import *\n",
    "from datapro.layer      import *\n",
    "from datapro.channel    import *\n",
    "from datapro.experiment import *\n",
    "\n",
    "from datapro.util.attributedict import AttributeDict"
   ]
  },
  {
   "cell_type": "markdown",
   "metadata": {},
   "source": [
    "# Generate Experiment\n",
    "#### 1. Load config"
   ]
  },
  {
   "cell_type": "code",
   "execution_count": 4,
   "metadata": {},
   "outputs": [
    {
     "name": "stdout",
     "output_type": "stream",
     "text": [
      "name = \"Example_Sweep_Thermal\"\n",
      "save_path = \"./data\"\n",
      "backup_path = \"./data/_backup\"\n",
      "experiment_exists_action = \"overwrite\"\n",
      "\n",
      "[EXPERIMENT]\n",
      "type = \"ExploratoryExperiment\"\n",
      "channel = \"Thermal\"\n",
      "\n",
      "[EXPERIMENT.PHASES]\n",
      "\n",
      "[EXPERIMENT.GENERAL]\n",
      "latency = 10\n",
      "fan = true\n",
      "governors = \"userspace\"\n",
      "frequencies = \"max\"\n",
      "sampling_period = 0.001\n",
      "delay_between_executions = 5.0\n",
      "delay_after_bootstrap = 30.0\n",
      "active_wait = false\n",
      "\n",
      "[EXPERIMENT.LAYERS.io]\n",
      "name = \"TimeValue\"\n",
      "\n",
      "[EXPERIMENT.LAYERS.io.params]\n",
      "timebase = \"ns\"\n",
      "\n",
      "[ENVIRONMENTS.Radagast.APPS.snk]\n",
      "executable = \"meter_thermal_msr\"\n",
      "zone = \"host\"\n",
      "\n",
      "[ENVIRONMENTS.Radagast.APPS.src]\n",
      "executable = \"generator_utilisation_mt\"\n",
      "zone = \"host\"\n",
      "\n",
      "[ENVIRONMENTS.Radagast.src.generator]\n",
      "cores = [ 5,]\n",
      "policy = \"round_robin\"\n",
      "priority = 99\n",
      "worker_priority = 98\n",
      "\n",
      "[ENVIRONMENTS.Radagast.src.logging]\n",
      "debug_log_filename = \"\"\n",
      "app_log_filename = \"\"\n",
      "log_level = \"info\"\n",
      "\n",
      "[ENVIRONMENTS.Radagast.src.schedule_reader]\n",
      "input_file = \"\"\n",
      "reading_from_file = true\n",
      "\n",
      "[ENVIRONMENTS.Radagast.snk.logging]\n",
      "debug_log_filename = \"\"\n",
      "app_log_filename = \"\"\n",
      "log_level = \"info\"\n",
      "\n",
      "[ENVIRONMENTS.Radagast.snk.thermal_msr]\n",
      "cores = [ 0, 2, 4, 6,]\n",
      "package = false\n",
      "\n",
      "[ENVIRONMENTS.Radagast.snk.host]\n",
      "period = 0.001\n",
      "policy = \"round_robin\"\n",
      "pinning = 0\n",
      "priority = 90\n",
      "log_header = true\n",
      "start_immediately = false\n",
      "\n"
     ]
    }
   ],
   "source": [
    "config = TOML.load(\"./configurations/examples/thermal-cc_exploratory.toml\")\n",
    "print(TOML.dumps(config))"
   ]
  },
  {
   "cell_type": "markdown",
   "metadata": {},
   "source": [
    "#### 2a Instantiate an experiment\n",
    "\n",
    "Experiment factory will take the type and channel from the config."
   ]
  },
  {
   "cell_type": "code",
   "execution_count": 5,
   "metadata": {},
   "outputs": [
    {
     "name": "stderr",
     "output_type": "stream",
     "text": [
      "2019-08-10 20:51:55 :: bootstrapped layer 'io' with TimeValue\n"
     ]
    }
   ],
   "source": [
    "channel    = ChannelFactory()(config[\"EXPERIMENT\"][\"channel\"])\n",
    "experiment = ExperimentFactory()(config[\"EXPERIMENT\"][\"type\"], config=config, channel=channel)"
   ]
  },
  {
   "cell_type": "markdown",
   "metadata": {},
   "source": [
    "#### 2b Define the phase traces (rdpstreams)\n",
    "For the exploratory experiments, the user can freely design his own traces, in the form of rdpstreams. Those streams are added to the experiment config and used to instantiate the runs.\n",
    "The rdpstreams will be deleted from the config during the generation process, to make sure that the serialised experiment does not get too big."
   ]
  },
  {
   "cell_type": "code",
   "execution_count": 6,
   "metadata": {},
   "outputs": [],
   "source": [
    "rdp_signals = [\n",
    "                  pd.DataFrame(\n",
    "                      # 10 periods of a rectangular waveform with 1Hz\n",
    "                      data=np.hstack([np.full([20,1], 0.50), np.resize([1,0],[20,1])]), \n",
    "                      columns=['timestamp', 't440p']\n",
    "                  ),\n",
    "                  pd.DataFrame(\n",
    "                      # 10 periods of a rectangular waveform with 2Hz\n",
    "                      data=np.hstack([np.full([20,1], 0.25), np.resize([1,0],[20,1])]), \n",
    "                      columns=['timestamp', 't440p']\n",
    "                  )\n",
    "              ]\n",
    "experiment.config.EXPERIMENT.PHASES = AttributeDict.from_dict(\n",
    "    {'test':{'rdpstreams':rdp_signals,'repetitions':2}}\n",
    ")"
   ]
  },
  {
   "cell_type": "markdown",
   "metadata": {},
   "source": [
    "#### 2a Generate the experiment"
   ]
  },
  {
   "cell_type": "code",
   "execution_count": 7,
   "metadata": {},
   "outputs": [
    {
     "name": "stderr",
     "output_type": "stream",
     "text": [
      "2019-08-10 20:51:55 :: Estimated duration of a single repetition of the test phase is 0:00:15\n",
      "2019-08-10 20:51:55 :: This results in a total estimated duration of 0:00:30 for all repetitions.\n"
     ]
    }
   ],
   "source": [
    "experiment.generate()\n",
    "experiment.print_duration()"
   ]
  },
  {
   "cell_type": "markdown",
   "metadata": {},
   "source": [
    "#### 3a. Eyeballing\n",
    "\n",
    "You can access the streams via specific properties."
   ]
  },
  {
   "cell_type": "code",
   "execution_count": 8,
   "metadata": {},
   "outputs": [
    {
     "data": {
      "text/plain": [
       "{'rdpstream':     timestamp  t440p\n",
       " 0         0.5    1.0\n",
       " 1         0.5    0.0\n",
       " 2         0.5    1.0\n",
       " 3         0.5    0.0\n",
       " 4         0.5    1.0\n",
       " 5         0.5    0.0\n",
       " 6         0.5    1.0\n",
       " 7         0.5    0.0\n",
       " 8         0.5    1.0\n",
       " 9         0.5    0.0\n",
       " 10        0.5    1.0\n",
       " 11        0.5    0.0\n",
       " 12        0.5    1.0\n",
       " 13        0.5    0.0\n",
       " 14        0.5    1.0\n",
       " 15        0.5    0.0\n",
       " 16        0.5    1.0\n",
       " 17        0.5    0.0\n",
       " 18        0.5    1.0\n",
       " 19        0.5    0.0, 'rawstream':     timestamp  t440p\n",
       " 0   500000000    1.0\n",
       " 1   500000000    0.0\n",
       " 2   500000000    1.0\n",
       " 3   500000000    0.0\n",
       " 4   500000000    1.0\n",
       " 5   500000000    0.0\n",
       " 6   500000000    1.0\n",
       " 7   500000000    0.0\n",
       " 8   500000000    1.0\n",
       " 9   500000000    0.0\n",
       " 10  500000000    1.0\n",
       " 11  500000000    0.0\n",
       " 12  500000000    1.0\n",
       " 13  500000000    0.0\n",
       " 14  500000000    1.0\n",
       " 15  500000000    0.0\n",
       " 16  500000000    1.0\n",
       " 17  500000000    0.0\n",
       " 18  500000000    1.0\n",
       " 19  500000000    0.0}"
      ]
     },
     "execution_count": 8,
     "metadata": {},
     "output_type": "execute_result"
    }
   ],
   "source": [
    "phase = \"test\"\n",
    "rdpstream_id = 0\n",
    "run = experiment.phases[phase][rdpstream_id]\n",
    "\n",
    "# Access output streams\n",
    "run.o_streams #-> mapping\n",
    "#run.o_{bit,sym,lne,rdp,raw}stream\n",
    "#print(\"-------------------------------- LNEstream -------------------------------------------------------\")\n",
    "#print(run.o_lnestream)\n",
    "#print(\"-------------------------------- RDPstream -------------------------------------------------------\")\n",
    "#print(run.o_rdpstream)\n",
    "#print(\"-------------------------------- Rawstream -------------------------------------------------------\")\n",
    "#print(run.o_rawstream)"
   ]
  },
  {
   "cell_type": "markdown",
   "metadata": {},
   "source": [
    "#### 4. Write\n",
    "\n",
    "Writes to disk, serialises the experiment, runs, and all streams."
   ]
  },
  {
   "cell_type": "code",
   "execution_count": 9,
   "metadata": {},
   "outputs": [
    {
     "name": "stderr",
     "output_type": "stream",
     "text": [
      "2019-08-10 20:51:55 :: experiment path 'data/Example_Sweep_Thermal' already exists, will be overwritten\n"
     ]
    }
   ],
   "source": [
    "experiment.write()"
   ]
  },
  {
   "cell_type": "markdown",
   "metadata": {},
   "source": [
    "## Execute\n",
    "\n",
    "Running `execute` will execute in all environments present in the configuration."
   ]
  },
  {
   "cell_type": "code",
   "execution_count": 10,
   "metadata": {},
   "outputs": [
    {
     "name": "stderr",
     "output_type": "stream",
     "text": [
      "2019-08-10 20:51:55 :: Connected (version 2.0, client OpenSSH_7.6p1)\n",
      "2019-08-10 20:51:55 :: Authentication (publickey) successful!\n",
      "2019-08-10 20:51:56 :: Radagast->host: connected: SSHUnixDriver\n",
      "2019-08-10 20:51:56 :: Radagast->host: sending experiment\n",
      "2019-08-10 20:51:57 :: Radagast->host: experiment sent!\n",
      "2019-08-10 20:51:57 :: Radagast->host: configuring to {'latency': 10, 'fan': True, 'governors': 'userspace', 'frequencies': 'max', 'sampling_period': 0.001, 'delay_between_executions': 5.0, 'delay_after_bootstrap': 30.0, 'active_wait': False}\n",
      "2019-08-10 20:52:30 :: executing in env: Radagast, rep: 0, estimated duration: 10.0s, run: <Run at 0x7fc851f61ac8 (digested, config={'phase': 'test', 'rdpstream_id': 0, 'repetitions': 2})>\n",
      "2019-08-10 20:52:43 :: Connected (version 2.0, client OpenSSH_7.6p1)\n",
      "2019-08-10 20:52:43 :: Authentication (publickey) successful!\n",
      "2019-08-10 20:52:48 :: executing in env: Radagast, rep: 1, estimated duration: 10.0s, run: <Run at 0x7fc851f61ac8 (digested, config={'phase': 'test', 'rdpstream_id': 0, 'repetitions': 2})>\n",
      "2019-08-10 20:53:02 :: Connected (version 2.0, client OpenSSH_7.6p1)\n",
      "2019-08-10 20:53:02 :: Authentication (publickey) successful!\n",
      "2019-08-10 20:53:09 :: Radagast->host: experiment logs fetched!\n",
      "2019-08-10 20:53:09 :: executing in env: Radagast, rep: 0, estimated duration: 5.0s, run: <Run at 0x7fc89449d400 (digested, config={'phase': 'test', 'rdpstream_id': 1, 'repetitions': 2})>\n",
      "2019-08-10 20:53:16 :: Connected (version 2.0, client OpenSSH_7.6p1)\n",
      "2019-08-10 20:53:16 :: Authentication (publickey) successful!\n",
      "2019-08-10 20:53:22 :: executing in env: Radagast, rep: 1, estimated duration: 5.0s, run: <Run at 0x7fc89449d400 (digested, config={'phase': 'test', 'rdpstream_id': 1, 'repetitions': 2})>\n",
      "2019-08-10 20:53:30 :: Connected (version 2.0, client OpenSSH_7.6p1)\n",
      "2019-08-10 20:53:30 :: Authentication (publickey) successful!\n",
      "2019-08-10 20:53:36 :: Radagast->host: experiment logs fetched!\n",
      "2019-08-10 20:53:36 :: Radagast->host: cleaning up\n",
      "2019-08-10 20:53:40 :: Radagast->host: disconnected\n"
     ]
    }
   ],
   "source": [
    "#print(\"Available environments are: \" + str(experiment.available_environments))\n",
    "#experiment.execute_in_environment(\"Gandalf\")\n",
    "experiment.execute_in_environment(\"Radagast\")"
   ]
  },
  {
   "cell_type": "markdown",
   "metadata": {},
   "source": [
    "## Analyse\n",
    "\n",
    "TODO: In the *analysis.local.ipynb* file in my workspace you can find a more complex example of an analysis.\n",
    "\n",
    "#### 0. (Optional) Load from serialised experiment\n",
    "\n",
    "Useful when you restarted the kernel, etc. Be aware that if you have the \"move\" option set up as the *experiment_exists_action* in the config, the older one will be timestamped and moved. To read it back, you can provide `replace=False` which handles the case where there are inconsistencies between the serialised experiment and the config files (primarily the experiment name, due to the timestamping). We discussed that quite a while ago, the result of the discussion was that the experiment should update itself with the config already present."
   ]
  },
  {
   "cell_type": "code",
   "execution_count": 11,
   "metadata": {},
   "outputs": [],
   "source": [
    "# path_to_serialised_experiment = PATH.Path(\"data/XXX/_experiment.pickle\")\n",
    "# TODO This is not working properly yet\n",
    "path_to_serialised_experiment = PATH.Path(\"data/Example_Sweep_Thermal/_experiment.pickle\")\n",
    "#experiment = FrequencySweepExperiment.read(path_to_serialised_experiment, replace=False)"
   ]
  },
  {
   "cell_type": "markdown",
   "metadata": {},
   "source": [
    "#### 1. Eyeballing single runs to check if experiment went well\n",
    "##### 1a. Choose a run"
   ]
  },
  {
   "cell_type": "code",
   "execution_count": 13,
   "metadata": {},
   "outputs": [
    {
     "data": {
      "text/plain": [
       "<Run at 0x7fc851f61ac8 (digested, config={'phase': 'test', 'rdpstream_id': 0, 'repetitions': 2})>"
      ]
     },
     "execution_count": 13,
     "metadata": {},
     "output_type": "execute_result"
    }
   ],
   "source": [
    "phase = \"test\"\n",
    "rdpstream_id = 0\n",
    "run = experiment.phases[phase][rdpstream_id]; run"
   ]
  },
  {
   "cell_type": "markdown",
   "metadata": {},
   "source": [
    "##### 1a. Get available environments"
   ]
  },
  {
   "cell_type": "code",
   "execution_count": 14,
   "metadata": {},
   "outputs": [
    {
     "data": {
      "text/plain": [
       "['Radagast']"
      ]
     },
     "execution_count": 14,
     "metadata": {},
     "output_type": "execute_result"
    }
   ],
   "source": [
    "run.parent.layers.io.get_available_environments()"
   ]
  },
  {
   "cell_type": "markdown",
   "metadata": {},
   "source": [
    "##### 1b. Get raw measurements\n",
    "\n",
    "- The `get_measurements` function requires the I/O layer to have at least the environment, and the repetition number configured.\n",
    "- `describe_measurements` will tell you what columns are available, with more detail."
   ]
  },
  {
   "cell_type": "code",
   "execution_count": 15,
   "metadata": {},
   "outputs": [
    {
     "name": "stdout",
     "output_type": "stream",
     "text": [
      "[{'module': 'host', 'value': 'timestamp', 'dimension': '', 'unit': 'ns', 'quantity': '', 'method': ''}, {'module': 'thermal_msr', 'value': 'core', 'dimension': '0', 'unit': '°C', 'quantity': 'thermal', 'method': 'msr'}, {'module': 'thermal_msr', 'value': 'core', 'dimension': '2', 'unit': '°C', 'quantity': 'thermal', 'method': 'msr'}, {'module': 'thermal_msr', 'value': 'core', 'dimension': '4', 'unit': '°C', 'quantity': 'thermal', 'method': 'msr'}, {'module': 'thermal_msr', 'value': 'core', 'dimension': '6', 'unit': '°C', 'quantity': 'thermal', 'method': 'msr'}]\n"
     ]
    }
   ],
   "source": [
    "run.parent.layers.io.config.update(env=\"Radagast\", rep=0)\n",
    "measurements = run.parent.layers.io.get_measurements()\n",
    "print(run.parent.layers.io.describe_measurements(measurements))"
   ]
  },
  {
   "cell_type": "markdown",
   "metadata": {},
   "source": [
    "The raw measurements are packed into a pandas DataFrame and can be used for eyeballing the data."
   ]
  },
  {
   "cell_type": "markdown",
   "metadata": {},
   "source": [
    "##### 1.c Ingest the run\n",
    "\n",
    "To ingest the run, and pipe the measurements through the layers, you need to provide the necessary runtime configuration. Most of it is passed by default, with the notable exception of the *Matcher*.\n",
    "\n",
    "The *Matcher* defines which columns will be taken from the raw measurements and passed on to the layers. For the thermal channel, you'd use:\n",
    "\n",
    "```python\n",
    "env = \"Gandalf\"\n",
    "rep = 0\n",
    "core = 4\n",
    "matcher = wrangle.Matcher(\"thermal\", \"msr\", [\"core\"], [core])\n",
    "ingest_args = dict(io={\"env\": env, \"rep\": rep, \"matcher\": matcher})\n",
    "```\n",
    "\n",
    "You can also provide other parameters, e.g. the *decision device*. For eval runs, you'd have to get it from a train run, via `run.parent.layers.lne.decision_device` property."
   ]
  },
  {
   "cell_type": "code",
   "execution_count": 16,
   "metadata": {},
   "outputs": [],
   "source": [
    "ingest_args = dict(\n",
    "#  io={\"env\": 'Radagast', \"rep\": 0, \"matcher\": datapro.util.wrangle.Matcher(\"thermal\", \"msr\", [\"core\"], [2])}\n",
    "  io={\"env\": 'Radagast', \"rep\": 0, \"matcher\": datapro.util.wrangle.Matcher(\"thermal\", \"msr\", [\"core\"], list(range(0,1)))}\n",
    ")\n",
    "run.ingest(**ingest_args)"
   ]
  },
  {
   "cell_type": "markdown",
   "metadata": {},
   "source": [
    "After running ingest, the run's input streams will be populated, and can be accessed via:\n",
    "\n",
    "- `run.i_lnestream`\n",
    "- `run.i_rdpstream`\n",
    "- `run.i_rawstream`"
   ]
  },
  {
   "cell_type": "markdown",
   "metadata": {},
   "source": [
    "##### 1d. Plot raw measurements"
   ]
  },
  {
   "cell_type": "code",
   "execution_count": 17,
   "metadata": {},
   "outputs": [
    {
     "data": {
      "image/png": "[encoded data removed]",
      "text/plain": [
       "<Figure size 864x144 with 1 Axes>"
      ]
     },
     "metadata": {
      "needs_background": "light"
     },
     "output_type": "display_data"
    }
   ],
   "source": [
    "from datapro.plotting.run_plotter import *\n",
    "\n",
    "with RunPlotter(run, save_pdf=False) as plotter:\n",
    "    plotter.plot_rawstream(start=0, end=10)"
   ]
  },
  {
   "cell_type": "code",
   "execution_count": null,
   "metadata": {},
   "outputs": [],
   "source": []
  }
 ],
 "metadata": {
  "kernelspec": {
   "display_name": "toolkit",
   "language": "python",
   "name": "toolkit"
  },
  "language_info": {
   "codemirror_mode": {
    "name": "ipython",
    "version": 3
   },
   "file_extension": ".py",
   "mimetype": "text/x-python",
   "name": "python",
   "nbconvert_exporter": "python",
   "pygments_lexer": "ipython3",
   "version": "3.7.2"
  }
 },
 "nbformat": 4,
 "nbformat_minor": 2
}
