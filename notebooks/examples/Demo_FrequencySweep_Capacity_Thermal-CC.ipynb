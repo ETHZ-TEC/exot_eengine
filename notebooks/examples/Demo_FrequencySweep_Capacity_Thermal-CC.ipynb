{
 "cells": [
  {
   "cell_type": "code",
   "execution_count": 10,
   "metadata": {},
   "outputs": [
    {
     "name": "stdout",
     "output_type": "stream",
     "text": [
      "Populating the interactive namespace from numpy and matplotlib\n"
     ]
    },
    {
     "name": "stderr",
     "output_type": "stream",
     "text": [
      "/local/home/miedlp/.pyenv/versions/3.7.1/envs/toolkit/lib/python3.7/site-packages/IPython/core/magics/pylab.py:160: UserWarning: pylab import has clobbered these variables: ['logging']\n",
      "`%matplotlib` prevents importing * from pylab and numpy\n",
      "  \"\\n`%matplotlib` prevents importing * from pylab and numpy\"\n"
     ]
    }
   ],
   "source": [
    "%pylab inline\n",
    "np.set_printoptions(linewidth=120)\n",
    "plt.rcParams[\"figure.figsize\"] = (18,10)\n",
    "plt.rcParams[\"legend.loc\"] = \"lower right\""
   ]
  },
  {
   "cell_type": "markdown",
   "metadata": {},
   "source": [
    "Set the path to the key file and change working-directory to the root directory of the dataprocessing framework"
   ]
  },
  {
   "cell_type": "code",
   "execution_count": 11,
   "metadata": {},
   "outputs": [
    {
     "data": {
      "text/plain": [
       "'/local/scratch/toolkit/datapro'"
      ]
     },
     "execution_count": 11,
     "metadata": {},
     "output_type": "execute_result"
    }
   ],
   "source": [
    "import os       \n",
    "os.environ['DATAPRO_KEY'] = \"/local/scratch/toolkit/benchmark_platforms_access/datapro_id_ed25519\"\n",
    "os.chdir('/local/scratch/toolkit/datapro/')\n",
    "os.getcwd()"
   ]
  },
  {
   "cell_type": "markdown",
   "metadata": {},
   "source": [
    "# Imports"
   ]
  },
  {
   "cell_type": "code",
   "execution_count": 12,
   "metadata": {},
   "outputs": [],
   "source": [
    "import toml    as TOML              # TOML library to handle config files\n",
    "import pandas  as pd                # Pandas for data manipulation\n",
    "import seaborn as sb                # Statistical data visualisation\n",
    "import pathlib as PATH              # Used to convert strings to path objects for (de-)serialisation\n",
    "import types   as tp                # Library used for online method development\n",
    "\n",
    "#from copy   import copy, deepcopy   # TODO\n",
    "#from pprint import pprint           # TODO\n",
    "\n",
    "# scikit-learn packets\n",
    "import sklearn.base                 #\n",
    "import sklearn.svm                  # LinearSVC, SVC\n",
    "import sklearn.pipeline             # make_pipeline\n",
    "import sklearn.preprocessing        # StandardScaler\n",
    "import sklearn.decomposition        # PCA\n",
    "import sklearn.naive_bayes          # GaussianNB\n",
    "import sklearn.metrics              # CM\n",
    "\n",
    "# DLE-Suite packets\n",
    "import datapro                       # Dataprocessing\n",
    "import datapro.experiment            # Experiment for execution\n",
    "import datapro.util                  # General utilities\n",
    "import datapro.layer                 # Data manipulation layers\n",
    "from datapro.util       import *\n",
    "from datapro.layer      import *\n",
    "from datapro.channel    import *\n",
    "from datapro.experiment import *"
   ]
  },
  {
   "cell_type": "markdown",
   "metadata": {},
   "source": [
    "# Generate Experiment\n",
    "#### 1. Load config"
   ]
  },
  {
   "cell_type": "code",
   "execution_count": 13,
   "metadata": {},
   "outputs": [
    {
     "name": "stdout",
     "output_type": "stream",
     "text": [
      "name = \"Example_Sweep_Thermal\"\n",
      "save_path = \"./data\"\n",
      "backup_path = \"./data/_backup\"\n",
      "experiment_exists_action = \"overwrite\"\n",
      "\n",
      "[EXPERIMENT]\n",
      "type = \"FrequencySweepExperiment\"\n",
      "channel = \"Thermal\"\n",
      "\n",
      "[EXPERIMENT.GENERAL]\n",
      "latency = 10\n",
      "fan = true\n",
      "governors = \"userspace\"\n",
      "frequencies = \"max\"\n",
      "sampling_period = 0.001\n",
      "delay_between_executions = 5.0\n",
      "delay_after_bootstrap = 30.0\n",
      "active_wait = false\n",
      "\n",
      "[EXPERIMENT.PHASES.sweep]\n",
      "length_seconds = 10\n",
      "frequencies = [ 0, 1, 2,]\n",
      "repetitions = 2\n",
      "\n",
      "[EXPERIMENT.LAYERS.rdp]\n",
      "name = \"CoreActivation\"\n",
      "\n",
      "[EXPERIMENT.LAYERS.io]\n",
      "name = \"TimeValue\"\n",
      "\n",
      "[EXPERIMENT.LAYERS.rdp.params]\n",
      "saturating = true\n",
      "\n",
      "[EXPERIMENT.LAYERS.io.params]\n",
      "\n",
      "[ENVIRONMENTS.Radagast.APPS.snk]\n",
      "executable = \"meter_thermal_msr\"\n",
      "zone = \"host\"\n",
      "\n",
      "[ENVIRONMENTS.Radagast.APPS.src]\n",
      "executable = \"generator_utilisation_mt\"\n",
      "zone = \"host\"\n",
      "\n",
      "[ENVIRONMENTS.Radagast.src.generator]\n",
      "cores = [ 5,]\n",
      "policy = \"round_robin\"\n",
      "priority = 99\n",
      "worker_priority = 98\n",
      "\n",
      "[ENVIRONMENTS.Radagast.src.logging]\n",
      "debug_log_filename = \"\"\n",
      "app_log_filename = \"\"\n",
      "log_level = \"info\"\n",
      "\n",
      "[ENVIRONMENTS.Radagast.src.schedule_reader]\n",
      "input_file = \"\"\n",
      "reading_from_file = true\n",
      "\n",
      "[ENVIRONMENTS.Radagast.snk.logging]\n",
      "debug_log_filename = \"\"\n",
      "app_log_filename = \"\"\n",
      "log_level = \"info\"\n",
      "\n",
      "[ENVIRONMENTS.Radagast.snk.thermal_msr]\n",
      "cores = [ 0, 2, 4, 6,]\n",
      "package = false\n",
      "\n",
      "[ENVIRONMENTS.Radagast.snk.host]\n",
      "period = 0.001\n",
      "policy = \"round_robin\"\n",
      "pinning = 0\n",
      "priority = 90\n",
      "log_header = true\n",
      "start_immediately = false\n",
      "\n",
      "[EXPERIMENT.LAYERS.rdp.params.saturate_mapping]\n",
      "1 = -1\n",
      "\n"
     ]
    }
   ],
   "source": [
    "config = TOML.load(\"./configurations/examples/thermal-cc_sweep_capacity.toml\")\n",
    "print(TOML.dumps(config))"
   ]
  },
  {
   "cell_type": "markdown",
   "metadata": {},
   "source": [
    "#### 2. Instantiate an experiment\n",
    "\n",
    "Experiment factory will take the type and channel from the config."
   ]
  },
  {
   "cell_type": "code",
   "execution_count": 14,
   "metadata": {},
   "outputs": [
    {
     "name": "stderr",
     "output_type": "stream",
     "text": [
      "2019-08-10 19:55:53 :: bootstrapped layer 'rdp' with CoreActivation\n",
      "2019-08-10 19:55:53 :: bootstrapped layer 'io' with TimeValue\n"
     ]
    }
   ],
   "source": [
    "channel    = ChannelFactory()(config[\"EXPERIMENT\"][\"channel\"])\n",
    "experiment = ExperimentFactory()(config[\"EXPERIMENT\"][\"type\"], config=config, channel=channel)"
   ]
  },
  {
   "cell_type": "code",
   "execution_count": 15,
   "metadata": {},
   "outputs": [
    {
     "name": "stderr",
     "output_type": "stream",
     "text": [
      "2019-08-10 19:55:53 :: Estimated duration of a single repetition of the sweep phase is 0:00:30\n",
      "2019-08-10 19:55:53 :: This results in a total estimated duration of 0:01:00 for all repetitions.\n"
     ]
    }
   ],
   "source": [
    "experiment.generate()\n",
    "experiment.print_duration()"
   ]
  },
  {
   "cell_type": "markdown",
   "metadata": {},
   "source": [
    "#### 3a. Eyeballing\n",
    "\n",
    "You can access the streams via specific properties."
   ]
  },
  {
   "cell_type": "code",
   "execution_count": 17,
   "metadata": {},
   "outputs": [
    {
     "data": {
      "text/plain": [
       "{'lnestream': array([0, 0, 0, 0, 0, 0, 0, 0, 0, 0]),\n",
       " 'rdpstream':    timestamp  t440p\n",
       " 0        1.0      0\n",
       " 1        1.0      0\n",
       " 2        1.0      0\n",
       " 3        1.0      0\n",
       " 4        1.0      0\n",
       " 5        1.0      0\n",
       " 6        1.0      0\n",
       " 7        1.0      0\n",
       " 8        1.0      0\n",
       " 9        1.0      0,\n",
       " 'rawstream':     timestamp  t440p\n",
       " 0  1000000000      0\n",
       " 1  1000000000      0\n",
       " 2  1000000000      0\n",
       " 3  1000000000      0\n",
       " 4  1000000000      0\n",
       " 5  1000000000      0\n",
       " 6  1000000000      0\n",
       " 7  1000000000      0\n",
       " 8  1000000000      0\n",
       " 9  1000000000      0}"
      ]
     },
     "execution_count": 17,
     "metadata": {},
     "output_type": "execute_result"
    }
   ],
   "source": [
    "phase = \"sweep\"\n",
    "frequency = 0\n",
    "run = experiment.phases[phase][frequency]\n",
    "\n",
    "# Access output streams\n",
    "run.o_streams #-> mapping\n",
    "#run.o_{bit,sym,lne,rdp,raw}stream\n",
    "#print(\"-------------------------------- LNEstream -------------------------------------------------------\")\n",
    "#print(run.o_lnestream)\n",
    "#print(\"-------------------------------- RDPstream -------------------------------------------------------\")\n",
    "#print(run.o_rdpstream)\n",
    "#print(\"-------------------------------- Rawstream -------------------------------------------------------\")\n",
    "#print(run.o_rawstream)"
   ]
  },
  {
   "cell_type": "code",
   "execution_count": 21,
   "metadata": {},
   "outputs": [
    {
     "data": {
      "text/plain": [
       "{'sweep': {'length_seconds': 10, 'frequencies': [0, 1, 2], 'repetitions': 2}}"
      ]
     },
     "execution_count": 21,
     "metadata": {},
     "output_type": "execute_result"
    }
   ],
   "source": [
    "experiment.config.EXPERIMENT.PHASES"
   ]
  },
  {
   "cell_type": "code",
   "execution_count": 20,
   "metadata": {},
   "outputs": [
    {
     "data": {
      "text/html": [
       "<div>\n",
       "<style scoped>\n",
       "    .dataframe tbody tr th:only-of-type {\n",
       "        vertical-align: middle;\n",
       "    }\n",
       "\n",
       "    .dataframe tbody tr th {\n",
       "        vertical-align: top;\n",
       "    }\n",
       "\n",
       "    .dataframe thead th {\n",
       "        text-align: right;\n",
       "    }\n",
       "</style>\n",
       "<table border=\"1\" class=\"dataframe\">\n",
       "  <thead>\n",
       "    <tr style=\"text-align: right;\">\n",
       "      <th></th>\n",
       "      <th>timestamp</th>\n",
       "      <th>t440p</th>\n",
       "    </tr>\n",
       "  </thead>\n",
       "  <tbody>\n",
       "    <tr>\n",
       "      <th>0</th>\n",
       "      <td>1.0</td>\n",
       "      <td>0</td>\n",
       "    </tr>\n",
       "    <tr>\n",
       "      <th>1</th>\n",
       "      <td>1.0</td>\n",
       "      <td>0</td>\n",
       "    </tr>\n",
       "    <tr>\n",
       "      <th>2</th>\n",
       "      <td>1.0</td>\n",
       "      <td>0</td>\n",
       "    </tr>\n",
       "    <tr>\n",
       "      <th>3</th>\n",
       "      <td>1.0</td>\n",
       "      <td>0</td>\n",
       "    </tr>\n",
       "    <tr>\n",
       "      <th>4</th>\n",
       "      <td>1.0</td>\n",
       "      <td>0</td>\n",
       "    </tr>\n",
       "    <tr>\n",
       "      <th>5</th>\n",
       "      <td>1.0</td>\n",
       "      <td>0</td>\n",
       "    </tr>\n",
       "    <tr>\n",
       "      <th>6</th>\n",
       "      <td>1.0</td>\n",
       "      <td>0</td>\n",
       "    </tr>\n",
       "    <tr>\n",
       "      <th>7</th>\n",
       "      <td>1.0</td>\n",
       "      <td>0</td>\n",
       "    </tr>\n",
       "    <tr>\n",
       "      <th>8</th>\n",
       "      <td>1.0</td>\n",
       "      <td>0</td>\n",
       "    </tr>\n",
       "    <tr>\n",
       "      <th>9</th>\n",
       "      <td>1.0</td>\n",
       "      <td>0</td>\n",
       "    </tr>\n",
       "  </tbody>\n",
       "</table>\n",
       "</div>"
      ],
      "text/plain": [
       "   timestamp  t440p\n",
       "0        1.0      0\n",
       "1        1.0      0\n",
       "2        1.0      0\n",
       "3        1.0      0\n",
       "4        1.0      0\n",
       "5        1.0      0\n",
       "6        1.0      0\n",
       "7        1.0      0\n",
       "8        1.0      0\n",
       "9        1.0      0"
      ]
     },
     "execution_count": 20,
     "metadata": {},
     "output_type": "execute_result"
    }
   ],
   "source": [
    "run.o_rdpstream"
   ]
  },
  {
   "cell_type": "markdown",
   "metadata": {},
   "source": [
    "#### 4. Write\n",
    "\n",
    "Writes to disk, serialises the experiment, runs, and all streams."
   ]
  },
  {
   "cell_type": "code",
   "execution_count": 8,
   "metadata": {},
   "outputs": [
    {
     "name": "stderr",
     "output_type": "stream",
     "text": [
      "2019-08-10 19:22:51 :: experiment path 'data/Example_Sweep_Thermal' already exists, will be overwritten\n"
     ]
    }
   ],
   "source": [
    "experiment.write()"
   ]
  },
  {
   "cell_type": "markdown",
   "metadata": {},
   "source": [
    "## Execute\n",
    "\n",
    "Running `execute` will execute in all environments present in the configuration."
   ]
  },
  {
   "cell_type": "code",
   "execution_count": 9,
   "metadata": {},
   "outputs": [
    {
     "name": "stderr",
     "output_type": "stream",
     "text": [
      "2019-08-10 19:22:51 :: Connected (version 2.0, client OpenSSH_7.6p1)\n",
      "2019-08-10 19:22:51 :: Authentication (publickey) successful!\n",
      "2019-08-10 19:22:52 :: Radagast->host: connected: SSHUnixDriver\n",
      "2019-08-10 19:22:52 :: Radagast->host: sending experiment\n",
      "2019-08-10 19:22:53 :: Radagast->host: experiment sent!\n",
      "2019-08-10 19:22:53 :: Radagast->host: configuring to {'latency': 10, 'fan': True, 'governors': 'userspace', 'frequencies': 'max', 'sampling_period': 0.001, 'delay_between_executions': 5.0, 'delay_after_bootstrap': 30.0, 'active_wait': False}\n",
      "2019-08-10 19:23:26 :: executing in env: Radagast, rep: 0, estimated duration: 10s, run: <Run at 0x7f08284d32e8 (digested, config={'phase': 'sweep', 'length_seconds': 10, 'frequency': 0, 'repetitions': 2})>\n",
      "2019-08-10 19:23:39 :: Connected (version 2.0, client OpenSSH_7.6p1)\n",
      "2019-08-10 19:23:39 :: Authentication (publickey) successful!\n",
      "2019-08-10 19:23:45 :: executing in env: Radagast, rep: 1, estimated duration: 10s, run: <Run at 0x7f08284d32e8 (digested, config={'phase': 'sweep', 'length_seconds': 10, 'frequency': 0, 'repetitions': 2})>\n",
      "2019-08-10 19:23:57 :: Connected (version 2.0, client OpenSSH_7.6p1)\n",
      "2019-08-10 19:23:57 :: Authentication (publickey) successful!\n",
      "2019-08-10 19:24:04 :: Radagast->host: experiment logs fetched!\n",
      "2019-08-10 19:24:04 :: executing in env: Radagast, rep: 0, estimated duration: 10s, run: <Run at 0x7f07e572dd30 (digested, config={'phase': 'sweep', 'length_seconds': 10, 'frequency': 1, 'repetitions': 2})>\n",
      "2019-08-10 19:24:16 :: Connected (version 2.0, client OpenSSH_7.6p1)\n",
      "2019-08-10 19:24:17 :: Authentication (publickey) successful!\n",
      "2019-08-10 19:24:22 :: executing in env: Radagast, rep: 1, estimated duration: 10s, run: <Run at 0x7f07e572dd30 (digested, config={'phase': 'sweep', 'length_seconds': 10, 'frequency': 1, 'repetitions': 2})>\n",
      "2019-08-10 19:24:35 :: Connected (version 2.0, client OpenSSH_7.6p1)\n",
      "2019-08-10 19:24:35 :: Authentication (publickey) successful!\n",
      "2019-08-10 19:24:41 :: Radagast->host: experiment logs fetched!\n",
      "2019-08-10 19:24:41 :: executing in env: Radagast, rep: 0, estimated duration: 10s, run: <Run at 0x7f07e5730fd0 (digested, config={'phase': 'sweep', 'length_seconds': 10, 'frequency': 2, 'repetitions': 2})>\n",
      "2019-08-10 19:24:53 :: Connected (version 2.0, client OpenSSH_7.6p1)\n",
      "2019-08-10 19:24:54 :: Authentication (publickey) successful!\n",
      "2019-08-10 19:24:59 :: executing in env: Radagast, rep: 1, estimated duration: 10s, run: <Run at 0x7f07e5730fd0 (digested, config={'phase': 'sweep', 'length_seconds': 10, 'frequency': 2, 'repetitions': 2})>\n",
      "2019-08-10 19:25:12 :: Connected (version 2.0, client OpenSSH_7.6p1)\n",
      "2019-08-10 19:25:12 :: Authentication (publickey) successful!\n",
      "2019-08-10 19:25:18 :: Radagast->host: experiment logs fetched!\n",
      "2019-08-10 19:25:18 :: Radagast->host: cleaning up\n",
      "2019-08-10 19:25:23 :: Radagast->host: disconnected\n"
     ]
    }
   ],
   "source": [
    "#print(\"Available environments are: \" + str(experiment.available_environments))\n",
    "#experiment.execute_in_environment(\"Gandalf\")\n",
    "experiment.execute_in_environment(\"Radagast\")"
   ]
  },
  {
   "cell_type": "markdown",
   "metadata": {},
   "source": [
    "## Analyse\n",
    "\n",
    "TODO: In the *analysis.local.ipynb* file in my workspace you can find a more complex example of an analysis.\n",
    "\n",
    "#### 0. (Optional) Load from serialised experiment\n",
    "\n",
    "Useful when you restarted the kernel, etc. Be aware that if you have the \"move\" option set up as the *experiment_exists_action* in the config, the older one will be timestamped and moved. To read it back, you can provide `replace=False` which handles the case where there are inconsistencies between the serialised experiment and the config files (primarily the experiment name, due to the timestamping). We discussed that quite a while ago, the result of the discussion was that the experiment should update itself with the config already present."
   ]
  },
  {
   "cell_type": "code",
   "execution_count": 10,
   "metadata": {},
   "outputs": [],
   "source": [
    "# path_to_serialised_experiment = PATH.Path(\"data/XXX/_experiment.pickle\")\n",
    "# TODO This is not working properly yet\n",
    "path_to_serialised_experiment = PATH.Path(\"data/Example_Sweep_Thermal/_experiment.pickle\")\n",
    "#experiment = FrequencySweepExperiment.read(path_to_serialised_experiment, replace=False)"
   ]
  },
  {
   "cell_type": "markdown",
   "metadata": {},
   "source": [
    "#### 1. Eyeballing single runs to check if experiment went well\n",
    "##### 1a. Choose a run"
   ]
  },
  {
   "cell_type": "code",
   "execution_count": 11,
   "metadata": {},
   "outputs": [
    {
     "data": {
      "text/plain": [
       "<Run at 0x7f08284d32e8 (digested, config={'phase': 'sweep', 'length_seconds': 10, 'frequency': 0, 'repetitions': 2})>"
      ]
     },
     "execution_count": 11,
     "metadata": {},
     "output_type": "execute_result"
    }
   ],
   "source": [
    "phase = \"sweep\"\n",
    "frequency = 0\n",
    "run = experiment.phases[phase][frequency]; run"
   ]
  },
  {
   "cell_type": "code",
   "execution_count": 12,
   "metadata": {},
   "outputs": [],
   "source": [
    "##### 1a. Get available environments"
   ]
  },
  {
   "cell_type": "code",
   "execution_count": 13,
   "metadata": {},
   "outputs": [
    {
     "data": {
      "text/plain": [
       "['Radagast']"
      ]
     },
     "execution_count": 13,
     "metadata": {},
     "output_type": "execute_result"
    }
   ],
   "source": [
    "run.parent.layers.io.get_available_environments()"
   ]
  },
  {
   "cell_type": "markdown",
   "metadata": {},
   "source": [
    "##### 1b. Get raw measurements\n",
    "\n",
    "- The `get_measurements` function requires the I/O layer to have at least the environment, and the repetition number configured.\n",
    "- `describe_measurements` will tell you what columns are available, with more detail."
   ]
  },
  {
   "cell_type": "code",
   "execution_count": 14,
   "metadata": {},
   "outputs": [
    {
     "name": "stdout",
     "output_type": "stream",
     "text": [
      "[{'module': 'host', 'value': 'timestamp', 'dimension': '', 'unit': 'ns', 'quantity': '', 'method': ''}, {'module': 'thermal_msr', 'value': 'core', 'dimension': '0', 'unit': '°C', 'quantity': 'thermal', 'method': 'msr'}, {'module': 'thermal_msr', 'value': 'core', 'dimension': '2', 'unit': '°C', 'quantity': 'thermal', 'method': 'msr'}, {'module': 'thermal_msr', 'value': 'core', 'dimension': '4', 'unit': '°C', 'quantity': 'thermal', 'method': 'msr'}, {'module': 'thermal_msr', 'value': 'core', 'dimension': '6', 'unit': '°C', 'quantity': 'thermal', 'method': 'msr'}]\n"
     ]
    }
   ],
   "source": [
    "run.parent.layers.io.config.update(env=\"Radagast\", rep=0)\n",
    "measurements = run.parent.layers.io.get_measurements()\n",
    "print(run.parent.layers.io.describe_measurements(measurements))"
   ]
  },
  {
   "cell_type": "markdown",
   "metadata": {},
   "source": [
    "The raw measurements are packed into a pandas DataFrame and can be used for eyeballing the data."
   ]
  },
  {
   "cell_type": "markdown",
   "metadata": {},
   "source": [
    "##### 1.c Ingest the run\n",
    "\n",
    "To ingest the run, and pipe the measurements through the layers, you need to provide the necessary runtime configuration. Most of it is passed by default, with the notable exception of the *Matcher*.\n",
    "\n",
    "The *Matcher* defines which columns will be taken from the raw measurements and passed on to the layers. For the thermal channel, you'd use:\n",
    "\n",
    "```python\n",
    "env = \"Gandalf\"\n",
    "rep = 0\n",
    "core = 4\n",
    "matcher = wrangle.Matcher(\"thermal\", \"msr\", [\"core\"], [core])\n",
    "ingest_args = dict(io={\"env\": env, \"rep\": rep, \"matcher\": matcher})\n",
    "```\n",
    "\n",
    "You can also provide other parameters, e.g. the *decision device*. For eval runs, you'd have to get it from a train run, via `run.parent.layers.lne.decision_device` property."
   ]
  },
  {
   "cell_type": "code",
   "execution_count": 15,
   "metadata": {},
   "outputs": [],
   "source": [
    "ingest_args = dict(\n",
    "#  io={\"env\": 'Radagast', \"rep\": 0, \"matcher\": datapro.util.wrangle.Matcher(\"thermal\", \"msr\", [\"core\"], [2])}\n",
    "  io={\"env\": 'Radagast', \"rep\": 0, \"matcher\": datapro.util.wrangle.Matcher(\"thermal\", \"msr\", [\"core\"], list(range(0,1)))}\n",
    ")\n",
    "run.ingest(**ingest_args)"
   ]
  },
  {
   "cell_type": "markdown",
   "metadata": {},
   "source": [
    "After running ingest, the run's input streams will be populated, and can be accessed via:\n",
    "\n",
    "- `run.i_lnestream`\n",
    "- `run.i_rdpstream`\n",
    "- `run.i_rawstream`"
   ]
  },
  {
   "cell_type": "markdown",
   "metadata": {},
   "source": [
    "##### 1d. Plot raw measurements"
   ]
  },
  {
   "cell_type": "code",
   "execution_count": 18,
   "metadata": {},
   "outputs": [
    {
     "ename": "Exception",
     "evalue": "NOT IMPLEMENTED YET",
     "output_type": "error",
     "traceback": [
      "\u001b[0;31m---------------------------------------------------------------------------\u001b[0m",
      "\u001b[0;31mException\u001b[0m                                 Traceback (most recent call last)",
      "\u001b[0;32m<ipython-input-18-f95cafaf6ca3>\u001b[0m in \u001b[0;36m<module>\u001b[0;34m\u001b[0m\n\u001b[0;32m----> 1\u001b[0;31m \u001b[0;32mraise\u001b[0m \u001b[0mException\u001b[0m\u001b[0;34m(\u001b[0m\u001b[0;34m\"NOT IMPLEMENTED YET\"\u001b[0m\u001b[0;34m)\u001b[0m\u001b[0;34m\u001b[0m\u001b[0;34m\u001b[0m\u001b[0m\n\u001b[0m\u001b[1;32m      2\u001b[0m \u001b[0;32mfrom\u001b[0m \u001b[0mdatapro\u001b[0m\u001b[0;34m.\u001b[0m\u001b[0manalysis\u001b[0m\u001b[0;34m.\u001b[0m\u001b[0mplotting\u001b[0m \u001b[0;32mimport\u001b[0m \u001b[0;34m*\u001b[0m\u001b[0;34m\u001b[0m\u001b[0;34m\u001b[0m\u001b[0m\n\u001b[1;32m      3\u001b[0m \u001b[0;34m\u001b[0m\u001b[0m\n\u001b[1;32m      4\u001b[0m \u001b[0;32mwith\u001b[0m \u001b[0mFrequencySweepPlotter\u001b[0m\u001b[0;34m(\u001b[0m\u001b[0mrun\u001b[0m\u001b[0;34m,\u001b[0m \u001b[0msave_pdf\u001b[0m\u001b[0;34m=\u001b[0m\u001b[0;32mFalse\u001b[0m\u001b[0;34m)\u001b[0m \u001b[0;32mas\u001b[0m \u001b[0mplotter\u001b[0m\u001b[0;34m:\u001b[0m\u001b[0;34m\u001b[0m\u001b[0;34m\u001b[0m\u001b[0m\n\u001b[1;32m      5\u001b[0m     \u001b[0mplotter\u001b[0m\u001b[0;34m.\u001b[0m\u001b[0mplot_rawstream\u001b[0m\u001b[0;34m(\u001b[0m\u001b[0mstart\u001b[0m\u001b[0;34m=\u001b[0m\u001b[0;36m0\u001b[0m\u001b[0;34m,\u001b[0m \u001b[0mend\u001b[0m\u001b[0;34m=\u001b[0m\u001b[0;36m10\u001b[0m\u001b[0;34m)\u001b[0m\u001b[0;34m\u001b[0m\u001b[0;34m\u001b[0m\u001b[0m\n",
      "\u001b[0;31mException\u001b[0m: NOT IMPLEMENTED YET"
     ]
    }
   ],
   "source": [
    "raise Exception(\"NOT IMPLEMENTED YET\")\n",
    "from datapro.analysis.plotting import *\n",
    "\n",
    "with FrequencySweepPlotter(run, save_pdf=False) as plotter:\n",
    "    plotter.plot_rawstream(start=0, end=10)"
   ]
  },
  {
   "cell_type": "code",
   "execution_count": null,
   "metadata": {},
   "outputs": [],
   "source": [
    "ffts = scinum.get_welch(run.parent.layers.io.get_measurements(),\n",
    "                        8192, timescale=1e-3) # 1e-9 for exp runs"
   ]
  },
  {
   "cell_type": "code",
   "execution_count": null,
   "metadata": {},
   "outputs": [],
   "source": [
    "f = plt.figure(figsize=(8,4))\n",
    "sns.lineplot(x='frequency:fft::Hz', y='value', hue='variable', data=ffts, alpha=0.8)\n",
    "plt.gca().set_xscale('log')\n",
    "plt.gca().set_yscale('log')\n",
    "plt.gca().grid()\n",
    "plt.gca().grid(which='minor', linestyle=\":\", alpha=0.5)\n",
    "plt.xlabel(\"Frequency (Hz)\")\n",
    "plt.ylabel(\"Power Spectral Density (K²/Hz)\")\n",
    "plt.gca().get_legend().texts[0].set_text(\"Source\")"
   ]
  },
  {
   "cell_type": "code",
   "execution_count": null,
   "metadata": {},
   "outputs": [],
   "source": []
  }
 ],
 "metadata": {
  "kernelspec": {
   "display_name": "toolkit",
   "language": "python",
   "name": "toolkit"
  },
  "language_info": {
   "codemirror_mode": {
    "name": "ipython",
    "version": 3
   },
   "file_extension": ".py",
   "mimetype": "text/x-python",
   "name": "python",
   "nbconvert_exporter": "python",
   "pygments_lexer": "ipython3",
   "version": "3.7.1"
  }
 },
 "nbformat": 4,
 "nbformat_minor": 2
}
